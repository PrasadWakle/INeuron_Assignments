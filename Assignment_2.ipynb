{
  "nbformat": 4,
  "nbformat_minor": 0,
  "metadata": {
    "colab": {
      "provenance": [],
      "authorship_tag": "ABX9TyPsoAu7bI/DVQxLcopfcO2A",
      "include_colab_link": true
    },
    "kernelspec": {
      "name": "python3",
      "display_name": "Python 3"
    },
    "language_info": {
      "name": "python"
    }
  },
  "cells": [
    {
      "cell_type": "markdown",
      "metadata": {
        "id": "view-in-github",
        "colab_type": "text"
      },
      "source": [
        "<a href=\"https://colab.research.google.com/github/PrasadWakle/INeuron_Assignments/blob/master/Assignment_2.ipynb\" target=\"_parent\"><img src=\"https://colab.research.google.com/assets/colab-badge.svg\" alt=\"Open In Colab\"/></a>"
      ]
    },
    {
      "cell_type": "markdown",
      "source": [
        "**1**. What are the two values of the Boolean data type? How do you write them?\n",
        "\n",
        "**Answer**: The two values of the Boolean data type are:\n",
        "\n",
        "1.True\n",
        "\n",
        "2.False\n",
        "\n",
        "They are written as True and False with the first letter of the word being capital."
      ],
      "metadata": {
        "id": "Eo0xPQrlIEMJ"
      }
    },
    {
      "cell_type": "markdown",
      "source": [
        "**2**. What are the three different types of Boolean operators?\n",
        "\n",
        "**Answer**: The three different types of Boolean operators are AND, OR and NOT.\n",
        "\n",
        "1) AND:\n",
        "*   Is is written is small case - and.\n",
        "*   AND is used when we want to check more than one statement. It is used to\n",
        "    combine terms to narrow a search.\n",
        "*   AND returns True if both the statements true else it returns False.\n",
        "*   Example:\n",
        "                x = 4\n",
        "                x > 2 and x < 10 will return True.\n",
        "\n",
        "2) OR:\n",
        "*   It is written as or.\n",
        "*   OR is used to check more than one statement. OR is used to broaden a search\n",
        "    by including multiple terms.\n",
        "*   OR returns True if any one of the statements is True else it will return\n",
        "    false\n",
        "*   Example:\n",
        "                x = 4\n",
        "                x > 1 or x < 3 will return True.\n",
        "\n",
        "3) NOT:\n",
        "\n",
        "\n",
        "*   It is written as not.\n",
        "*   NOT reverses the result. NOT is used to exclude a term from a search.\n",
        "*   Example:\n",
        "                x = 4\n",
        "                not(x > 2 and x < 10) will return False.\n",
        "\n",
        "\n",
        "\n",
        "\n",
        "\n",
        "\n",
        "\n",
        "\n",
        "\n",
        "\n",
        "\n"
      ],
      "metadata": {
        "id": "wfoddhrcKFVB"
      }
    },
    {
      "cell_type": "markdown",
      "source": [
        "**3**. Make a list of each Boolean operator&#39;s truth tables (i.e. every possible combination of Boolean values for the operator and what it evaluate).\n",
        "\n",
        "**Answer**:\n",
        "\n",
        "AND:\n",
        "\n",
        "    T && T -> T\n",
        "\n",
        "    T && F -> F\n",
        "\n",
        "    F && T -> F\n",
        "\n",
        "    F && F -> F\n",
        "\n",
        "OR:\n",
        "\n",
        "    T || T -> T\n",
        "\n",
        "    T || F -> T\n",
        "\n",
        "    F || T -> T\n",
        "\n",
        "    F || F -> F\n",
        "\n",
        "NOT:\n",
        "\n",
        "    !T -> F\n",
        "\n",
        "    !F -> T"
      ],
      "metadata": {
        "id": "4xQb065HPzOG"
      }
    },
    {
      "cell_type": "markdown",
      "source": [
        "**4**. What are the values of the following expressions?\n",
        "\n",
        "(5 &gt; 4) and (3 == 5)\n",
        "\n",
        "not (5 &gt; 4)\n",
        "\n",
        "(5 &gt; 4) or (3 == 5)\n",
        "\n",
        "not ((5 &gt; 4) or (3 == 5))\n",
        "\n",
        "(True and True) and (True == False)\n",
        "\n",
        "(not False) or (not True)\n",
        "\n",
        "**Answer**:\n",
        "\n",
        "1) (5 &gt; 4) and (3 == 5) --> will return False.\n",
        "\n",
        "2) not(5 &gt; 4) --> will return False.\n",
        "\n",
        "3) (5 &gt; 4) or (3 == 5) --> will return True.\n",
        "\n",
        "4) not((5 &gt; 4) or (3 == 5)) --> will return False.\n",
        "\n",
        "5) (True and True) and (True == False) --> will return False.\n",
        "\n",
        "6) (not False) or (not True) --> will return True."
      ],
      "metadata": {
        "id": "I-DpUprqRBgy"
      }
    },
    {
      "cell_type": "markdown",
      "source": [
        "**5**. What are the six comparison operators?\n",
        "\n",
        "**Answer**: The six comparison operators are:\n",
        "\n",
        "1) Equal to - ==\n",
        "\n",
        "2) Less than - <\n",
        "\n",
        "3) Greater than - >\n",
        "\n",
        "4) Less than or equal to - <=\n",
        "\n",
        "5) Greater than or equal to - >=\n",
        "\n",
        "6) Not equal - !="
      ],
      "metadata": {
        "id": "rreOEbVnSPHM"
      }
    },
    {
      "cell_type": "markdown",
      "source": [
        "**6**. How do you tell the difference between the equal to and assignment operators?Describe a condition and when you would use one.\n",
        "\n",
        "**Answer**: The equal to (==) operator is used to compare two values while the assigment operator (=) is used to assign a value to a variable.\n",
        "\n",
        "For example, if you want to assign a value to a variable x you will use assignment operator, x = 5. Now, let's say there is an another variable y whose value is also 5, y = 5. To check if the values of x and y are same you have to use equal to operator.\n",
        "\n",
        "    x == y\n",
        "\n",
        "It will return True as both the values are same else it will return False."
      ],
      "metadata": {
        "id": "1pJu_gOWTamw"
      }
    },
    {
      "cell_type": "markdown",
      "source": [
        "**7**. Identify the three blocks in this code:\n",
        "\n",
        "spam = 0\n",
        "\n",
        "if spam == 10:\n",
        "\n",
        "print(&#39;eggs&#39;)\n",
        "\n",
        "if spam &gt; 5:\n",
        "\n",
        "print(&#39;bacon&#39;)\n",
        "\n",
        "else:\n",
        "\n",
        "print(&#39;ham&#39;)\n",
        "\n",
        "print(&#39;spam&#39;)\n",
        "\n",
        "print(&#39;spam&#39;)\n",
        "\n",
        "**Answer**: The three blocks of code are:\n",
        "\n",
        "1) if block:\n",
        "\n",
        "        if spam == 10:\n",
        "           print('bacon')\n",
        "\n",
        "2) if block:\n",
        "\n",
        "        if spam > 5:\n",
        "          print('bacon')\n",
        "\n",
        "3) else block:\n",
        "\n",
        "        else:\n",
        "          print('ham')\n",
        "          print('spam')\n",
        "          print('spam')\n"
      ],
      "metadata": {
        "id": "D2n8Xv5NVL2a"
      }
    },
    {
      "cell_type": "markdown",
      "source": [
        "**8**. Write code that prints Hello if 1 is stored in spam, prints Howdy if 2 is stored in spam, and prints Greetings! if anything else is stored in spam."
      ],
      "metadata": {
        "id": "WUxDLyOxWibp"
      }
    },
    {
      "cell_type": "code",
      "source": [
        "spam = int(input(\"Enter a number:\"))\n",
        "\n",
        "if spam == 1:\n",
        "  print(\"hello\")\n",
        "elif spam == 2:\n",
        "  print(\"Howdy\")\n",
        "else:\n",
        "  print(\"Greetings!\")"
      ],
      "metadata": {
        "colab": {
          "base_uri": "https://localhost:8080/"
        },
        "id": "5RAqrZW_WrbJ",
        "outputId": "381e5648-7b4f-45eb-966e-4d45d8f5525f"
      },
      "execution_count": 1,
      "outputs": [
        {
          "output_type": "stream",
          "name": "stdout",
          "text": [
            "Enter a number:0\n",
            "Greetings!\n"
          ]
        }
      ]
    },
    {
      "cell_type": "markdown",
      "source": [
        "**9**. If your programme is stuck in an endless loop, what keys you’ll press?\n",
        "\n",
        "**Answer**: We can press CTRL + c to break out of the endless loop. In Jupyter Notebook or Google Colab we can on interrupt to break out of the endless loop."
      ],
      "metadata": {
        "id": "IsSpMgBwXA7d"
      }
    },
    {
      "cell_type": "markdown",
      "source": [
        "**10**.How can you tell the difference between break and continue?\n",
        "\n",
        "**Answer**: Break terminates the loop while continues skips the current iteration and continues with the next iteration."
      ],
      "metadata": {
        "id": "Qc0XKfdKkGjH"
      }
    },
    {
      "cell_type": "markdown",
      "source": [
        "**11**. In a for loop, what is the difference between range(10), range(0, 10), and range(0, 10, 1)?\n",
        "\n",
        "**Answer**: In a for loop there is no difference between the output of range(10), range(0,10) and range (0,10,1). The only difference between the three is that in range(10) implies a starting value is 0 and step size 1 by default while in range(0,10) we have explicitly mentioned the starting value and with step size being 1 by default in range(0,10,1) both the starting value and step size have been mentioned explicitly."
      ],
      "metadata": {
        "id": "4rYgwPI2kwTR"
      }
    },
    {
      "cell_type": "markdown",
      "source": [
        "**12**. Write a short program that prints the numbers 1 to 10 using a for loop. Then write an equivalent program that prints the numbers 1 to 10 using a while loop."
      ],
      "metadata": {
        "id": "cuodTqWum0m6"
      }
    },
    {
      "cell_type": "code",
      "source": [
        "#Printing numbers from 1 to 10 using for loop\n",
        "for i in range(1,11):\n",
        "  print(i, end=\" \")"
      ],
      "metadata": {
        "colab": {
          "base_uri": "https://localhost:8080/"
        },
        "id": "1Z_Wij7xm6qC",
        "outputId": "70cc4838-00f5-4993-88e9-f8afb4eac576"
      },
      "execution_count": null,
      "outputs": [
        {
          "output_type": "stream",
          "name": "stdout",
          "text": [
            "1 2 3 4 5 6 7 8 9 10 "
          ]
        }
      ]
    },
    {
      "cell_type": "code",
      "source": [
        "#Printing numbers from 1 to 10 using while loop\n",
        "\n",
        "i = 1\n",
        "\n",
        "while(i<=10):\n",
        "  print(i, end=\" \")\n",
        "  i+=1"
      ],
      "metadata": {
        "colab": {
          "base_uri": "https://localhost:8080/"
        },
        "id": "fyAh2_FTnDNU",
        "outputId": "bdf553a2-94f1-4786-83d0-4e3edb82a13b"
      },
      "execution_count": null,
      "outputs": [
        {
          "output_type": "stream",
          "name": "stdout",
          "text": [
            "1 2 3 4 5 6 7 8 9 10 "
          ]
        }
      ]
    },
    {
      "cell_type": "markdown",
      "source": [
        "**13**. If you had a function named bacon() inside a module named spam, how would you call it after importing spam?\n",
        "\n",
        "**Answer**: I can call function bacon() with the help of dot operator along with module name.\n",
        "\n",
        "    import spam\n",
        "\n",
        "    spam.bacon()"
      ],
      "metadata": {
        "id": "gwpZxTvSnif-"
      }
    }
  ]
}