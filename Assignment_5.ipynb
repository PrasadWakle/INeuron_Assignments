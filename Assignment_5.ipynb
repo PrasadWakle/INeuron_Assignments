{
  "nbformat": 4,
  "nbformat_minor": 0,
  "metadata": {
    "colab": {
      "provenance": [],
      "authorship_tag": "ABX9TyOdLYY3bdQWdCjstaEsw/dr",
      "include_colab_link": true
    },
    "kernelspec": {
      "name": "python3",
      "display_name": "Python 3"
    },
    "language_info": {
      "name": "python"
    }
  },
  "cells": [
    {
      "cell_type": "markdown",
      "metadata": {
        "id": "view-in-github",
        "colab_type": "text"
      },
      "source": [
        "<a href=\"https://colab.research.google.com/github/PrasadWakle/INeuron_Assignments/blob/master/Assignment_5.ipynb\" target=\"_parent\"><img src=\"https://colab.research.google.com/assets/colab-badge.svg\" alt=\"Open In Colab\"/></a>"
      ]
    },
    {
      "cell_type": "markdown",
      "source": [
        "**1**. What does an empty dictionary&#39;s code look like?\n",
        "\n",
        "**Answer**: The code of an empty dictionary looks as follows:\n",
        "1. One way is two use a pair of curly braces { }\n",
        "```\n",
        "dict = {}\n",
        "```\n",
        "\n",
        "2. Another way is to use \"dict( )\" constructor\n",
        "```\n",
        "dict = dict()\n",
        "```"
      ],
      "metadata": {
        "id": "eYv_2Dh8JGTu"
      }
    },
    {
      "cell_type": "markdown",
      "source": [
        "**2**. What is the value of a dictionary value with the key &#39;foo&#39; and the value 42?\n",
        "\n",
        "**Answer**:\n",
        "```\n",
        "dict = {'foo' : 42}\n",
        "```"
      ],
      "metadata": {
        "id": "666ev_E4J_2F"
      }
    },
    {
      "cell_type": "markdown",
      "source": [
        "**3**. What is the most significant distinction between a dictionary and a list?\n",
        "\n",
        "**Answer**: The most significant distinction between a dictionary and a list in Python is the way they store and access data. A dictionary is an ordered collection of key-value pairs, where each key must be unique. You can use the keys to access the values in the dictionary . On the other hand, a list is an ordered collection of elements, where each element can be accessed using its index ."
      ],
      "metadata": {
        "id": "N7svFGazMq3P"
      }
    },
    {
      "cell_type": "markdown",
      "source": [
        "**4**. What happens if you try to access spam[&#39;foo&#39;] if spam is {&#39;bar&#39;: 100}?\n",
        "\n",
        "**Answer**: I get a KeyError."
      ],
      "metadata": {
        "id": "9ZQ3mA59UyzB"
      }
    },
    {
      "cell_type": "markdown",
      "source": [
        "**5**. If a dictionary is stored in spam, what is the difference between the expressions &#39;cat&#39; in spam and\n",
        "&#39;cat&#39; in spam.keys()?\n",
        "\n",
        "**Answer**: There is no difference. If a dictionary is stored in a variable named spam, the expressions 'cat' in spam and 'cat' in spam.keys() are functionally equivalent. Both expressions check if the string 'cat' is one of the keys in the spam dictionary ."
      ],
      "metadata": {
        "id": "cyVQRd-2VAlK"
      }
    },
    {
      "cell_type": "markdown",
      "source": [
        "**6**. If a dictionary is stored in spam, what is the difference between the expressions &#39;cat&#39; in spam and\n",
        "&#39;cat&#39; in spam.values()?\n",
        "\n",
        "**Answer**:The expression `'cat' in spam` checks if there is a key 'cat' in spam and expression `'cat' in spam.values()` checks if there is a value 'cat' for one of the keys in spam."
      ],
      "metadata": {
        "id": "vCZu0rFlVA_Q"
      }
    },
    {
      "cell_type": "markdown",
      "source": [
        "**7**. What is a shortcut for the following code?\n",
        "```\n",
        "if 'color' not in spam:\n",
        "spam['color'] = 'black';\n",
        "```\n",
        "\n",
        "**Answer**: A shortcut for the code you provided is to use the setdefault() method of dictionaries. This method takes two arguments: a key and a default value. If the key is not already in the dictionary, the method adds the key with the specified default value to the dictionary. If the key is already in the dictionary, the method does nothing.\n",
        "\n",
        "```\n",
        "spam = {}\n",
        "spam.setdefault('color', 'black')\n",
        "print(spam) # Output: {'color': 'black'}\n",
        "```"
      ],
      "metadata": {
        "id": "b-75-Lh5WeqI"
      }
    },
    {
      "cell_type": "markdown",
      "source": [
        "**8**. How do you &quot;pretty print&quot; dictionary values using which module and function?\n",
        "\n",
        "**Answer**: You can “pretty print” dictionary values in Python using the pprint module and its pprint function."
      ],
      "metadata": {
        "id": "gRUptexwX4A9"
      }
    }
  ]
}