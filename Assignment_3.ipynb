{
  "nbformat": 4,
  "nbformat_minor": 0,
  "metadata": {
    "colab": {
      "provenance": [],
      "authorship_tag": "ABX9TyMf1Ss7eNzlA3YZ8eb6IV6r",
      "include_colab_link": true
    },
    "kernelspec": {
      "name": "python3",
      "display_name": "Python 3"
    },
    "language_info": {
      "name": "python"
    }
  },
  "cells": [
    {
      "cell_type": "markdown",
      "metadata": {
        "id": "view-in-github",
        "colab_type": "text"
      },
      "source": [
        "<a href=\"https://colab.research.google.com/github/PrasadWakle/INeuron_Assignments/blob/master/Assignment_3.ipynb\" target=\"_parent\"><img src=\"https://colab.research.google.com/assets/colab-badge.svg\" alt=\"Open In Colab\"/></a>"
      ]
    },
    {
      "cell_type": "markdown",
      "source": [
        "**1**. Why are functions advantageous to have in your programs?\n",
        "\n",
        "**Answer:** Functions are advantageous to have in your programs for several reasons. Here are some of the advantages of using functions in the code:\n",
        "\n",
        "* **Reduced Coding Time**: Functions reduce coding time by allowing you to write a\n",
        "routine once and call it multiple times, rather than coding the same routine multiple times.\n",
        "\n",
        "* **Reduced Debugging Time**: Functions also reduce debugging time by allowing you to make changes in one place, rather than having to make changes in multiple places.\n",
        "\n",
        "* **Enhanced Readability**: Functions enhance the readability of a program by breaking the code into smaller, organized, and reusable pieces.\n",
        "\n",
        "* **Avoid Duplication**: Functions help avoid duplication of effort and code in programs by allowing you to reuse the same code multiple times."
      ],
      "metadata": {
        "id": "9OuXR2SpHCRH"
      }
    },
    {
      "cell_type": "markdown",
      "source": [
        "**2**. When does the code in a function run: when it&#39;s specified or when it&#39;s called?\n",
        "\n",
        "**Answer**: The code in the function runs when it is called."
      ],
      "metadata": {
        "id": "WUyxkksi3ABh"
      }
    },
    {
      "cell_type": "markdown",
      "source": [
        "**3**. What statement creates a function?\n",
        "\n",
        "**Answer**: In Python \"def\" keyword creates a function."
      ],
      "metadata": {
        "id": "1WTGcEdl3VBl"
      }
    },
    {
      "cell_type": "markdown",
      "source": [
        "**4**. What is the difference between a function and a function call?\n",
        "\n",
        "**Answer**: A function is a block of code that is created to perform a specific task. It is defined using \"def\" keyword followed by function name, any parameters and the block of code which contains the statements that make up the body of function.\n",
        "\n",
        "  A function call is an expression that used to invoke a function causing it to execute. When a function is called the program control is transferred to the function and when the execution of the function is complete, control is returned to the point where the function was called."
      ],
      "metadata": {
        "id": "-RDsIXip4Bwu"
      }
    },
    {
      "cell_type": "markdown",
      "source": [
        "**5**. How many global scopes are there in a Python program? How many local scopes?\n",
        "\n",
        "**Answer**: There is only one global scope, which contains all the names defined at the top level of the program. These names are accessible from any part of the program. Each function has its own local scope, which contains all the names defined within the function. These names are only accessible within the function. When a function is called, a new local scope is created for that call. This means that if a function is called multiple times, each call will have its own local scope."
      ],
      "metadata": {
        "id": "p4svlxjB6E9Y"
      }
    },
    {
      "cell_type": "markdown",
      "source": [
        "**6**. What happens to variables in a local scope when the function call returns?\n",
        "\n",
        "**Answer**: When a function call returns, the local scope of the function is destroyed, and all the variables defined within that local scope are lost."
      ],
      "metadata": {
        "id": "UGYQuZxg8BpN"
      }
    },
    {
      "cell_type": "markdown",
      "source": [
        "**7**. What is the concept of a return value? Is it possible to have a return value in an expression?\n",
        "\n",
        "**Answer**: The concept of a return value refers to the value that a function returns to the caller when it completes its execution. When a function is called, it performs a specific task and then returns a value to the caller, which can be used as part of an expression or assigned to a variable. The return value of a function is specified using the return statement within the function body.\n",
        "\n",
        "Yes, it is possible to have a return value in an expression.When a function is called as part of an expression, its return value is used in place of the function call in the expression."
      ],
      "metadata": {
        "id": "rqo2uAhQ8XPH"
      }
    },
    {
      "cell_type": "markdown",
      "source": [
        "**8**. If a function does not have a return statement, what is the return value of a call to that function?\n",
        "\n",
        "**Answer**: If a function does not have a return statement, the return value of a call to that function is None in Python."
      ],
      "metadata": {
        "id": "sadSxou9-vTf"
      }
    },
    {
      "cell_type": "markdown",
      "source": [
        "**9**. How do you make a function variable refer to the global variable?\n",
        "\n",
        "**Answer**: If you want to refer to a global variable from within a function, you can use the global keyword. This keyword is used to declare that a variable is a global variable, and not a local variable."
      ],
      "metadata": {
        "id": "pYW1XpZk_qAt"
      }
    },
    {
      "cell_type": "markdown",
      "source": [
        "**10**. What is the data type of None?\n",
        "\n",
        "**Answer**: The data type of None is NoneType"
      ],
      "metadata": {
        "id": "hQxu9rGEAQqn"
      }
    },
    {
      "cell_type": "markdown",
      "source": [
        "**11**. What does the sentence import areallyourpetsnamederic do?\n",
        "\n",
        "**Answer**: The sentence import areallyourpetsnamederic is a statement that attempts to import a module named areallyourpetsnamederic."
      ],
      "metadata": {
        "id": "KzuNdIEOBbAd"
      }
    },
    {
      "cell_type": "markdown",
      "source": [
        "**12**. If you had a bacon() feature in a spam module, what would you call it after importing spam?\n",
        "\n",
        "**Answer**: If i had a bacon() feature in a spam module I would call it by using dot operator along with the module name like this: spam.bacon()."
      ],
      "metadata": {
        "id": "3drDtM-HBnF9"
      }
    },
    {
      "cell_type": "markdown",
      "source": [
        "**13**. What can you do to save a programme from crashing if it encounters an error?\n",
        "\n",
        "**Answer**:  One way to prevent a program from crashing is to handle exceptions that may occur during the execution of the program. This can be done by using try-except blocks in your code to catch and handle exceptions that may be raised. By handling exceptions, you can provide an alternative flow of execution to avoid crashing your program unexpectedly."
      ],
      "metadata": {
        "id": "-lWuMMxyCMoZ"
      }
    },
    {
      "cell_type": "markdown",
      "source": [
        "**14**. What is the purpose of the try clause? What is the purpose of the except clause?\n",
        "\n",
        "**Answer**: The try clause in a try-except block defines a block of code that may raise an exception. If an exception is raised, the execution of the try clause is stopped and control is passed to the except clause. The except clause defines a block of code that will be executed if an exception is raised within the try clause. This code can handle the exception, for example by logging it or displaying an error message."
      ],
      "metadata": {
        "id": "KuzwlqEpL7lq"
      }
    }
  ]
}