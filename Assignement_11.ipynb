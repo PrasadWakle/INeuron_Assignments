{
  "nbformat": 4,
  "nbformat_minor": 0,
  "metadata": {
    "colab": {
      "provenance": [],
      "authorship_tag": "ABX9TyNzpJsIKuezgV4UfSwIFd35",
      "include_colab_link": true
    },
    "kernelspec": {
      "name": "python3",
      "display_name": "Python 3"
    },
    "language_info": {
      "name": "python"
    }
  },
  "cells": [
    {
      "cell_type": "markdown",
      "metadata": {
        "id": "view-in-github",
        "colab_type": "text"
      },
      "source": [
        "<a href=\"https://colab.research.google.com/github/PrasadWakle/INeuron_Assignments/blob/master/Assignement_11.ipynb\" target=\"_parent\"><img src=\"https://colab.research.google.com/assets/colab-badge.svg\" alt=\"Open In Colab\"/></a>"
      ]
    },
    {
      "cell_type": "markdown",
      "source": [
        "**1**. Create an assert statement that throws an AssertionError if the variable spam is a negative integer."
      ],
      "metadata": {
        "id": "s2sqag26WYwm"
      }
    },
    {
      "cell_type": "code",
      "source": [
        "spam = int(input(\"Enter a positive number: \"))\n",
        "\n",
        "assert spam > 0"
      ],
      "metadata": {
        "colab": {
          "base_uri": "https://localhost:8080/",
          "height": 227
        },
        "id": "nlI722VCWfix",
        "outputId": "23f62343-0efb-403a-ec84-da562a6814f6"
      },
      "execution_count": 4,
      "outputs": [
        {
          "name": "stdout",
          "output_type": "stream",
          "text": [
            "Enter a positive number: -8\n"
          ]
        },
        {
          "output_type": "error",
          "ename": "AssertionError",
          "evalue": "ignored",
          "traceback": [
            "\u001b[0;31m---------------------------------------------------------------------------\u001b[0m",
            "\u001b[0;31mAssertionError\u001b[0m                            Traceback (most recent call last)",
            "\u001b[0;32m<ipython-input-4-7984d04deb68>\u001b[0m in \u001b[0;36m<cell line: 3>\u001b[0;34m()\u001b[0m\n\u001b[1;32m      1\u001b[0m \u001b[0mspam\u001b[0m \u001b[0;34m=\u001b[0m \u001b[0mint\u001b[0m\u001b[0;34m(\u001b[0m\u001b[0minput\u001b[0m\u001b[0;34m(\u001b[0m\u001b[0;34m\"Enter a positive number: \"\u001b[0m\u001b[0;34m)\u001b[0m\u001b[0;34m)\u001b[0m\u001b[0;34m\u001b[0m\u001b[0;34m\u001b[0m\u001b[0m\n\u001b[1;32m      2\u001b[0m \u001b[0;34m\u001b[0m\u001b[0m\n\u001b[0;32m----> 3\u001b[0;31m \u001b[0;32massert\u001b[0m \u001b[0mspam\u001b[0m \u001b[0;34m>\u001b[0m \u001b[0;36m0\u001b[0m\u001b[0;34m\u001b[0m\u001b[0;34m\u001b[0m\u001b[0m\n\u001b[0m",
            "\u001b[0;31mAssertionError\u001b[0m: "
          ]
        }
      ]
    },
    {
      "cell_type": "markdown",
      "source": [
        "**2**. Write an assert statement that triggers an AssertionError if the variables eggs and bacon contain strings that are the same as each other, even if their cases are different (that is, &#39;hello&#39; and &#39;hello&#39; are\n",
        "considered the same, and &#39;goodbye&#39; and &#39;GOODbye&#39; are also considered the same)."
      ],
      "metadata": {
        "id": "A4pdMz10XMa2"
      }
    },
    {
      "cell_type": "code",
      "source": [
        "eggs = \"goodbye\"\n",
        "bacon = \"GOODbye\"\n",
        "\n",
        "\n",
        "assert eggs.lower() != bacon.lower()"
      ],
      "metadata": {
        "colab": {
          "base_uri": "https://localhost:8080/",
          "height": 210
        },
        "id": "8Sg5EK1AWxyQ",
        "outputId": "2dd8f7c7-f95f-4a4f-e13c-1fc80b4a9d6a"
      },
      "execution_count": 14,
      "outputs": [
        {
          "output_type": "error",
          "ename": "AssertionError",
          "evalue": "ignored",
          "traceback": [
            "\u001b[0;31m---------------------------------------------------------------------------\u001b[0m",
            "\u001b[0;31mAssertionError\u001b[0m                            Traceback (most recent call last)",
            "\u001b[0;32m<ipython-input-14-33846a8ef9fb>\u001b[0m in \u001b[0;36m<cell line: 5>\u001b[0;34m()\u001b[0m\n\u001b[1;32m      3\u001b[0m \u001b[0;34m\u001b[0m\u001b[0m\n\u001b[1;32m      4\u001b[0m \u001b[0;34m\u001b[0m\u001b[0m\n\u001b[0;32m----> 5\u001b[0;31m \u001b[0;32massert\u001b[0m \u001b[0meggs\u001b[0m\u001b[0;34m.\u001b[0m\u001b[0mlower\u001b[0m\u001b[0;34m(\u001b[0m\u001b[0;34m)\u001b[0m \u001b[0;34m!=\u001b[0m \u001b[0mbacon\u001b[0m\u001b[0;34m.\u001b[0m\u001b[0mlower\u001b[0m\u001b[0;34m(\u001b[0m\u001b[0;34m)\u001b[0m\u001b[0;34m\u001b[0m\u001b[0;34m\u001b[0m\u001b[0m\n\u001b[0m",
            "\u001b[0;31mAssertionError\u001b[0m: "
          ]
        }
      ]
    },
    {
      "cell_type": "markdown",
      "source": [
        "3. Create an assert statement that throws an AssertionError every time."
      ],
      "metadata": {
        "id": "X7MRNaYJZ70p"
      }
    },
    {
      "cell_type": "code",
      "source": [
        "assert False, \"This assertion always fails\""
      ],
      "metadata": {
        "colab": {
          "base_uri": "https://localhost:8080/",
          "height": 175
        },
        "id": "rmPbtrPfhoOs",
        "outputId": "df509bbc-750f-4b3a-dbfd-5e33a9e8735c"
      },
      "execution_count": 18,
      "outputs": [
        {
          "output_type": "error",
          "ename": "AssertionError",
          "evalue": "ignored",
          "traceback": [
            "\u001b[0;31m---------------------------------------------------------------------------\u001b[0m",
            "\u001b[0;31mAssertionError\u001b[0m                            Traceback (most recent call last)",
            "\u001b[0;32m<ipython-input-18-123e146e2743>\u001b[0m in \u001b[0;36m<cell line: 1>\u001b[0;34m()\u001b[0m\n\u001b[0;32m----> 1\u001b[0;31m \u001b[0;32massert\u001b[0m \u001b[0;32mFalse\u001b[0m\u001b[0;34m,\u001b[0m \u001b[0;34m\"This assertion always fails\"\u001b[0m\u001b[0;34m\u001b[0m\u001b[0;34m\u001b[0m\u001b[0m\n\u001b[0m",
            "\u001b[0;31mAssertionError\u001b[0m: This assertion always fails"
          ]
        }
      ]
    },
    {
      "cell_type": "markdown",
      "source": [
        "**4**. What are the two lines that must be present in your software in order to call logging.debug()?\n",
        "\n",
        "**Answer**:\n",
        "```\n",
        "import logging\n",
        "logging.basicConfig(level = logging.DEBUG, format = %(asctime)s-%(levelname)s-%(message)s)\n",
        "```"
      ],
      "metadata": {
        "id": "9IH7ErKqipY5"
      }
    },
    {
      "cell_type": "markdown",
      "source": [
        "**5**. What are the two lines that your program must have in order to have logging.debug() send a logging message to a file named programLog.txt?\n",
        "\n",
        "**Answer**:\n",
        "```\n",
        "import logging\n",
        "logging.basicConfig(filename = \"programLog.txt\", level=logging.DEBUG, format = \"%(asctime)s-%(levelname)s-%(message)s\")\n",
        "```"
      ],
      "metadata": {
        "id": "QL-9U3uIj1AV"
      }
    },
    {
      "cell_type": "markdown",
      "source": [
        "**6**. What are the five levels of logging?\n",
        "\n",
        "**Answer**: The five levels of logging are:\n",
        "\n",
        "1. DEBUG\n",
        "2. INFO\n",
        "3. WARNING\n",
        "4. ERROR\n",
        "5. CRITICAL"
      ],
      "metadata": {
        "id": "fTIufl-njPzP"
      }
    },
    {
      "cell_type": "markdown",
      "source": [
        "**7**. What line of code would you add to your software to disable all logging messages?\n",
        "\n",
        "**Answer**: To disable all logging messages in your Python code, you can use the logging.disable() function from the logging module. This function takes a single argument, which is the level of logging messages to disable. For example, to disable all logging messages, you can use the following line of code:\n",
        "```\n",
        "import logging\n",
        "logging.disable(logging.CRITICAL)\n",
        "\n",
        "```\n",
        "This will disable all logging calls which are at level CRITICAL or below, effectively disabling all logging calls."
      ],
      "metadata": {
        "id": "HLWHaOcxkxpD"
      }
    },
    {
      "cell_type": "markdown",
      "source": [
        "**8**. Why is using logging messages better than using print() to display the same message?\n",
        "\n",
        "**Answer**: Using logging messages is better than using `print()` statements to display the same message for several reasons. Here are some of the advantages of using logging over `print()` statements:\n",
        "\n",
        "- **Flexibility**: The `logging` module provides a lot of flexibility in terms of where the log messages are sent, how they are formatted, and what information they contain. You can log messages to files, sockets, or any other output stream, and you can configure the logging system to output messages in different formats. With `print()` statements, you have less control over where the messages are sent and how they are formatted.\n",
        "- **Severity levels**: The `logging` module allows you to differentiate between log messages based on their severity level. This means that you can choose to only output log messages that meet a certain severity level, such as `ERROR` or `WARNING`, while ignoring less important messages such as `DEBUG` or `INFO`. With `print()` statements, all messages are treated equally and there is no way to filter them based on their importance.\n",
        "- **Easy to disable**: Logging messages can be easily disabled by changing the logging level or by calling the `logging.disable()` function. This means that you can turn off logging messages when your program is ready for production without having to remove or comment out any `print()` statements.\n",
        "- **Better for libraries**: If you are writing a library that will be used by other developers, it's considered bad practice to use `print()` statements because they can clutter the output of the program that is using your library. With logging, users of your library can choose whether or not they want to see log messages from your library and can configure the logging system accordingly.\n",
        "\n",
        "In summary, using logging messages provides more flexibility, control, and configurability than using `print()` statements."
      ],
      "metadata": {
        "id": "lubiPiIslkUK"
      }
    },
    {
      "cell_type": "markdown",
      "source": [
        "**9**. What are the differences between the Step Over, Step In, and Step Out buttons in the debugger?\n",
        "\n",
        "**Answer**: The Step Over, Step In, and Step Out buttons are commonly used in debuggers to control the execution flow of a program while debugging. Here are the differences between these three buttons:\n",
        "\n",
        "- **Step Over**: The Step Over button is used to execute the current line of code and then pause execution at the next line. If the current line contains a function call, the entire function is executed as a single step, and the debugger does not enter the function. This is useful when you want to skip over a function that you know is working correctly.\n",
        "\n",
        "- **Step In**: The Step In button is used to execute the current line of code and then pause execution at the first line of the next function that is called. If the current line does not contain a function call, the debugger will pause at the next line of code in the current function. This is useful when you want to debug a specific function call.\n",
        "\n",
        "- **Step Out**: The Step Out button is used to execute the remaining lines of code in the current function and then pause execution at the next line of code after the current function returns. This is useful when you have finished debugging a specific function and want to return to the calling function."
      ],
      "metadata": {
        "id": "Ebttq8sPmov9"
      }
    },
    {
      "cell_type": "markdown",
      "source": [
        "**10**. After you click Continue, when will the debugger stop ?\n",
        "\n",
        "**Answer**: After you click the Continue button in a debugger, the program will resume normal execution and the debugger will stop at the next breakpoint, if one is set. If there are no more breakpoints, the program will continue to run until it completes or encounters an error."
      ],
      "metadata": {
        "id": "DnSXPaMsn37X"
      }
    },
    {
      "cell_type": "markdown",
      "source": [
        "**11**. What is the concept of a breakpoint?\n",
        "\n",
        "**Answer**: A breakpoint is an intentional stopping or pausing place in a program, put in place for debugging purposes. It is also sometimes simply referred to as a pause. More generally, a breakpoint is a means of acquiring knowledge about a program during its execution. During the interruption, the programmer inspects the test environment to find out whether the program is functioning as expected."
      ],
      "metadata": {
        "id": "-sYaThq0ogCX"
      }
    }
  ]
}