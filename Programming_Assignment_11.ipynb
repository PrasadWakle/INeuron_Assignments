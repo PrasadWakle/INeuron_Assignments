{
  "nbformat": 4,
  "nbformat_minor": 0,
  "metadata": {
    "colab": {
      "provenance": [],
      "authorship_tag": "ABX9TyM5GgCqgrJoHypaF6qc5c+T",
      "include_colab_link": true
    },
    "kernelspec": {
      "name": "python3",
      "display_name": "Python 3"
    },
    "language_info": {
      "name": "python"
    }
  },
  "cells": [
    {
      "cell_type": "markdown",
      "metadata": {
        "id": "view-in-github",
        "colab_type": "text"
      },
      "source": [
        "<a href=\"https://colab.research.google.com/github/PrasadWakle/INeuron_Assignments/blob/master/Programming_Assignment_11.ipynb\" target=\"_parent\"><img src=\"https://colab.research.google.com/assets/colab-badge.svg\" alt=\"Open In Colab\"/></a>"
      ]
    },
    {
      "cell_type": "markdown",
      "source": [
        "**1**. Write a Python program to find words which are greater than given length k?"
      ],
      "metadata": {
        "id": "E5rLmEK15ocK"
      }
    },
    {
      "cell_type": "code",
      "source": [
        "import string\n",
        "\n",
        "k = int(input(\"Enter the length of word: \"))\n",
        "\n",
        "para = input(\"Enter the string: \")\n",
        "\n",
        "print(f\"\\nThe words greater than length {k} in the given string are:\")\n",
        "\n",
        "for i in para.split():\n",
        "  if len(i) > (k+1):\n",
        "    for j in i:\n",
        "      if j in string.punctuation:\n",
        "        i = i.replace(j,\"\")\n",
        "    print(i, end = \" \")"
      ],
      "metadata": {
        "colab": {
          "base_uri": "https://localhost:8080/"
        },
        "id": "Fx-kCKhf7DIq",
        "outputId": "683f945d-89f0-4e39-dfee-40693455cf18"
      },
      "execution_count": null,
      "outputs": [
        {
          "output_type": "stream",
          "name": "stdout",
          "text": [
            "Enter the length of word: 6\n",
            "Enter the string: The world is a beautiful place, full of wonder and excitement.  From the majestic mountains that reach towards the sky, to the vast oceans that stretch as far as the eye can see, there is so much to explore and discover.  The diversity of life on our planet is truly astounding, with creatures great and small inhabiting every corner of the globe.  Whether it's the colorful birds that soar through the air, or the tiny insects that crawl along the ground, each and every creature has its own unique beauty and charm.  It's a privilege to share this world with so many amazing beings.\n",
            "\n",
            "The words greater than length 6 in the given string are:\n",
            "beautiful excitement majestic mountains discover diversity astounding creatures inhabiting colorful creature privilege "
          ]
        }
      ]
    },
    {
      "cell_type": "code",
      "source": [
        "# Using list comprehension\n",
        "import string\n",
        "\n",
        "k = int(input(\"Enter the length of word: \"))\n",
        "\n",
        "para = input(\"Enter the string: \")\n",
        "\n",
        "my_list = [\"\".join([char for char in word if char not in string.punctuation]) for word in para.split() if len(word) > (k+1)]\n",
        "\n",
        "print(f\"\\nThe list words greater than length {k} in the given string is: {my_list}\")"
      ],
      "metadata": {
        "colab": {
          "base_uri": "https://localhost:8080/"
        },
        "id": "TAM4J2WrM09R",
        "outputId": "2d9baae5-5873-4353-9f0d-39fde522062d"
      },
      "execution_count": null,
      "outputs": [
        {
          "output_type": "stream",
          "name": "stdout",
          "text": [
            "Enter the length of word: 6\n",
            "Enter the string: The world is a beautiful place, full of wonder and excitement.  From the majestic mountains that reach towards the sky, to the vast oceans that stretch as far as the eye can see, there is so much to explore and discover.  The diversity of life on our planet is truly astounding, with creatures great and small inhabiting every corner of the globe.  Whether it's the colorful birds that soar through the air, or the tiny insects that crawl along the ground, each and every creature has its own unique beauty and charm.  It's a privilege to share this world with so many amazing beings.\n",
            "\n",
            "The list words greater than length 6 in the given string is: ['beautiful', 'excitement', 'majestic', 'mountains', 'discover', 'diversity', 'astounding', 'creatures', 'inhabiting', 'colorful', 'creature', 'privilege']\n"
          ]
        }
      ]
    },
    {
      "cell_type": "code",
      "source": [
        "# Third method using maketrans and translate methods\n",
        "\n",
        "def words(K,text):\n",
        "  import string\n",
        "\n",
        "  my_table = str.maketrans(\"\",\"\", string.punctuation)\n",
        "\n",
        "  no_punctaution = text.translate(my_table)\n",
        "\n",
        "  words = [word for word in text.split() if len(word) > (K+1)]\n",
        "\n",
        "  return words\n",
        "\n",
        "k = int(input(\"Enter the length of word: \"))\n",
        "\n",
        "para = input(\"Enter the string: \")\n",
        "\n",
        "print(f\"\\nThe list words greater than length {k} in the given string is: {words(k,para)}\")"
      ],
      "metadata": {
        "colab": {
          "base_uri": "https://localhost:8080/"
        },
        "id": "F8_BsobATRe-",
        "outputId": "a839202d-88d9-42aa-a690-8f2027194042"
      },
      "execution_count": null,
      "outputs": [
        {
          "output_type": "stream",
          "name": "stdout",
          "text": [
            "Enter the length of word: 6\n",
            "Enter the string: The world is a beautiful place, full of wonder and excitement.\n",
            "\n",
            "The list words greater than length 6 in the given string is: ['beautiful', 'excitement.']\n"
          ]
        }
      ]
    },
    {
      "cell_type": "markdown",
      "source": [
        "**2**. Write a Python program for removing i-th character from a string?"
      ],
      "metadata": {
        "id": "iw3b2Ac9fQfw"
      }
    },
    {
      "cell_type": "code",
      "source": [
        "text = input(\"Enter a string: \")\n",
        "\n",
        "ith_char = int(input(\"Enter the character number: \"))\n",
        "\n",
        "for i in range(len(text)):\n",
        "  if i == ith_char:\n",
        "    text = text.replace(text[i-1],\"\",1)\n",
        "\n",
        "print(f\"Your string after removing the {ith_char}th character:\\n{text}\")"
      ],
      "metadata": {
        "colab": {
          "base_uri": "https://localhost:8080/"
        },
        "id": "vonFZA_SZ3al",
        "outputId": "6015315d-afa1-4414-bcf5-0f93bda896dd"
      },
      "execution_count": null,
      "outputs": [
        {
          "output_type": "stream",
          "name": "stdout",
          "text": [
            "Enter a string: The world is a beautiful place, full of wonder and excitement.\n",
            "Enter the character number: 6\n",
            "Your string after removing the 6th character:\n",
            "The wrld is a beautiful place, full of wonder and excitement.\n"
          ]
        }
      ]
    },
    {
      "cell_type": "markdown",
      "source": [
        "**3**. Write a Python program to split and join a string?"
      ],
      "metadata": {
        "id": "LcN6z0kcIpg1"
      }
    },
    {
      "cell_type": "code",
      "source": [
        "text = \"The world is a beautiful place, full of wonder and excitement.\"\n",
        "\n",
        "print(f\"The given string after split: {text.split()}\")\n",
        "print(f\"The given string after joining it: {' '.join(text.split())}\")"
      ],
      "metadata": {
        "id": "VEwpDI8Saupd",
        "colab": {
          "base_uri": "https://localhost:8080/"
        },
        "outputId": "fdc22e66-fe3d-40f4-afca-7500d76b6918"
      },
      "execution_count": null,
      "outputs": [
        {
          "output_type": "stream",
          "name": "stdout",
          "text": [
            "The given string after split: ['The', 'world', 'is', 'a', 'beautiful', 'place,', 'full', 'of', 'wonder', 'and', 'excitement.']\n",
            "The given string after joining it: The world is a beautiful place, full of wonder and excitement.\n"
          ]
        }
      ]
    },
    {
      "cell_type": "markdown",
      "source": [
        "**4**. Write a Python to check if a given string is binary string or not?"
      ],
      "metadata": {
        "id": "2FTbM3jcLRU1"
      }
    },
    {
      "cell_type": "code",
      "source": [
        "text = input(\"Enter the binary string: \")\n",
        "\n",
        "result = all(char in [\"0\",\"1\"] for char in text)\n",
        "\n",
        "if result == True:\n",
        "  print(f\"The {text} is a binary string.\")\n",
        "else:\n",
        "  print(f\"The {text} is not a binary string.\")"
      ],
      "metadata": {
        "colab": {
          "base_uri": "https://localhost:8080/"
        },
        "id": "3fTY5POEJPVD",
        "outputId": "276b68bc-528c-47a1-ac45-c1b111b1b554"
      },
      "execution_count": null,
      "outputs": [
        {
          "output_type": "stream",
          "name": "stdout",
          "text": [
            "Enter the binary string: 1010010111010\n",
            "The 1010010111010 is a binary string.\n"
          ]
        }
      ]
    },
    {
      "cell_type": "markdown",
      "source": [
        "**5**. Write a Python program to find uncommon words from two Strings?"
      ],
      "metadata": {
        "id": "kr1lx8SpUpdr"
      }
    },
    {
      "cell_type": "code",
      "source": [
        "text1 = \"Full Stack Data Science from INeuron 2023\"\n",
        "text2 = \"Full Stack Data Science BootCamp 2.0\"\n",
        "\n",
        "set1 = set(text1.split())\n",
        "set2 = set(text2.split())\n",
        "uncommon_words = set1.symmetric_difference(set2)\n",
        "\n",
        "print(\"Uncommon words in both the strings are:\")\n",
        "\n",
        "for word in uncommon_words:\n",
        "    print(word)\n"
      ],
      "metadata": {
        "colab": {
          "base_uri": "https://localhost:8080/"
        },
        "id": "lQuHQBCfoVgc",
        "outputId": "0f066db1-893f-4d38-fbac-f8c940c25898"
      },
      "execution_count": 62,
      "outputs": [
        {
          "output_type": "stream",
          "name": "stdout",
          "text": [
            "Uncommon words in both the strings are:\n",
            "2023\n",
            "BootCamp\n",
            "2.0\n",
            "INeuron\n",
            "from\n"
          ]
        }
      ]
    },
    {
      "cell_type": "markdown",
      "source": [
        "**6**. Write a Python to find all duplicate characters in string?"
      ],
      "metadata": {
        "id": "UzOY1duTxU0q"
      }
    },
    {
      "cell_type": "code",
      "source": [
        "text = \"daaaaatascience\"\n",
        "\n",
        "text_set = set()\n",
        "\n",
        "\n",
        "for i in text:\n",
        "  if text.count(i) > 1:\n",
        "    text_set.add(i)\n",
        "\n",
        "print(\"The duplicate characters in the given string are:\", end=\" \")\n",
        "\n",
        "for i in text_set:\n",
        "  print(i, end=\" \")"
      ],
      "metadata": {
        "colab": {
          "base_uri": "https://localhost:8080/"
        },
        "id": "oTKTwOKsr7f4",
        "outputId": "05bc86b4-7e36-47d5-e377-edf78c5f55de"
      },
      "execution_count": 121,
      "outputs": [
        {
          "output_type": "stream",
          "name": "stdout",
          "text": [
            "The duplicate characters in the given string are: a e c "
          ]
        }
      ]
    },
    {
      "cell_type": "code",
      "source": [
        "# Second Method\n",
        "text = \"daaaaatascience\"\n",
        "\n",
        "char_counts = {}\n",
        "\n",
        "for i in text:\n",
        "  char_counts[i] = (char_counts.get(i,0)+1)\n",
        "\n",
        "duplicates = [i for i,j in char_counts.items() if j > 1]\n",
        "\n",
        "print(f\"The duplicate characters in the given string are: {duplicates}\")"
      ],
      "metadata": {
        "colab": {
          "base_uri": "https://localhost:8080/"
        },
        "id": "PSGHQVQb5lmZ",
        "outputId": "9626b0cc-858b-4ee3-82c5-b65297a65975"
      },
      "execution_count": 133,
      "outputs": [
        {
          "output_type": "stream",
          "name": "stdout",
          "text": [
            "The duplicate characters in the given string are: ['a', 'c', 'e']\n"
          ]
        }
      ]
    },
    {
      "cell_type": "markdown",
      "source": [
        "**7**. Write a Python Program to check if a string contains any special character?"
      ],
      "metadata": {
        "id": "bEESc_xtAZBT"
      }
    },
    {
      "cell_type": "code",
      "source": [
        "import string\n",
        "\n",
        "text = \"The cost of the item is $10.99, but with a 20% discount, it’s only $8.79!.\"\n",
        "\n",
        "sp_chars = set()\n",
        "\n",
        "for i in text:\n",
        "  if i in string.punctuation:\n",
        "    sp_chars.add(i)\n",
        "\n",
        "print(f\"The special characters in the given string are: \", end=\" \")\n",
        "\n",
        "for i in sp_chars:\n",
        "  print(i, end = \" \")"
      ],
      "metadata": {
        "colab": {
          "base_uri": "https://localhost:8080/"
        },
        "id": "X3ZqIcKU67cF",
        "outputId": "0ee57387-94c3-4c8a-e209-d0e3156b89b4"
      },
      "execution_count": 143,
      "outputs": [
        {
          "output_type": "stream",
          "name": "stdout",
          "text": [
            "The special characters in the given string are:  ! $ % , . "
          ]
        }
      ]
    }
  ]
}