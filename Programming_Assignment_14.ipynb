{
  "nbformat": 4,
  "nbformat_minor": 0,
  "metadata": {
    "colab": {
      "provenance": [],
      "authorship_tag": "ABX9TyMXNdPF2dES0NzQs5oGl6AY",
      "include_colab_link": true
    },
    "kernelspec": {
      "name": "python3",
      "display_name": "Python 3"
    },
    "language_info": {
      "name": "python"
    }
  },
  "cells": [
    {
      "cell_type": "markdown",
      "metadata": {
        "id": "view-in-github",
        "colab_type": "text"
      },
      "source": [
        "<a href=\"https://colab.research.google.com/github/PrasadWakle/INeuron_Assignments/blob/master/Programming_Assignment_14.ipynb\" target=\"_parent\"><img src=\"https://colab.research.google.com/assets/colab-badge.svg\" alt=\"Open In Colab\"/></a>"
      ]
    },
    {
      "cell_type": "markdown",
      "source": [
        "Question 1:\n",
        "\n",
        "Define a class with a generator which can iterate the numbers, which are divisible by 7, between a given range 0 and n."
      ],
      "metadata": {
        "id": "md7Xv-B3m33r"
      }
    },
    {
      "cell_type": "code",
      "execution_count": null,
      "metadata": {
        "colab": {
          "base_uri": "https://localhost:8080/"
        },
        "id": "D7FWnfUfmrr9",
        "outputId": "9aa09967-1276-4752-a39d-8a6e73f330b4"
      },
      "outputs": [
        {
          "output_type": "stream",
          "name": "stdout",
          "text": [
            "Enter the range: 20\n",
            "The numbers divisible by 7 in the given range are: \n",
            "0\n",
            "7\n",
            "14\n"
          ]
        }
      ],
      "source": [
        "class seven_multiples:\n",
        "  def __init__(self,range):\n",
        "    self.range = range\n",
        "\n",
        "  def getnum(self):\n",
        "    for i in range(self.range):\n",
        "      if i % 7 == 0:\n",
        "        yield i\n",
        "\n",
        "num_range = int(input(\"Enter the range: \"))\n",
        "\n",
        "numbers = seven_multiples(num_range)\n",
        "\n",
        "print(\"The numbers divisible by 7 in the given range are: \")\n",
        "for i in numbers.getnum():\n",
        "  print(i)"
      ]
    },
    {
      "cell_type": "markdown",
      "source": [
        "Question 2:\n",
        "\n",
        "Write a program to compute the frequency of the words from the input. The output\n",
        "should output after sorting the key alphanumerically.\n",
        "\n",
        "Suppose the following input is supplied to the program:\n",
        "\n",
        "New to Python or choosing between Python 2 and Python 3? Read Python 2 or\n",
        "Python 3.\n",
        "\n",
        "Then, the output should be:\n",
        "\n",
        "2:2\n",
        "\n",
        "3.:1\n",
        "\n",
        "3?:1\n",
        "\n",
        "New:1\n",
        "\n",
        "Python:5\n",
        "\n",
        "Read:1\n",
        "\n",
        "and:1\n",
        "\n",
        "between:1\n",
        "\n",
        "choosing:1\n",
        "\n",
        "or:2\n",
        "\n",
        "to:1"
      ],
      "metadata": {
        "id": "KEpmgqvYrdGS"
      }
    },
    {
      "cell_type": "code",
      "source": [
        "sentence = input(\"Enter a sentence: \").split()\n",
        "\n",
        "words = sorted(sentence)\n",
        "\n",
        "frequency_dict = {}\n",
        "\n",
        "for i in words:\n",
        "  frequency_dict[i] = (frequency_dict.get(i,0)+1)\n",
        "\n",
        "print(\"The frequency of words from given input is:\")\n",
        "for i,j in frequency_dict.items():\n",
        "  print(i,':',j)"
      ],
      "metadata": {
        "colab": {
          "base_uri": "https://localhost:8080/"
        },
        "id": "rEAyoSHVqOqa",
        "outputId": "2521ced6-5017-46a1-bd17-45f61b8883db"
      },
      "execution_count": null,
      "outputs": [
        {
          "output_type": "stream",
          "name": "stdout",
          "text": [
            "Enter a sentence: New to Python or choosing between Python 2 and Python 3? Read Python 2 or Python 3.\n",
            "The frequency of words from given input is:\n",
            "2 : 2\n",
            "3. : 1\n",
            "3? : 1\n",
            "New : 1\n",
            "Python : 5\n",
            "Read : 1\n",
            "and : 1\n",
            "between : 1\n",
            "choosing : 1\n",
            "or : 2\n",
            "to : 1\n"
          ]
        }
      ]
    },
    {
      "cell_type": "markdown",
      "source": [
        "Question 3:\n",
        "\n",
        "Define a class Person and its two child classes: Male and Female. All classes have a method &quot;getGender&quot; which can print &quot;Male&quot; for Male class and &quot;Female&quot; for Female class."
      ],
      "metadata": {
        "id": "2HpHduiIucNR"
      }
    },
    {
      "cell_type": "code",
      "source": [
        "class Person:\n",
        "\n",
        "  class Male:\n",
        "\n",
        "    def getGender(self):\n",
        "      print(\"Male\")\n",
        "\n",
        "  class Female:\n",
        "\n",
        "    def getGender(self):\n",
        "      print(\"Female\")\n",
        "\n",
        "person1 = Person.Male()\n",
        "person2 = Person.Female()\n",
        "\n",
        "person1.getGender()\n",
        "person2.getGender()"
      ],
      "metadata": {
        "colab": {
          "base_uri": "https://localhost:8080/"
        },
        "id": "UyeMgOWprzAR",
        "outputId": "8ade8f72-a695-456d-b574-762d580768c0"
      },
      "execution_count": null,
      "outputs": [
        {
          "output_type": "stream",
          "name": "stdout",
          "text": [
            "Male\n",
            "Female\n"
          ]
        }
      ]
    },
    {
      "cell_type": "markdown",
      "source": [
        "Question 4:\n",
        "Please write a program to generate all sentences where subject is in [&quot;I&quot;, &quot;You&quot;] and verb is in [&quot;Play&quot;, &quot;Love&quot;] and the object is in [&quot;Hockey&quot;,&quot;Football&quot;]."
      ],
      "metadata": {
        "id": "NT9k6aRIyBMD"
      }
    },
    {
      "cell_type": "code",
      "source": [
        "subjects =  [\"I\", \"You\"]\n",
        "verbs = [\"Play\", \"Love\"]\n",
        "objects = [\"Hockey\",\"Football\"]\n",
        "\n",
        "sentences = []\n",
        "\n",
        "for i in subjects:\n",
        "  for j in verbs:\n",
        "    for k in objects:\n",
        "      sentence = f\"{i} {j} {k}\"\n",
        "      sentences.append(sentence)\n",
        "\n",
        "print(\"The sentences are:\")\n",
        "\n",
        "for i in sentences:\n",
        "  print(i)"
      ],
      "metadata": {
        "colab": {
          "base_uri": "https://localhost:8080/"
        },
        "id": "NfWjLy2uxA14",
        "outputId": "21f717c1-5935-4b62-ecdc-291e6b902c56"
      },
      "execution_count": null,
      "outputs": [
        {
          "output_type": "stream",
          "name": "stdout",
          "text": [
            "The sentences are:\n",
            "I Play Hockey\n",
            "I Play Football\n",
            "I Love Hockey\n",
            "I Love Football\n",
            "You Play Hockey\n",
            "You Play Football\n",
            "You Love Hockey\n",
            "You Love Football\n"
          ]
        }
      ]
    },
    {
      "cell_type": "markdown",
      "source": [
        "Question 5:\n",
        "Please write a program to compress and decompress the string &quot;hello world!hello world!hello world!hello world!&quot;."
      ],
      "metadata": {
        "id": "SLkiwZYYzlsS"
      }
    },
    {
      "cell_type": "code",
      "source": [
        "import zlib\n",
        "\n",
        "string_to_compress = \"hello world!hello world!hello world!hello world!\"\n",
        "\n",
        "bytes_to_compress = bytes(string_to_compress,\"utf-8\")\n",
        "\n",
        "compressed_bytes = zlib.compress(bytes_to_compress)\n",
        "\n",
        "print(f\"Compressed String: {compressed_bytes}\")\n",
        "\n",
        "decompressed_bytes = zlib.decompress(compressed_bytes)\n",
        "\n",
        "decompressed_string = decompressed_bytes.decode(\"utf-8\")\n",
        "\n",
        "print(f\"Decompressed String: {decompressed_string}\")\n",
        "\n",
        "assert string_to_compress == decompressed_string"
      ],
      "metadata": {
        "colab": {
          "base_uri": "https://localhost:8080/"
        },
        "id": "wbQNyLaty9eT",
        "outputId": "efcc57d8-cc8b-4812-80c7-85485636927d"
      },
      "execution_count": null,
      "outputs": [
        {
          "output_type": "stream",
          "name": "stdout",
          "text": [
            "Compressed String: b'x\\x9c\\xcbH\\xcd\\xc9\\xc9W(\\xcf/\\xcaIQ\\xcc \\x82\\r\\x00\\xbd[\\x11\\xf5'\n",
            "Decompressed String: hello world!hello world!hello world!hello world!\n"
          ]
        }
      ]
    },
    {
      "cell_type": "markdown",
      "source": [
        "Question 6:\n",
        "Please write a binary search function which searches an item in a sorted list. The function should return the index of element to be searched in the list."
      ],
      "metadata": {
        "id": "pUly5K-n1-ot"
      }
    },
    {
      "cell_type": "code",
      "source": [
        "def binary_search(l,item):\n",
        "  low = 0\n",
        "  high = len(l) - 1\n",
        "\n",
        "  while low <= high:\n",
        "    mid = (low+high)//2\n",
        "    guess = mid\n",
        "\n",
        "    if guess == item:\n",
        "      return mid\n",
        "    if guess > item:\n",
        "      high = mid - 1\n",
        "    else:\n",
        "      low = mid + 1\n",
        "  return None\n",
        "\n",
        "L = [1,2,3,4,5,6,7,8,9]\n",
        "item = 6\n",
        "result = binary_search(L,item)\n",
        "\n",
        "if result == None:\n",
        "  print(\"Number not found in the list.\")\n",
        "else:\n",
        "  print(f\"The index of the number {item} is {result}\")"
      ],
      "metadata": {
        "id": "zxcdDqrQPHRp",
        "colab": {
          "base_uri": "https://localhost:8080/"
        },
        "outputId": "4e4bbe7d-2eea-4872-99f4-35e6732f49f0"
      },
      "execution_count": null,
      "outputs": [
        {
          "output_type": "stream",
          "name": "stdout",
          "text": [
            "The index of the number 6 is 6\n"
          ]
        }
      ]
    },
    {
      "cell_type": "code",
      "source": [],
      "metadata": {
        "id": "wWlPMDGdSWgT"
      },
      "execution_count": null,
      "outputs": []
    }
  ]
}