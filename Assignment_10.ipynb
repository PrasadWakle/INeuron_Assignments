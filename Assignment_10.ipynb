{
  "nbformat": 4,
  "nbformat_minor": 0,
  "metadata": {
    "colab": {
      "provenance": [],
      "authorship_tag": "ABX9TyPJ+XVRxxTfTMVc2n0HDJ6a",
      "include_colab_link": true
    },
    "kernelspec": {
      "name": "python3",
      "display_name": "Python 3"
    },
    "language_info": {
      "name": "python"
    }
  },
  "cells": [
    {
      "cell_type": "markdown",
      "metadata": {
        "id": "view-in-github",
        "colab_type": "text"
      },
      "source": [
        "<a href=\"https://colab.research.google.com/github/PrasadWakle/INeuron_Assignments/blob/master/Assignment_10.ipynb\" target=\"_parent\"><img src=\"https://colab.research.google.com/assets/colab-badge.svg\" alt=\"Open In Colab\"/></a>"
      ]
    },
    {
      "cell_type": "markdown",
      "source": [
        "**1**. How do you distinguish between shutil.copy( ) and shutil.copytree( )?\n",
        "**Answer**: The shutil module in Python provides many functions for high-level operations on files and collections of files. The shutil.copy( ) function is used to copy a single file from the source to the destination, while the shutil.copytree( ) function is used to recursively copy an entire directory tree rooted at the source to the destination directory. The destination directory, named by dst, must not already exist as it will be created during copying."
      ],
      "metadata": {
        "id": "loesXY3S_DxH"
      }
    },
    {
      "cell_type": "markdown",
      "source": [
        "**2**. What function is used to rename files??\n",
        "**Answer**:In the shutil module, you can use the shutil.move() function to rename a file or directory.\n",
        "```\n",
        "import shutil\n",
        "shutil.move('old_file.txt', 'new_file.txt')\n",
        "\n",
        "```"
      ],
      "metadata": {
        "id": "3eT3l7MYAHNC"
      }
    },
    {
      "cell_type": "markdown",
      "source": [
        "**3**. What is the difference between the delete functions in the send2trash and shutil modules?\n",
        "\n",
        "**Answer**: The shutil.rmtree() function can be used to delete a directory and all its contents1. However, this function permanently deletes the files and directories, and the operation cannot be undone if there were any accidental deletions performed. The send2trash.send2trash() function sends the specified file or directory to the Trash or Recycle Bin instead of permanently deleting it. This allows you to recover the deleted files or directories if necessary by restoring them from the Trash or Recycle Bin. The main difference between the delete functions in the shutil and send2trash modules is that shutil.rmtree() permanently deletes files and directories, while send2trash.send2trash() sends them to the Trash or Recycle Bin where they can be recovered if needed."
      ],
      "metadata": {
        "id": "XWcc23fYDYy8"
      }
    },
    {
      "cell_type": "markdown",
      "source": [
        "**4**.ZipFile objects have a close() method just like File objects’ close() method. What ZipFile method is equivalent to File objects’ open() method?\n",
        "\n",
        "**Answer**:  The zipfile.ZipFile() constructor can be used to open a ZIP file, where the first argument file can be a path to a file (a string), a file-like object, or a path-like object. The mode parameter should be 'r' to read an existing file, 'w' to truncate and write a new file, 'a' to append to an existing file, or 'x' to exclusively create and write a new file.\n",
        "\n",
        "For example,\n",
        "```\n",
        "import zipfile\n",
        "with zipfile.ZipFile('example.zip', 'r') as myzip:\n",
        "    # do something with myzip\n",
        "\n",
        "```"
      ],
      "metadata": {
        "id": "2S4Pld81EARs"
      }
    },
    {
      "cell_type": "markdown",
      "source": [
        "**5**. Create a programme that searches a folder tree for files with a certain file extension (such as .pdf or .jpg). Copy these files from whatever location they are in to a new folder."
      ],
      "metadata": {
        "id": "Q_T2ntivHRae"
      }
    },
    {
      "cell_type": "code",
      "source": [
        "import os\n",
        "import shutil\n",
        "\n",
        "source = \"/content\"\n",
        "destination = \"/content/sample_data\"\n",
        "\n",
        "print(\"Source directory before moving the pdf and word files\")\n",
        "print(os.listdir(source),\"\\n\")\n",
        "\n",
        "print(\"Destination directory before moving the pdf and word files\")\n",
        "print(os.listdir(destination),\"\\n\")\n",
        "\n",
        "files_list = []\n",
        "\n",
        "for i in os.listdir(source):\n",
        "  ext = os.path.splitext(i)[1].lower()\n",
        "\n",
        "  if ext in [\".pdf\",\".docx\"]:\n",
        "    files_list.append(i)\n",
        "\n",
        "for i in files_list:\n",
        "  shutil.move(os.path.join(source, i), destination)\n",
        "\n",
        "print(\"Source directory after moving the pdf and word files\")\n",
        "print(os.listdir(source),\"\\n\")\n",
        "\n",
        "print(\"Destination directory after moving the pdf and word files\")\n",
        "print(os.listdir(destination))"
      ],
      "metadata": {
        "colab": {
          "base_uri": "https://localhost:8080/"
        },
        "id": "k68Q7-87HZTj",
        "outputId": "d4077a60-d4a8-4d50-e5f2-6edcf184148d"
      },
      "execution_count": 25,
      "outputs": [
        {
          "output_type": "stream",
          "name": "stdout",
          "text": [
            "Source directory before moving the pdf and word files\n",
            "['.config', 'Assignment_9.pdf', 'Assignment_2.docx', 'sample_data'] \n",
            "\n",
            "Destination directory before moving the pdf and word files\n",
            "['README.md', 'anscombe.json', 'california_housing_test.csv', 'mnist_test.csv', 'california_housing_train.csv', 'mnist_train_small.csv'] \n",
            "\n",
            "Source directory after moving the pdf and word files\n",
            "['.config', 'sample_data'] \n",
            "\n",
            "Destination directory after moving the pdf and word files\n",
            "['README.md', 'anscombe.json', 'Assignment_9.pdf', 'Assignment_2.docx', 'california_housing_test.csv', 'mnist_test.csv', 'california_housing_train.csv', 'mnist_train_small.csv']\n"
          ]
        }
      ]
    },
    {
      "cell_type": "code",
      "source": [],
      "metadata": {
        "id": "zKd46avUT1Jf"
      },
      "execution_count": null,
      "outputs": []
    }
  ]
}