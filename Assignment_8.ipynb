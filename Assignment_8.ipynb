{
  "nbformat": 4,
  "nbformat_minor": 0,
  "metadata": {
    "colab": {
      "provenance": [],
      "authorship_tag": "ABX9TyN+CtJsOEXFwqGVtdYD5Apm",
      "include_colab_link": true
    },
    "kernelspec": {
      "name": "python3",
      "display_name": "Python 3"
    },
    "language_info": {
      "name": "python"
    }
  },
  "cells": [
    {
      "cell_type": "markdown",
      "metadata": {
        "id": "view-in-github",
        "colab_type": "text"
      },
      "source": [
        "<a href=\"https://colab.research.google.com/github/PrasadWakle/INeuron_Assignments/blob/master/Assignment_8.ipynb\" target=\"_parent\"><img src=\"https://colab.research.google.com/assets/colab-badge.svg\" alt=\"Open In Colab\"/></a>"
      ]
    },
    {
      "cell_type": "markdown",
      "source": [
        "**1.** Is the Python Standard Library included with PyInputPlus?\n",
        "\n",
        "**Answer**: No, PyInputPlus is not included with the Python Standard Library. You need to install it by running the command `pip install PyInputPlus`."
      ],
      "metadata": {
        "id": "PxPcktuUT2tJ"
      }
    },
    {
      "cell_type": "markdown",
      "source": [
        "**2**. Why is PyInputPlus commonly imported with import pyinputplus as pypi?\n",
        "\n",
        "**Answer**: PyInputPlus is commonly imported with the statement import pyinputplus as pyip to make it easier to use the functions provided by the module. The as pyip part of the statement creates an alias for the pyinputplus module, allowing you to use the shorter name pyip instead of the longer name pyinputplus when calling its functions. This can make your code more concise and easier to read.\n",
        "\n",
        "For example, instead of writing pyinputplus.inputInt(), you can write pyip.inputInt() after importing the module with the statement import pyinputplus as pyip. This is a common practice in Python programming, and many modules are often imported with an alias to make them easier to use.\n",
        "\n",
        "It’s important to note that the alias you choose is up to you, and you can use any name you like. However, it’s a good idea to choose a short and descriptive name that makes it clear what the module does. In this case, pyip is a commonly used alias for PyInputPlus because it’s short and easy to remember."
      ],
      "metadata": {
        "id": "ftUxaY0lUJx1"
      }
    },
    {
      "cell_type": "markdown",
      "source": [
        "**3**. How do you distinguish between inputInt() and inputFloat()?\n",
        "\n",
        "**Answer**: The main difference between inputInt( ) and inputFloat( ) functions is the type of number they accept and return.\n",
        "\n",
        "inputInt() prompts the user to enter an integer value, which is a whole number without a decimal point. If the user enters a valid integer, the function returns the value as an int data type. If the user enters a non-integer value, such as a floating-point number or a string, the function will display an error message and prompt the user to try again.\n",
        "\n",
        "inputFloat(), on the other hand, prompts the user to enter a floating-point value, which is a number that can have a decimal point. If the user enters a valid floating-point number, the function returns the value as a float data type. Like inputInt(), if the user enters an invalid value, the function will display an error message and prompt the user to try again."
      ],
      "metadata": {
        "id": "uGHESjARV8RM"
      }
    },
    {
      "cell_type": "markdown",
      "source": [
        "**4**. Using PyInputPlus, how do you ensure that the user enters a whole number between 0 and 99?\n",
        "\n",
        "**Answer**: You can use the inputInt() function provided by the PyInputPlus module to ensure that the user enters a whole number between 0 and 99. This function allows you to specify a minimum and maximum value for the input using the min and max parameters, respectively. Here is an example of how you can use inputInt() to prompt the user for a whole number between 0 and 99.\n",
        "```\n",
        "import pyinputplus as pyip\n",
        "\n",
        "number = pyip.inputInt(prompt='Enter a whole number between 0 and 99: ', min=0, max=99)\n",
        "\n",
        "```"
      ],
      "metadata": {
        "id": "rW8ivlNuWcjC"
      }
    },
    {
      "cell_type": "markdown",
      "source": [
        "**5**. What is transferred to the keyword arguments allowRegexes and blockRegexes?\n",
        "\n",
        "**Answer**: The allowRegexes argument takes a list of regular expression strings that define patterns the input is allowed to match. If the input matches any of the regular expressions in the allowRegexes list, it is considered valid even if it would otherwise be rejected by the function’s built-in validation rules.\n",
        "\n",
        "The blockRegexes argument takes a list of regular expression strings that define patterns the input is not allowed to match. If the input matches any of the regular expressions in the blockRegexes list, it is considered invalid even if it would otherwise be accepted by the function’s built-in validation rules.\n",
        "\n",
        "For example,\n",
        "```\n",
        "import pyinputplus as pyip\n",
        "\n",
        "response = pyip.inputStr(prompt='Enter a word: ',\n",
        "                         allowRegexes=[r'^[A-Z].*$'],\n",
        "                         blockRegexes=[r'^[a-z].*$'])\n",
        "\n",
        "print(f'You entered: {response}')\n",
        "```\n",
        "\n",
        "the allowRegexes argument is set to a list containing a single regular expression `r'^[A-Z].*$'`, which matches any string that starts with an uppercase letter. The blockRegexes argument is set to a list containing a single regular expression `r'^[a-z].*$'`, which matches any string that starts with a lowercase letter. The above code will accept the string that starts with an uppercase letter and reject the string that starts with a lowercase letter."
      ],
      "metadata": {
        "id": "SFctzK6oXEVG"
      }
    },
    {
      "cell_type": "markdown",
      "source": [
        "**6**. If a blank input is entered three times, what does inputStr(limit=3) do?\n",
        "\n",
        "**Answer**: If the limit parameter is set to 3, as in inputStr(limit=3), the user will have three attempts to enter a valid input. If the user enters a blank input three times in a row, the function will raise a `pyinputplus.RetryLimitException` to indicate that the maximum number of attempts has been reached."
      ],
      "metadata": {
        "id": "4CERoyV7c8P_"
      }
    },
    {
      "cell_type": "markdown",
      "source": [
        "**7**. If blank input is entered three times, what does inputStr(limit=3, default=&#39;hello&#39;) do?\n",
        "\n",
        "**Answer**: If the `limit` parameter is set to `3 `and the `default` parameter is set to `'hello'`, as in `inputStr(limit=3, default='hello')`, the user will have three attempts to enter a valid input. If the user enters a blank input three times in a row, the function will return the default value `'hello'` instead of raising an exception. For example,\n",
        "\n",
        "```\n",
        "import pyinputplus as pyip\n",
        "\n",
        "response = pyip.inputStr(prompt='Enter a word: ', limit=3, default='hello')\n",
        "print(f'Entered input: {response}')\n",
        "\n",
        "```\n",
        "\n",
        "In the above code if the user enters a valid input within three attempts, the input is stored in the response variable and printed to the console. If the user fails to enter a valid input within three attempts, the default value `'hello'` is returned and stored in the response variable."
      ],
      "metadata": {
        "id": "dYhkpEn4dkED"
      }
    }
  ]
}