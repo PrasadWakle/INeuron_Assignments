{
  "nbformat": 4,
  "nbformat_minor": 0,
  "metadata": {
    "colab": {
      "provenance": [],
      "authorship_tag": "ABX9TyNGAFmACUqOv9v4+Pb7LqPh",
      "include_colab_link": true
    },
    "kernelspec": {
      "name": "python3",
      "display_name": "Python 3"
    },
    "language_info": {
      "name": "python"
    }
  },
  "cells": [
    {
      "cell_type": "markdown",
      "metadata": {
        "id": "view-in-github",
        "colab_type": "text"
      },
      "source": [
        "<a href=\"https://colab.research.google.com/github/PrasadWakle/INeuron_Assignments/blob/master/Assignment_9.ipynb\" target=\"_parent\"><img src=\"https://colab.research.google.com/assets/colab-badge.svg\" alt=\"Open In Colab\"/></a>"
      ]
    },
    {
      "cell_type": "markdown",
      "source": [
        "**1**. To what does a relative path refer?\n",
        "\n",
        "**Answer**: A relative path refers to the location of a file or directory in relation to the current working directory. A relative path only contains a portion of the full path, and its complete location is based on its relation to the directory where it is linking."
      ],
      "metadata": {
        "id": "mycs11YGfuZq"
      }
    },
    {
      "cell_type": "markdown",
      "source": [
        "**2**. What does an absolute path start with your operating system?\n",
        "\n",
        "**Answer**: In my operating system i.e., Windows operating system, an absolute path usually starts with a drive letter (such as C:), followed by a backslash (\\), and then the hierarchy of directories and subdirectories in which the file or folder is located, separated by backslashes (\\). For example, the absolute path to a file named example.txt located in the Documents folder on the C: drive would be C:\\Documents\\example.txt2."
      ],
      "metadata": {
        "id": "D6vDxPBAkVHC"
      }
    },
    {
      "cell_type": "markdown",
      "source": [
        "**3**. What do the functions os.getcwd() and os.chdir() do?\n",
        "\n",
        "**Answer**:  The os.getcwd() function returns a string that contains the absolute path of the current working directory1. The returned string does not include the trailing slash character.\n",
        "\n",
        "The os.chdir() function is used to change the current working directory to a specified path. It takes only a single argument as the new directory path. The path argument can be absolute or relative. If the specified directory doesn’t exist, a FileNotFoundError exception is raised. If the user under which the script is running doesn’t have the necessary permissions, a PermissionError exception is raised."
      ],
      "metadata": {
        "id": "lGEGe9TrVToS"
      }
    },
    {
      "cell_type": "markdown",
      "source": [
        "**4**. What are the . and .. folders?\n",
        "\n",
        "**Answer**: In the context of file systems, `.` and `..` are special directory entries that are present in every directory. The `.` entry represents the current directory, while the `..` entry represents the parent directory.\n",
        "\n",
        "For example, if you are currently in a directory called my_folder, which is located inside a directory called my_parent_folder, then `.` would refer to my_folder, and `..` would refer to my_parent_folder. These special directory entries are useful for navigating the file system and specifying relative paths."
      ],
      "metadata": {
        "id": "rwDlC-ilV-B1"
      }
    },
    {
      "cell_type": "markdown",
      "source": [
        "**5**. In C:\\bacon\\eggs\\spam.txt, which part is the dir name, and which part is the base name?\n",
        "\n",
        "**Answer**: In the file path `C:\\bacon\\eggs\\spam.txt`, the directory name is `C:\\bacon\\eggs` and the base name is `spam.txt`."
      ],
      "metadata": {
        "id": "9L5_FHK2WvEf"
      }
    },
    {
      "cell_type": "markdown",
      "source": [
        "**6**. What are the three “mode” arguments that can be passed to the open() function?\n",
        "\n",
        "**Answer**: There are several different mode arguments that can be passed to the open() function, including:\n",
        "\n",
        "* 'r': This mode opens the file for reading. If the file does not exist, an error is raised.\n",
        "* 'w': This mode opens the file for writing. If the file already exists, its contents are truncated. If the file does not exist, it is created.\n",
        "* 'a': This mode opens the file for appending. Any data written to the file is added to the end of the file, without overwriting any existing data. If the file does not exist, it is created."
      ],
      "metadata": {
        "id": "zNBskhMOXGdL"
      }
    },
    {
      "cell_type": "markdown",
      "source": [
        "**7**. What happens if an existing file is opened in write mode?\n",
        "\n",
        "**Answer**: If an existing file is opened in write mode, the file is truncated, meaning that its contents are deleted and the file is opened as an empty file. This means that any data that was previously stored in the file will be lost."
      ],
      "metadata": {
        "id": "sLhojhHgXiFp"
      }
    },
    {
      "cell_type": "markdown",
      "source": [
        "**8**. How do you tell the difference between read() and readlines()?\n",
        "\n",
        "**Answer**:  The `read()` function reads the entire contents of a file and returns it as a single string. On the other hand, the `readlines()` function reads all the lines of a file and returns them as a list of strings, where each string represents a single line of the file."
      ],
      "metadata": {
        "id": "5NFFHEwdX0v5"
      }
    },
    {
      "cell_type": "markdown",
      "source": [
        "**9**. What data structure does a shelf value resemble?\n",
        "\n",
        "**Answer**: A shelf value resembles a dictionary data structure. The shelf object defined in the shelve module is a dictionary-like object that is persistently stored in a disk file."
      ],
      "metadata": {
        "id": "BggU0L9HYZUk"
      }
    }
  ]
}