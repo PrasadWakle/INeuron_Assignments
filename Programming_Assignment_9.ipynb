{
  "nbformat": 4,
  "nbformat_minor": 0,
  "metadata": {
    "colab": {
      "provenance": [],
      "authorship_tag": "ABX9TyP0FyCmvImcSgZthpeQShrB",
      "include_colab_link": true
    },
    "kernelspec": {
      "name": "python3",
      "display_name": "Python 3"
    },
    "language_info": {
      "name": "python"
    }
  },
  "cells": [
    {
      "cell_type": "markdown",
      "metadata": {
        "id": "view-in-github",
        "colab_type": "text"
      },
      "source": [
        "<a href=\"https://colab.research.google.com/github/PrasadWakle/INeuron_Assignments/blob/master/Programming_Assignment_9.ipynb\" target=\"_parent\"><img src=\"https://colab.research.google.com/assets/colab-badge.svg\" alt=\"Open In Colab\"/></a>"
      ]
    },
    {
      "cell_type": "markdown",
      "source": [
        "**1**. Write a Python program to check if the given number is a Disarium Number?"
      ],
      "metadata": {
        "id": "vxcI5WJ89lFE"
      }
    },
    {
      "cell_type": "code",
      "source": [
        "num = int(input(\"Enter a number: \"))\n",
        "\n",
        "n = 0\n",
        "\n",
        "num = str(num)\n",
        "num_len = len(num)\n",
        "\n",
        "for i in range(num_len):\n",
        "  n += (int(num[i]) ** (i+1))\n",
        "\n",
        "if n == int(num):\n",
        "  print(f\"{num} is a Disarium Number\")\n",
        "else:\n",
        "  print(f\"{num} is not a Disarium Number\")"
      ],
      "metadata": {
        "colab": {
          "base_uri": "https://localhost:8080/"
        },
        "id": "XELW74qI9pQb",
        "outputId": "c00ab243-1d8d-40de-ce4a-7549e240b68f"
      },
      "execution_count": 39,
      "outputs": [
        {
          "output_type": "stream",
          "name": "stdout",
          "text": [
            "Enter a number: 135\n",
            "135 is a Disarium Number\n"
          ]
        }
      ]
    },
    {
      "cell_type": "markdown",
      "source": [
        "**2**. Write a Python program to print all disarium numbers between 1 to 100?"
      ],
      "metadata": {
        "id": "ZLhUllgRFx_K"
      }
    },
    {
      "cell_type": "code",
      "source": [
        "num = 100\n",
        "\n",
        "for i in range(1,num+1):\n",
        "  i = str(i)\n",
        "  n = 0\n",
        "\n",
        "  for j in range(len(i)):\n",
        "    n+= (int(i[j])**(j+1))\n",
        "    if n == int(i):\n",
        "      print(n, end = \" \")\n",
        "    else:\n",
        "      continue\n"
      ],
      "metadata": {
        "colab": {
          "base_uri": "https://localhost:8080/"
        },
        "id": "ydwstyuV-JHM",
        "outputId": "f9901461-a7cb-4a82-9930-7e1abe9323f8"
      },
      "execution_count": 115,
      "outputs": [
        {
          "output_type": "stream",
          "name": "stdout",
          "text": [
            "1 2 3 4 5 6 7 8 9 89 "
          ]
        }
      ]
    },
    {
      "cell_type": "markdown",
      "source": [
        "**3**. Write a Python program to check if the given number is Happy Number?"
      ],
      "metadata": {
        "id": "aamDfQU1GWMx"
      }
    },
    {
      "cell_type": "code",
      "source": [
        "num = int(input(\"Enter a number: \"))\n",
        "\n",
        "seen = set()\n",
        "\n",
        "while num != 1:\n",
        "  num = sum(int(i) ** 2 for i in str(num))\n",
        "\n",
        "  if num in seen:\n",
        "    print(f\"It is not a Happy Number\")\n",
        "    break\n",
        "  seen.add(num)\n",
        "\n",
        "else:\n",
        "  print(f\"It is a Happy Number\")"
      ],
      "metadata": {
        "colab": {
          "base_uri": "https://localhost:8080/"
        },
        "id": "erzWcdtBCQxQ",
        "outputId": "f0009ef1-3b36-4252-f6e4-985a942ac840"
      },
      "execution_count": 80,
      "outputs": [
        {
          "output_type": "stream",
          "name": "stdout",
          "text": [
            "Enter a number: 49\n",
            "It is a Happy Number\n"
          ]
        }
      ]
    },
    {
      "cell_type": "markdown",
      "source": [
        "**4**. Write a Python program to print all happy numbers between 1 and 100?"
      ],
      "metadata": {
        "id": "aq6eJyrhqDUx"
      }
    },
    {
      "cell_type": "code",
      "source": [
        "num = 100\n",
        "\n",
        "for i in range(1,num+1):\n",
        "  k = i\n",
        "  seen = set()\n",
        "  while k != 1:\n",
        "    k = sum(int(j) ** 2 for j in str(k))\n",
        "    if k in seen:\n",
        "      break\n",
        "    seen.add(k)\n",
        "  else:\n",
        "    print(i, end=\" \")\n"
      ],
      "metadata": {
        "colab": {
          "base_uri": "https://localhost:8080/"
        },
        "id": "MSO1GJuBqGsn",
        "outputId": "cfb620b4-66c0-4731-dbf0-26a45bff94f7"
      },
      "execution_count": 116,
      "outputs": [
        {
          "output_type": "stream",
          "name": "stdout",
          "text": [
            "1 7 10 13 19 23 28 31 32 44 49 68 70 79 82 86 91 94 97 100 "
          ]
        }
      ]
    },
    {
      "cell_type": "markdown",
      "source": [
        "**5**. Write a Python program to determine whether the given number is a Harshad Number?"
      ],
      "metadata": {
        "id": "h9su0mw1u1aZ"
      }
    },
    {
      "cell_type": "code",
      "source": [
        "num = int(input(\"Enter a number: \"))\n",
        "\n",
        "n = sum(int(i) for i in str(num))\n",
        "\n",
        "if num % n == 0:\n",
        "  print(f\"{num} is a Harshad Number\")\n",
        "else:\n",
        "  print(f\"{num} is not a Harshad Number\")"
      ],
      "metadata": {
        "colab": {
          "base_uri": "https://localhost:8080/"
        },
        "id": "mY88JXF0s13v",
        "outputId": "e9831439-995e-4344-ec77-61f7729fe395"
      },
      "execution_count": 114,
      "outputs": [
        {
          "output_type": "stream",
          "name": "stdout",
          "text": [
            "Enter a number: 45\n",
            "45 is a Harshad Number\n"
          ]
        }
      ]
    },
    {
      "cell_type": "markdown",
      "source": [
        "**6**. Write a Python program to print all pronic numbers between 1 and 100?"
      ],
      "metadata": {
        "id": "g34X4rkL1Mtb"
      }
    },
    {
      "cell_type": "code",
      "source": [
        "num = 100\n",
        "\n",
        "for i in range(1,num+1):\n",
        "  n = sum(int(j) for j in str(i))\n",
        "\n",
        "  if i % n == 0:\n",
        "    print(i, end=\" \")\n",
        "  else:\n",
        "    continue"
      ],
      "metadata": {
        "colab": {
          "base_uri": "https://localhost:8080/"
        },
        "id": "x9GAYnJZ0G5h",
        "outputId": "7d40811f-862a-475c-c816-f70267cd0792"
      },
      "execution_count": 112,
      "outputs": [
        {
          "output_type": "stream",
          "name": "stdout",
          "text": [
            "1 2 3 4 5 6 7 8 9 10 12 18 20 21 24 27 30 36 40 42 45 48 50 54 60 63 70 72 80 81 84 90 100 "
          ]
        }
      ]
    }
  ]
}