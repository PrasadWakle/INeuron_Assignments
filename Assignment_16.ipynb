{
  "nbformat": 4,
  "nbformat_minor": 0,
  "metadata": {
    "colab": {
      "provenance": [],
      "authorship_tag": "ABX9TyN746T0TG+aMHybB8LT9erY",
      "include_colab_link": true
    },
    "kernelspec": {
      "name": "python3",
      "display_name": "Python 3"
    },
    "language_info": {
      "name": "python"
    }
  },
  "cells": [
    {
      "cell_type": "markdown",
      "metadata": {
        "id": "view-in-github",
        "colab_type": "text"
      },
      "source": [
        "<a href=\"https://colab.research.google.com/github/PrasadWakle/INeuron_Assignments/blob/master/Assignment_16.ipynb\" target=\"_parent\"><img src=\"https://colab.research.google.com/assets/colab-badge.svg\" alt=\"Open In Colab\"/></a>"
      ]
    },
    {
      "cell_type": "markdown",
      "source": [
        "**1**. Create a list called years_list, starting with the year of your birth, and each year thereafter until the year of your fifth birthday. For example, if you were born in 1980. the list would be years_list =\n",
        "[1980, 1981, 1982, 1983, 1984, 1985]."
      ],
      "metadata": {
        "id": "C4txUINjDbVk"
      }
    },
    {
      "cell_type": "code",
      "source": [
        "years_list = [2000,2001,2002,2003,2004,2005]"
      ],
      "metadata": {
        "id": "r_AYfv3cDhMw"
      },
      "execution_count": 1,
      "outputs": []
    },
    {
      "cell_type": "markdown",
      "source": [
        "**2**. In which year in years_list was your third birthday? Remember, you were 0 years of age for your first year.\n",
        "\n",
        "**Answer**: In years_list my third birthday was in 2004."
      ],
      "metadata": {
        "id": "NAkY3PtEDraD"
      }
    },
    {
      "cell_type": "code",
      "source": [
        "years_list[4]"
      ],
      "metadata": {
        "colab": {
          "base_uri": "https://localhost:8080/"
        },
        "id": "7itNvXq7DnAH",
        "outputId": "35709ccc-ae59-456c-eaf9-08c7fb98ca7b"
      },
      "execution_count": 2,
      "outputs": [
        {
          "output_type": "execute_result",
          "data": {
            "text/plain": [
              "2004"
            ]
          },
          "metadata": {},
          "execution_count": 2
        }
      ]
    },
    {
      "cell_type": "markdown",
      "source": [
        "**3**.In the years list, which year were you the oldest?\n",
        "\n",
        "**Answer**: I was oldest in the year 2005."
      ],
      "metadata": {
        "id": "SLVOyCb9EBv9"
      }
    },
    {
      "cell_type": "code",
      "source": [
        "years_list[-1]"
      ],
      "metadata": {
        "colab": {
          "base_uri": "https://localhost:8080/"
        },
        "id": "J8ui4tAvDx6_",
        "outputId": "31c084b7-745c-426c-b291-513556bda878"
      },
      "execution_count": 3,
      "outputs": [
        {
          "output_type": "execute_result",
          "data": {
            "text/plain": [
              "2005"
            ]
          },
          "metadata": {},
          "execution_count": 3
        }
      ]
    },
    {
      "cell_type": "markdown",
      "source": [
        "**4**. Make a list called things with these three strings as elements: &quot;mozzarella&quot;, &quot;cinderella&quot;, &quot;salmonella&quot;."
      ],
      "metadata": {
        "id": "bSTLk5TwQdc_"
      }
    },
    {
      "cell_type": "code",
      "source": [
        "things = [\"mozzarella\",\"cinderella\",\"salmonella\"]"
      ],
      "metadata": {
        "id": "ANnt7VoDQYfG"
      },
      "execution_count": 40,
      "outputs": []
    },
    {
      "cell_type": "markdown",
      "source": [
        "**5**. Capitalize the element in things that refers to a person and then print the list. Did it change the element in the list?\n",
        "\n",
        "**Answer**: Yes it did."
      ],
      "metadata": {
        "id": "mibGyunfQvZw"
      }
    },
    {
      "cell_type": "code",
      "source": [
        "for i in range(len(things)):\n",
        "  if things[i] == \"cinderella\":\n",
        "    things[i] = things[i].capitalize()\n",
        "\n",
        "print(things)"
      ],
      "metadata": {
        "colab": {
          "base_uri": "https://localhost:8080/"
        },
        "id": "H6klr8t6QooA",
        "outputId": "63dc7988-8ebc-4a0a-e78b-24c77a36748c"
      },
      "execution_count": 43,
      "outputs": [
        {
          "output_type": "stream",
          "name": "stdout",
          "text": [
            "['mozzarella', 'Cinderella', 'salmonella']\n"
          ]
        }
      ]
    },
    {
      "cell_type": "markdown",
      "source": [
        "**6**. Make a surprise list with the elements &quot;Groucho,&quot; &quot;Chico,&quot; and &quot;Harpo.&quot;"
      ],
      "metadata": {
        "id": "TD_3tMoFREJM"
      }
    },
    {
      "cell_type": "code",
      "source": [
        "surprise = [\"Groucho\",\"Chico\",\"Harpo\"]"
      ],
      "metadata": {
        "id": "ZH3Z3vvoQ6gk"
      },
      "execution_count": 53,
      "outputs": []
    },
    {
      "cell_type": "markdown",
      "source": [
        "**7**. Lowercase the last element of the surprise list, reverse it, and then capitalize it."
      ],
      "metadata": {
        "id": "uG2hwU6oRWaJ"
      }
    },
    {
      "cell_type": "code",
      "source": [
        "surprise[-1] = surprise[-1].lower()[::-1].capitalize()\n",
        "print(surprise[-1])"
      ],
      "metadata": {
        "colab": {
          "base_uri": "https://localhost:8080/"
        },
        "id": "aIKm2TpzRLw8",
        "outputId": "448e7645-3275-4564-9e7d-b4b729c817ea"
      },
      "execution_count": 54,
      "outputs": [
        {
          "output_type": "stream",
          "name": "stdout",
          "text": [
            "Oprah\n"
          ]
        }
      ]
    },
    {
      "cell_type": "markdown",
      "source": [
        "**8**. Make an English-to-French dictionary called e2f and print it. Here are your starter words: dog is chien, cat is chat, and walrus is morse."
      ],
      "metadata": {
        "id": "4qVvkJiiTgRF"
      }
    },
    {
      "cell_type": "code",
      "source": [
        "e2f = {\"dog\":\"chien\",\"cat\":\"chat\",\"walrus\":\"morse\"}"
      ],
      "metadata": {
        "id": "OzK8nbTORsXE"
      },
      "execution_count": 59,
      "outputs": []
    },
    {
      "cell_type": "markdown",
      "source": [
        "**9**. Write the French word for walrus in your three-word dictionary e2f."
      ],
      "metadata": {
        "id": "IiL1OiSlRtwr"
      }
    },
    {
      "cell_type": "code",
      "source": [
        "print(\"French word for walrus:\",e2f[\"walrus\"])"
      ],
      "metadata": {
        "id": "DYmoWwXZTuYH",
        "colab": {
          "base_uri": "https://localhost:8080/"
        },
        "outputId": "1ca1964f-7a49-47b8-c401-018d1e329be9"
      },
      "execution_count": 60,
      "outputs": [
        {
          "output_type": "stream",
          "name": "stdout",
          "text": [
            "French word for walrus: morse\n"
          ]
        }
      ]
    },
    {
      "cell_type": "markdown",
      "source": [
        "**10**. Make a French-to-English dictionary called f2e from e2f. Use the items method."
      ],
      "metadata": {
        "id": "WanEH-t1dajg"
      }
    },
    {
      "cell_type": "code",
      "source": [
        "f2e = {}\n",
        "for i,j in e2f.items():\n",
        "  f2e[j] = i\n",
        "print(f2e)"
      ],
      "metadata": {
        "colab": {
          "base_uri": "https://localhost:8080/"
        },
        "id": "l0jP4v2PdAMV",
        "outputId": "cbfa2eac-c602-4d11-d60e-160b4fa4f6f9"
      },
      "execution_count": 62,
      "outputs": [
        {
          "output_type": "stream",
          "name": "stdout",
          "text": [
            "{'chien': 'dog', 'chat': 'cat', 'morse': 'walrus'}\n"
          ]
        }
      ]
    },
    {
      "cell_type": "markdown",
      "source": [
        "**11**. Print the English version of the French word chien using f2e."
      ],
      "metadata": {
        "id": "Iz9LPAQagUFu"
      }
    },
    {
      "cell_type": "code",
      "source": [
        "print(\"English version of French word chien:\",f2e[\"chien\"])"
      ],
      "metadata": {
        "colab": {
          "base_uri": "https://localhost:8080/"
        },
        "id": "8ZsUiVjvdJ33",
        "outputId": "b93ff967-6945-45e3-c725-ec9e72946b6e"
      },
      "execution_count": 28,
      "outputs": [
        {
          "output_type": "stream",
          "name": "stdout",
          "text": [
            "English version of French word chien: dog\n"
          ]
        }
      ]
    },
    {
      "cell_type": "markdown",
      "source": [
        "**12**. Make and print a set of English words from the keys in e2f."
      ],
      "metadata": {
        "id": "SZe4XqzygxHS"
      }
    },
    {
      "cell_type": "code",
      "source": [
        "engwords_set = {i for i in e2f.keys()}\n",
        "print(engwords_set)"
      ],
      "metadata": {
        "colab": {
          "base_uri": "https://localhost:8080/"
        },
        "id": "MSU9VGyGeAi5",
        "outputId": "6e6d35ff-a6cf-4c02-e2be-e5bc9ba20cd8"
      },
      "execution_count": 29,
      "outputs": [
        {
          "output_type": "stream",
          "name": "stdout",
          "text": [
            "{'walrus', 'dog', 'cat'}\n"
          ]
        }
      ]
    },
    {
      "cell_type": "markdown",
      "source": [
        "**13**. Make a multilevel dictionary called life. Use these strings for the topmost keys: &#39;animals&#39;, &#39;plants&#39;, and &#39;other&#39;. Make the &#39;animals&#39; key refer to another dictionary with the keys &#39;cats&#39;, &#39;octopi&#39;, and &#39;emus&#39;. Make the &#39;cats&#39; key refer to a list of strings with the values &#39;Henri&#39;, &#39;Grumpy&#39;, and &#39;Lucy&#39;. Make all the other keys refer to empty dictionaries."
      ],
      "metadata": {
        "id": "xHuxsldOhE6_"
      }
    },
    {
      "cell_type": "code",
      "source": [
        "life = {\n",
        "    \"animals\":{\n",
        "        \"cats\":[\"Henry\",\"Grumpy\",\"Lucy\"],\n",
        "        \"octopi\":{},\n",
        "        \"emus\":{}\n",
        "        },\n",
        "    \"plants\":{},\n",
        "    \"other\":{}\n",
        "    }"
      ],
      "metadata": {
        "id": "lINJb-61hBJR"
      },
      "execution_count": 30,
      "outputs": []
    },
    {
      "cell_type": "markdown",
      "source": [
        "**14**. Print the top-level keys of life."
      ],
      "metadata": {
        "id": "vw8Y0uD-idEP"
      }
    },
    {
      "cell_type": "code",
      "source": [
        "print(list(life.keys()))"
      ],
      "metadata": {
        "colab": {
          "base_uri": "https://localhost:8080/"
        },
        "id": "OyVGa_D3iaje",
        "outputId": "111ab46c-4385-490f-c159-fab1645f460a"
      },
      "execution_count": 63,
      "outputs": [
        {
          "output_type": "stream",
          "name": "stdout",
          "text": [
            "['animals', 'plants', 'other']\n"
          ]
        }
      ]
    },
    {
      "cell_type": "markdown",
      "source": [
        "**15**. Print the keys for life[&#39;animals&#39;]."
      ],
      "metadata": {
        "id": "ytqAHy-Kim1o"
      }
    },
    {
      "cell_type": "code",
      "source": [
        "print(list(life[\"animals\"].keys()))"
      ],
      "metadata": {
        "colab": {
          "base_uri": "https://localhost:8080/"
        },
        "id": "Yr61stZoikND",
        "outputId": "a69469ce-3c98-4730-beaa-cabdcb1816ad"
      },
      "execution_count": 67,
      "outputs": [
        {
          "output_type": "stream",
          "name": "stdout",
          "text": [
            "['cats', 'octopi', 'emus']\n"
          ]
        }
      ]
    },
    {
      "cell_type": "markdown",
      "source": [
        "**16**. Print the values for life[&#39;animals&#39;][&#39;cats&#39;]"
      ],
      "metadata": {
        "id": "0mJmZOcci8x3"
      }
    },
    {
      "cell_type": "code",
      "source": [
        "print(life[\"animals\"][\"cats\"])"
      ],
      "metadata": {
        "colab": {
          "base_uri": "https://localhost:8080/"
        },
        "id": "Rgb8sIjZirvY",
        "outputId": "63929926-6c78-4fe2-c234-0377cbdf3679"
      },
      "execution_count": 37,
      "outputs": [
        {
          "output_type": "stream",
          "name": "stdout",
          "text": [
            "['Henry', 'Grumpy', 'Lucy']\n"
          ]
        }
      ]
    }
  ]
}