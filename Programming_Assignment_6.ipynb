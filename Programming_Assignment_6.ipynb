{
  "nbformat": 4,
  "nbformat_minor": 0,
  "metadata": {
    "colab": {
      "provenance": [],
      "authorship_tag": "ABX9TyPmn4xdg9CHmPdVrUuM9VV+",
      "include_colab_link": true
    },
    "kernelspec": {
      "name": "python3",
      "display_name": "Python 3"
    },
    "language_info": {
      "name": "python"
    }
  },
  "cells": [
    {
      "cell_type": "markdown",
      "metadata": {
        "id": "view-in-github",
        "colab_type": "text"
      },
      "source": [
        "<a href=\"https://colab.research.google.com/github/PrasadWakle/INeuron_Assignments/blob/master/Programming_Assignment_6.ipynb\" target=\"_parent\"><img src=\"https://colab.research.google.com/assets/colab-badge.svg\" alt=\"Open In Colab\"/></a>"
      ]
    },
    {
      "cell_type": "markdown",
      "source": [
        "**1**. Write a Python Program to Display Fibonacci Sequence Using Recursion?"
      ],
      "metadata": {
        "id": "OWFqMu3stNnK"
      }
    },
    {
      "cell_type": "code",
      "source": [
        "# First method\n",
        "def getfib(arg,a = 0, b = 1,result = None):\n",
        "\n",
        "  if result is None:\n",
        "    result = []\n",
        "  if arg > 0:\n",
        "    result.append(a)\n",
        "    a,b = b,a+b\n",
        "    getfib(arg - 1,a,b,result)\n",
        "  return result\n",
        "\n",
        "\n",
        "range = int(input(\"Enter a range: \"))\n",
        "print(f\"The fibonacci series till range {range} is {getfib(range)}\")"
      ],
      "metadata": {
        "colab": {
          "base_uri": "https://localhost:8080/"
        },
        "id": "Ftso_8tTtfbn",
        "outputId": "01031b92-2c8c-4baf-ea30-ed8234e38f8b"
      },
      "execution_count": null,
      "outputs": [
        {
          "output_type": "stream",
          "name": "stdout",
          "text": [
            "Enter a range: 5\n",
            "The fibonacci series till range 5 is [0, 1, 1, 2, 3]\n"
          ]
        }
      ]
    },
    {
      "cell_type": "code",
      "source": [
        "# Second method\n",
        "def fibonacci(n):\n",
        "  if n == 0:\n",
        "    return 0\n",
        "\n",
        "  elif n == 1:\n",
        "    return 1\n",
        "\n",
        "  elif n == 2:\n",
        "    return [0,1]\n",
        "\n",
        "  else:\n",
        "    fib = fibonacci(n-1)\n",
        "    fib.append(fib[-1] + fib[-2])\n",
        "    return fib\n",
        "\n",
        "range = int(input(\"Enter a range: \"))\n",
        "print(f\"The fibonacci series till range {range} is {getfib(range)}\")"
      ],
      "metadata": {
        "colab": {
          "base_uri": "https://localhost:8080/"
        },
        "id": "_SYgEqtIu0Sz",
        "outputId": "1710277a-5bfe-4b85-d6d4-60c4274ee925"
      },
      "execution_count": null,
      "outputs": [
        {
          "output_type": "stream",
          "name": "stdout",
          "text": [
            "Enter a range: 5\n",
            "The fibonacci series till range 5 is [0, 1, 1, 2, 3]\n"
          ]
        }
      ]
    },
    {
      "cell_type": "markdown",
      "source": [
        "**2**. Write a Python Program to Find Factorial of Number Using Recursion?"
      ],
      "metadata": {
        "id": "Mx_tHIXEBxmw"
      }
    },
    {
      "cell_type": "code",
      "source": [
        "def getfact(n):\n",
        "  if n < 1:\n",
        "    return 1\n",
        "\n",
        "  else:\n",
        "    n = n * getfact(n-1)\n",
        "    return n\n",
        "\n",
        "\n",
        "number = int(input(\"Enter a number: \"))\n",
        "print(f\"The factorial of number {number} is {getfact(number)}\")\n"
      ],
      "metadata": {
        "colab": {
          "base_uri": "https://localhost:8080/"
        },
        "id": "M5gXB0uICA4D",
        "outputId": "4916be9c-f7f3-4f58-8acc-0f8602c24e78"
      },
      "execution_count": null,
      "outputs": [
        {
          "output_type": "stream",
          "name": "stdout",
          "text": [
            "Enter a number: 0\n",
            "The factorial of number 0 is 1\n"
          ]
        }
      ]
    },
    {
      "cell_type": "markdown",
      "source": [
        "**3**. Write a Python Program to calculate your Body Mass Index?"
      ],
      "metadata": {
        "id": "ivURst-OOP8f"
      }
    },
    {
      "cell_type": "code",
      "source": [
        "weight = float(input(\"Enter your weight in kilograms:\"))\n",
        "height = float(input(\"Enter your height in meters:\"))\n",
        "\n",
        "bmi = weight/(height**2)\n",
        "\n",
        "print(f\"Your body mass index(BMI) is {bmi:.2f}\")\n",
        "\n",
        "if bmi < 18.5:\n",
        "    print(\"You are underweight.\")\n",
        "elif bmi >= 18.5 and bmi < 25:\n",
        "    print(\"You have a normal weight.\")\n",
        "elif bmi >= 25 and bmi < 30:\n",
        "    print(\"You are overweight.\")\n",
        "else:\n",
        "    print(\"You are obese.\")"
      ],
      "metadata": {
        "colab": {
          "base_uri": "https://localhost:8080/"
        },
        "id": "5se9qproE_XY",
        "outputId": "55903a3a-e0e5-4adf-e3c9-8505873dd198"
      },
      "execution_count": null,
      "outputs": [
        {
          "output_type": "stream",
          "name": "stdout",
          "text": [
            "Enter your weight in kilograms:62\n",
            "Enter your height in meters:1.73\n",
            "Your body mass index(BMI) is 20.72\n",
            "You have a normal weight.\n"
          ]
        }
      ]
    },
    {
      "cell_type": "markdown",
      "source": [
        "**4**. Write a Python Program to calculate the natural logarithm of any number?"
      ],
      "metadata": {
        "id": "0j2i4Y-GbZ3o"
      }
    },
    {
      "cell_type": "code",
      "source": [
        "import math\n",
        "\n",
        "x = float(input(\"Enter a positive number: \"))\n",
        "\n",
        "if x <= 0:\n",
        "    print(\"Error: the number must be positive.\")\n",
        "else:\n",
        "    result = math.log(x)\n",
        "    print(f\"The natural logarithm of {x} is {result:.2f}\")\n"
      ],
      "metadata": {
        "colab": {
          "base_uri": "https://localhost:8080/"
        },
        "id": "d31mPammPfqK",
        "outputId": "46a38de9-29cf-4b5f-a4a6-870ff3a92923"
      },
      "execution_count": null,
      "outputs": [
        {
          "output_type": "stream",
          "name": "stdout",
          "text": [
            "Enter a positive number: 10\n",
            "The natural logarithm of 10.0 is 2.30\n"
          ]
        }
      ]
    },
    {
      "cell_type": "markdown",
      "source": [
        "**5**. Write a Python Program for cube sum of first n natural numbers?"
      ],
      "metadata": {
        "id": "cPdwkLy0e8UF"
      }
    },
    {
      "cell_type": "code",
      "source": [
        "n = 0\n",
        "\n",
        "num = int(input(\"Enter the range: \"))\n",
        "\n",
        "for i in range(1,num+1):\n",
        "  n += (i**3)\n",
        "\n",
        "print(f\"The sum of cubes of first {num} natural numbers is {n}\")"
      ],
      "metadata": {
        "colab": {
          "base_uri": "https://localhost:8080/"
        },
        "id": "ES1qC0aodFVm",
        "outputId": "c6cc555f-34cb-4e95-942f-79ab9817809f"
      },
      "execution_count": null,
      "outputs": [
        {
          "output_type": "stream",
          "name": "stdout",
          "text": [
            "Enter the range: 5\n",
            "The sum of cubes of first 5 natural numbers is 225\n"
          ]
        }
      ]
    }
  ]
}