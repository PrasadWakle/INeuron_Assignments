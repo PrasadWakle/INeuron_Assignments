{
  "nbformat": 4,
  "nbformat_minor": 0,
  "metadata": {
    "colab": {
      "provenance": [],
      "authorship_tag": "ABX9TyP0nDfyc8vPZmb0JH/v+W9B",
      "include_colab_link": true
    },
    "kernelspec": {
      "name": "python3",
      "display_name": "Python 3"
    },
    "language_info": {
      "name": "python"
    }
  },
  "cells": [
    {
      "cell_type": "markdown",
      "metadata": {
        "id": "view-in-github",
        "colab_type": "text"
      },
      "source": [
        "<a href=\"https://colab.research.google.com/github/PrasadWakle/INeuron_Assignments/blob/master/Assignment_6.ipynb\" target=\"_parent\"><img src=\"https://colab.research.google.com/assets/colab-badge.svg\" alt=\"Open In Colab\"/></a>"
      ]
    },
    {
      "cell_type": "markdown",
      "source": [
        "**1**. What are escape characters, and how do you use them?\n",
        "\n",
        "**Answer**: Escape characters are used to insert characters that are illegal or have special meaning in a string. An escape character is a backslash (`\\`) followed by the character you want to insert. For example, if you want to include a double quote inside a string that is surrounded by double quotes, you can use the escape character `\\\"` to insert the double quote without causing an error:\n",
        "\n",
        "```python\n",
        "my_string = \"This is a string with an \\\"escaped\\\" double quote.\"\n",
        "print(my_string)\n",
        "```\n",
        "\n",
        "Output:\n",
        "```\n",
        "This is a string with an \"escaped\" double quote.\n",
        "```\n"
      ],
      "metadata": {
        "id": "2gOLmgD_qtBS"
      }
    },
    {
      "cell_type": "markdown",
      "source": [
        "**2**. What do the escape characters n and t stand for?\n",
        "\n",
        "**Answer**: The escape character \\n is used to represent a new line, while the escape character \\t is used to represent a horizontal tab ."
      ],
      "metadata": {
        "id": "vG7Y2dvlrVXS"
      }
    },
    {
      "cell_type": "markdown",
      "source": [
        "**3**. What is the way to include backslash characters in a string?\n",
        "\n",
        "**Answer**: The way to include backslash characters in a string is by using an escape sequence. The first backslash escapes the second one, so the resulting string will contain a single backslash character. Here’s an example:\n",
        "```\n",
        "my_string = \"This is a string with a \\\\ backslash.\"\n",
        "print(my_string)\n",
        "```\n",
        "\n",
        "Output:\n",
        "```\n",
        "This is a string with a \\ backslash.\n",
        "```"
      ],
      "metadata": {
        "id": "yjRk0CqFrsTs"
      }
    },
    {
      "cell_type": "markdown",
      "source": [
        "**4**. The string &quot;Howl&#39;s Moving Castle&quot; is a correct value. Why isn&#39;t the single quote character in the\n",
        "word Howl&#39;s not escaped a problem?\n",
        "\n",
        "**Answer**: The single quote character in the word “Howl’s” in the string “Howl’s Moving Castle” is not a problem because the string is enclosed in double quotes. If you use double quotes to define a string, the single quotes `'` inside the string are not interpreted as special characters."
      ],
      "metadata": {
        "id": "Qda3vc5ysxg4"
      }
    },
    {
      "cell_type": "markdown",
      "source": [
        "**5**. How do you write a string of newlines if you don&#39;t want to use the n character?\n",
        "\n",
        "**Answer**: We can write a string of newlines without using the n character by using triple-quoted strings to create multi-line strings. Triple-quoted strings are enclosed in a pair of triple quotes (`''' or \"\"\"`) and can span multiple lines."
      ],
      "metadata": {
        "id": "dtxWE6HxuUZV"
      }
    },
    {
      "cell_type": "markdown",
      "source": [
        "**6**. What are the values of the given expressions?\n",
        "```\n",
        "'Hello, world!'[1]\n",
        "'Hello, world!'[0:5]\n",
        "'Hello, world!'[:5]\n",
        "'Hello, world!'[3:]\n",
        "```\n",
        "\n",
        "**Answer**: The values of the given expressions are as follows:\n",
        "```\n",
        "'Hello, world!'[1]\n",
        "```\n",
        "\n",
        "Output:\n",
        "```\n",
        "e\n",
        "```\n",
        "\n",
        "\n",
        "---\n",
        "\n",
        "\n",
        "\n",
        "```\n",
        "'Hello, world!'[0:5]\n",
        "```\n",
        "\n",
        "Output:\n",
        "```\n",
        "'Hello'\n",
        "```\n",
        "\n",
        "---\n",
        "\n",
        "\n",
        "```\n",
        "'Hello, world!'[:5]\n",
        "```\n",
        "\n",
        "Output:\n",
        "```\n",
        "'Hello'\n",
        "```\n",
        "\n",
        "---\n",
        "\n",
        "\n",
        "```\n",
        "'Hello, world!'[3:]\n",
        "```\n",
        "Output:\n",
        "```\n",
        "'lo, world!'\n",
        "```\n",
        "\n"
      ],
      "metadata": {
        "id": "93U01v9Vu_Li"
      }
    },
    {
      "cell_type": "markdown",
      "source": [
        "**7**. What are the values of the following expressions?\n",
        "```\n",
        "'Hello'.upper()\n",
        "'Hello'.upper().isupper()\n",
        "'Hello'.upper().lower()\n",
        "```\n",
        "\n",
        "**Answer**: The values of the given expressions are as follows:\n",
        "\n",
        "```\n",
        "'Hello'.upper()\n",
        "```\n",
        "Output:\n",
        "```\n",
        "'HELLO'\n",
        "```\n",
        "---\n",
        "\n",
        "```\n",
        "'Hello'.upper().isupper()\n",
        "```\n",
        "Output:\n",
        "```\n",
        "True\n",
        "```\n",
        "---\n",
        "\n",
        "```\n",
        "'Hello'.upper().lower()\n",
        "```\n",
        "Output:\n",
        "```\n",
        "'hello'\n",
        "```"
      ],
      "metadata": {
        "id": "P94eLt0hw0pF"
      }
    },
    {
      "cell_type": "markdown",
      "source": [
        "**8**. What are the values of the following expressions?\n",
        "```\n",
        "'Remember, remember, the fifth of July.'.split()\n",
        "'-'.join('There can only one.'.split())\n",
        "```\n",
        "\n",
        "**Answer**: The values of the given expressions are as follows:\n",
        "\n",
        "```\n",
        "'Remember, remember, the fifth of July.'.split()\n",
        "```\n",
        "Output:\n",
        "```\n",
        "['Remember,', 'remember,', 'the', 'fifth', 'of', 'July.']\n",
        "```\n",
        "---\n",
        "\n",
        "```\n",
        "'-'.join('There can only one.'.split())\n",
        "```\n",
        "Output:\n",
        "```\n",
        "'There-can-only-one.'\n",
        "```\n"
      ],
      "metadata": {
        "id": "1Ggl9K2NyBIN"
      }
    },
    {
      "cell_type": "code",
      "source": [],
      "metadata": {
        "id": "uVdmSuBqV0ZF"
      },
      "execution_count": null,
      "outputs": []
    },
    {
      "cell_type": "markdown",
      "source": [
        "**9**. What are the methods for right-justifying, left-justifying, and centering a string?\n",
        "\n",
        "**Answer**: The methods for right-justifying, left-justifying, and centering a string are rjust( ), ljust( ) and center( )."
      ],
      "metadata": {
        "id": "_8ObGK866PN9"
      }
    },
    {
      "cell_type": "markdown",
      "source": [
        "**10**. What is the best way to remove whitespace characters from the start or end?\n",
        "\n",
        "**Answer:** The best way to remove whitespace characters from the start or end of a string is to use the strip( ) method."
      ],
      "metadata": {
        "id": "MgLisDpEUtoM"
      }
    }
  ]
}