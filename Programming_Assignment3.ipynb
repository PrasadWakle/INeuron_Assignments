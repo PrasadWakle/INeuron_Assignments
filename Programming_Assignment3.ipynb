{
  "nbformat": 4,
  "nbformat_minor": 0,
  "metadata": {
    "colab": {
      "provenance": [],
      "authorship_tag": "ABX9TyObKLBNMR+Nh1wfBoesSH8t",
      "include_colab_link": true
    },
    "kernelspec": {
      "name": "python3",
      "display_name": "Python 3"
    },
    "language_info": {
      "name": "python"
    }
  },
  "cells": [
    {
      "cell_type": "markdown",
      "metadata": {
        "id": "view-in-github",
        "colab_type": "text"
      },
      "source": [
        "<a href=\"https://colab.research.google.com/github/PrasadWakle/INeuron_Assignments/blob/master/Programming_Assignment3.ipynb\" target=\"_parent\"><img src=\"https://colab.research.google.com/assets/colab-badge.svg\" alt=\"Open In Colab\"/></a>"
      ]
    },
    {
      "cell_type": "markdown",
      "source": [
        "1. Write a Python Program to Check if a Number is Positive, Negative or Zero?"
      ],
      "metadata": {
        "id": "fI3OhU4ob3uv"
      }
    },
    {
      "cell_type": "code",
      "source": [
        "n = int(input(\"Enter a number:\"))\n",
        "\n",
        "if n > 0:\n",
        "  print(\"Positive\")\n",
        "\n",
        "elif n < 0:\n",
        "  print(\"Negative\")\n",
        "\n",
        "else:\n",
        "  print(\"Zero\")"
      ],
      "metadata": {
        "colab": {
          "base_uri": "https://localhost:8080/"
        },
        "id": "NBYHKkOnb9If",
        "outputId": "352cc7a4-0002-4657-ab0e-8d20888fa188"
      },
      "execution_count": 1,
      "outputs": [
        {
          "output_type": "stream",
          "name": "stdout",
          "text": [
            "Enter a number:-22\n",
            "Negative\n"
          ]
        }
      ]
    },
    {
      "cell_type": "markdown",
      "source": [
        "2. Write a Python Program to Check if a Number is Odd or Even?"
      ],
      "metadata": {
        "id": "kJjUFn0Sc29R"
      }
    },
    {
      "cell_type": "code",
      "source": [
        "n = int(input(\"Enter a number:\"))\n",
        "\n",
        "if n % 2 == 0:\n",
        "  print(\"Even\")\n",
        "\n",
        "else:\n",
        "  print(\"Odd\")"
      ],
      "metadata": {
        "colab": {
          "base_uri": "https://localhost:8080/"
        },
        "id": "27dDSFfgcNpg",
        "outputId": "1f9f60c6-31f6-4f99-83b5-5a8e1189a3b1"
      },
      "execution_count": 2,
      "outputs": [
        {
          "output_type": "stream",
          "name": "stdout",
          "text": [
            "Enter a number:9\n",
            "Odd\n"
          ]
        }
      ]
    },
    {
      "cell_type": "markdown",
      "source": [
        "3. Write a Python Program to Check Leap Year?"
      ],
      "metadata": {
        "id": "fgLG3hAJdCfp"
      }
    },
    {
      "cell_type": "code",
      "source": [
        "year = int(input(\"Enter a year:\"))\n",
        "\n",
        "if year % 4 == 0:\n",
        "  if year % 100 == 0:\n",
        "    if year % 400 == 0:\n",
        "      print(\"Leap year\")\n",
        "\n",
        "    else:\n",
        "      print(\"Not leap year\")\n",
        "  else:\n",
        "    print(\"Leap year\")\n",
        "else:\n",
        "  print(\"Not leap year\")"
      ],
      "metadata": {
        "colab": {
          "base_uri": "https://localhost:8080/"
        },
        "id": "NMb8XM_pc-1E",
        "outputId": "94452761-31d5-4a90-d7c9-a2a78b7b651f"
      },
      "execution_count": 5,
      "outputs": [
        {
          "output_type": "stream",
          "name": "stdout",
          "text": [
            "Enter a year:2013\n",
            "Not leap year\n"
          ]
        }
      ]
    },
    {
      "cell_type": "markdown",
      "source": [
        "4. Write a Python Program to Check Prime Number?"
      ],
      "metadata": {
        "id": "0d0W1JFXeOu-"
      }
    },
    {
      "cell_type": "code",
      "source": [
        "import math\n",
        "\n",
        "n = int(input(\"Enter a number:\"))\n",
        "\n",
        "if n <= 1:\n",
        "  print(\"Not Prime Number\")\n",
        "\n",
        "elif n <= 3:\n",
        "  print(\"Prime Number\")\n",
        "\n",
        "else:\n",
        "  for i in range(2,int(math.sqrt(n)+1)):\n",
        "    if n % i == 0:\n",
        "      print(\"Not Prime Number\")\n",
        "      break\n",
        "\n",
        "  else:\n",
        "    print(\"Prime Number\")"
      ],
      "metadata": {
        "colab": {
          "base_uri": "https://localhost:8080/"
        },
        "id": "FgC8dMF8eD4N",
        "outputId": "26593908-a3a0-4255-980d-3d683b0c0a23"
      },
      "execution_count": 15,
      "outputs": [
        {
          "output_type": "stream",
          "name": "stdout",
          "text": [
            "Enter a number:4\n",
            "Not Prime Number\n"
          ]
        }
      ]
    },
    {
      "cell_type": "markdown",
      "source": [
        "5. Write a Python Program to Print all Prime Numbers in an Interval of 1-10000?"
      ],
      "metadata": {
        "id": "QIy81842kbUF"
      }
    },
    {
      "cell_type": "code",
      "source": [
        "import math\n",
        "\n",
        "for i in range(1,20):\n",
        "\n",
        "  if i == 1:\n",
        "    pass\n",
        "\n",
        "  elif i <= 3:\n",
        "    print(i)\n",
        "\n",
        "  else:\n",
        "    for j in range(2,int(math.sqrt(i)+1)):\n",
        "      if i % j == 0:\n",
        "        break\n",
        "\n",
        "    else:\n",
        "      print(i)"
      ],
      "metadata": {
        "colab": {
          "base_uri": "https://localhost:8080/"
        },
        "id": "oky11zu_euLe",
        "outputId": "8f02df42-25dc-499d-a87a-df25d4a519a8"
      },
      "execution_count": 25,
      "outputs": [
        {
          "output_type": "stream",
          "name": "stdout",
          "text": [
            "2\n",
            "3\n",
            "5\n",
            "7\n",
            "11\n",
            "13\n",
            "17\n",
            "19\n"
          ]
        }
      ]
    }
  ]
}