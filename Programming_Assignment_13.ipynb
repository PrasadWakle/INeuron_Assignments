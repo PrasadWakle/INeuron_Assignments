{
  "nbformat": 4,
  "nbformat_minor": 0,
  "metadata": {
    "colab": {
      "provenance": [],
      "authorship_tag": "ABX9TyMwdSdSTy1c/dhpJwAe3q/w",
      "include_colab_link": true
    },
    "kernelspec": {
      "name": "python3",
      "display_name": "Python 3"
    },
    "language_info": {
      "name": "python"
    }
  },
  "cells": [
    {
      "cell_type": "markdown",
      "metadata": {
        "id": "view-in-github",
        "colab_type": "text"
      },
      "source": [
        "<a href=\"https://colab.research.google.com/github/PrasadWakle/INeuron_Assignments/blob/master/Programming_Assignment_13.ipynb\" target=\"_parent\"><img src=\"https://colab.research.google.com/assets/colab-badge.svg\" alt=\"Open In Colab\"/></a>"
      ]
    },
    {
      "cell_type": "markdown",
      "source": [
        "Question 1:\n",
        "\n",
        "Write a program that calculates and prints the value according to the given formula:\n",
        "\n",
        "Q = Square root of [(2 * C * D)/H]\n",
        "\n",
        "Following are the fixed values of C and H:\n",
        "\n",
        "C is 50. H is 30.\n",
        "\n",
        "D is the variable whose values should be input to your program in a comma-separated sequence.\n",
        "\n",
        "Example\n",
        "\n",
        "Let us assume the following comma separated input sequence is given to the program:\n",
        "\n",
        "100,150,180\n",
        "\n",
        "The output of the program should be:\n",
        "\n",
        "18,22,24"
      ],
      "metadata": {
        "id": "awKLq6fE0U8M"
      }
    },
    {
      "cell_type": "code",
      "execution_count": 107,
      "metadata": {
        "colab": {
          "base_uri": "https://localhost:8080/"
        },
        "id": "hzadll8W0C8a",
        "outputId": "b147bf08-1437-47f6-f1b7-fafe46864668"
      },
      "outputs": [
        {
          "output_type": "stream",
          "name": "stdout",
          "text": [
            "Enter the values seperated with comma: 100,150,180\n",
            "Result = 18,22,24\n"
          ]
        }
      ],
      "source": [
        "import math\n",
        "\n",
        "values = list(map(int,input(\"Enter the values seperated with comma: \").split(\",\")))\n",
        "\n",
        "Q = [int(math.sqrt((2*50*D)/30)) for D in values]\n",
        "print(f\"Result = {','.join(map(str,Q))}\")"
      ]
    },
    {
      "cell_type": "markdown",
      "source": [
        "Question 2:\n",
        "\n",
        "Write a program which takes 2 digits, X,Y as input and generates a 2-dimensional array. The element value in the i-th row and j-th column of the array should be i*j.\n",
        "\n",
        "Note: i=0,1.., X-1; j=0,1,¡Y-1.\n",
        "\n",
        "Example\n",
        "\n",
        "Suppose the following inputs are given to the program:\n",
        "\n",
        "3,5\n",
        "\n",
        "Then, the output of the program should be:\n",
        "\n",
        "[[0, 0, 0, 0, 0], [0, 1, 2, 3, 4], [0, 2, 4, 6, 8]]"
      ],
      "metadata": {
        "id": "qa3WOjeW2dfd"
      }
    },
    {
      "cell_type": "code",
      "source": [
        "X = int(input(\"Enter the number of rows:\"))\n",
        "Y = int(input(\"Enter the number of columns:\"))\n",
        "\n",
        "m = []\n",
        "\n",
        "for i in range(X):\n",
        "  a = []\n",
        "  for j in range(Y):\n",
        "    a.append(i*j)\n",
        "  m.append(a)\n",
        "\n",
        "print(f\"Result matirx : {m}\")"
      ],
      "metadata": {
        "colab": {
          "base_uri": "https://localhost:8080/"
        },
        "id": "xPo1Ezsi1Zou",
        "outputId": "3e633c0c-2013-4f7a-94e3-b0d38d413794"
      },
      "execution_count": null,
      "outputs": [
        {
          "output_type": "stream",
          "name": "stdout",
          "text": [
            "Enter the number of rows:3\n",
            "Enter the number of columns:5\n",
            "Result matirx : [[0, 0, 0, 0, 0], [0, 1, 2, 3, 4], [0, 2, 4, 6, 8]]\n"
          ]
        }
      ]
    },
    {
      "cell_type": "markdown",
      "source": [
        "Question 3:\n",
        "\n",
        "Write a program that accepts a comma separated sequence of words as input and prints the words in a comma-separated sequence after sorting them alphabetically.\n",
        "\n",
        "Suppose the following input is supplied to the program:\n",
        "\n",
        "without,hello,bag,world\n",
        "\n",
        "Then, the output should be:\n",
        "\n",
        "bag,hello,without,world"
      ],
      "metadata": {
        "id": "ln7My4nz4Ul4"
      }
    },
    {
      "cell_type": "code",
      "source": [
        "words = input(\"Enter the words seperated with comma: \").split(\",\")\n",
        "\n",
        "words = sorted(words)\n",
        "print(f\"Words sorted in aplhabetical order: {','.join(words)}\")\n"
      ],
      "metadata": {
        "colab": {
          "base_uri": "https://localhost:8080/"
        },
        "id": "wfhjZlbH32E5",
        "outputId": "2bb82592-4e69-4d4b-a6ce-893c3c65d047"
      },
      "execution_count": 108,
      "outputs": [
        {
          "output_type": "stream",
          "name": "stdout",
          "text": [
            "Enter the words seperated with comma: without,hello,bag,world\n",
            "Words sorted in aplhabetical order: bag,hello,without,world\n"
          ]
        }
      ]
    },
    {
      "cell_type": "markdown",
      "source": [
        "Question 4:\n",
        "\n",
        "Write a program that accepts a sequence of whitespace separated words as input and prints the words after removing all duplicate words and sorting them alphanumerically.\n",
        "\n",
        "Suppose the following input is supplied to the program:\n",
        "\n",
        "hello world and practice makes perfect and hello world again\n",
        "\n",
        "Then, the output should be:\n",
        "\n",
        "again and hello makes perfect practice world"
      ],
      "metadata": {
        "id": "aj0DABGD91md"
      }
    },
    {
      "cell_type": "code",
      "source": [
        "words = set(input(\"Enter the words seperated by spaces: \").split())\n",
        "words = sorted(words)\n",
        "print(f\"Words sorted alphnumerically: {' '.join(words)}\")"
      ],
      "metadata": {
        "colab": {
          "base_uri": "https://localhost:8080/"
        },
        "id": "8Kqj644p6kjn",
        "outputId": "0605b7ba-16e4-49b5-add9-9246695d0854"
      },
      "execution_count": 50,
      "outputs": [
        {
          "output_type": "stream",
          "name": "stdout",
          "text": [
            "Enter the words seperated by spaces: hello world and practice makes perfect and hello world again\n",
            "Words sorted alphnumerically: again and hello makes perfect practice world\n"
          ]
        }
      ]
    },
    {
      "cell_type": "markdown",
      "source": [
        "Question 5:\n",
        "\n",
        "Write a program that accepts a sentence and calculate the number of letters and digits.\n",
        "\n",
        "Suppose the following input is supplied to the program:\n",
        "\n",
        "hello world! 123\n",
        "\n",
        "Then, the output should be:\n",
        "\n",
        "LETTERS 10\n",
        "\n",
        "DIGITS 3"
      ],
      "metadata": {
        "id": "DCipV-JTTLdb"
      }
    },
    {
      "cell_type": "code",
      "source": [
        "import string\n",
        "words = input(\"Enter a sentence: \")\n",
        "\n",
        "letters = 0\n",
        "digits = 0\n",
        "\n",
        "for i in words:\n",
        "  if i in string.ascii_letters:\n",
        "    letters += 1\n",
        "  if i in string.digits:\n",
        "    digits += 1\n",
        "\n",
        "print(f\"Letters {letters} \\nDigits {digits}\")"
      ],
      "metadata": {
        "id": "uPFSCXvp7Rxm",
        "colab": {
          "base_uri": "https://localhost:8080/"
        },
        "outputId": "f5855246-db8d-4ed7-b976-fd2383ca7ec4"
      },
      "execution_count": 57,
      "outputs": [
        {
          "output_type": "stream",
          "name": "stdout",
          "text": [
            "Enter a sentence: hello world! 123\n",
            "Letters 10 \n",
            "Digits 3\n"
          ]
        }
      ]
    },
    {
      "cell_type": "markdown",
      "source": [
        "Question 6:\n",
        "\n",
        "A website requires the users to input username and password to register. Write a program to check the validity of password input by users.\n",
        "\n",
        "Following are the criteria for checking the password:\n",
        "\n",
        "1. At least 1 letter between [a-z]\n",
        "\n",
        "2. At least 1 number between [0-9]\n",
        "\n",
        "1. At least 1 letter between [A-Z]\n",
        "\n",
        "3. At least 1 character from [$#@]\n",
        "\n",
        "4. Minimum length of transaction password: 6\n",
        "\n",
        "5. Maximum length of transaction password: 12\n",
        "\n",
        "Your program should accept a sequence of comma separated passwords and will check them according to the above criteria. Passwords that match the criteria are to be printed, each separated by a comma.\n",
        "\n",
        "Example\n",
        "\n",
        "If the following passwords are given as input to the program:\n",
        "\n",
        "ABd1234@1,a F1#,2w3E*,2We3345\n",
        "\n",
        "Then, the output of the program should be:\n",
        "\n",
        "ABd1234@1"
      ],
      "metadata": {
        "id": "Ui8w-rVzVRri"
      }
    },
    {
      "cell_type": "code",
      "source": [
        "import string\n",
        "\n",
        "password = input(\"Enter passwords seperated by comma: \").split(\",\")\n",
        "\n",
        "print(\"Passwords which match the critetria are:\", end = \" \")\n",
        "\n",
        "for i in password:\n",
        "  if any(j in string.ascii_uppercase for j in i) and any(j in string.ascii_lowercase for j in i) and any(j in string.punctuation for j in i) and 6 <= len(i) <= 12:\n",
        "    print(i, end = \" \")\n"
      ],
      "metadata": {
        "colab": {
          "base_uri": "https://localhost:8080/"
        },
        "id": "ZZwl90PQUtXP",
        "outputId": "b038a69f-aabf-4202-e15f-74eab05ed86f"
      },
      "execution_count": 102,
      "outputs": [
        {
          "output_type": "stream",
          "name": "stdout",
          "text": [
            "Enter passwords seperated by comma: ABd1234@1,a F1#,2w3E*,2We3345\n",
            "Passwords which match the critetria are: ABd1234@1 "
          ]
        }
      ]
    }
  ]
}