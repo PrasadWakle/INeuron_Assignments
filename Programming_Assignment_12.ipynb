{
  "nbformat": 4,
  "nbformat_minor": 0,
  "metadata": {
    "colab": {
      "provenance": [],
      "authorship_tag": "ABX9TyMb6nrDFpINZVambxf+8HW/",
      "include_colab_link": true
    },
    "kernelspec": {
      "name": "python3",
      "display_name": "Python 3"
    },
    "language_info": {
      "name": "python"
    }
  },
  "cells": [
    {
      "cell_type": "markdown",
      "metadata": {
        "id": "view-in-github",
        "colab_type": "text"
      },
      "source": [
        "<a href=\"https://colab.research.google.com/github/PrasadWakle/INeuron_Assignments/blob/master/Programming_Assignment_12.ipynb\" target=\"_parent\"><img src=\"https://colab.research.google.com/assets/colab-badge.svg\" alt=\"Open In Colab\"/></a>"
      ]
    },
    {
      "cell_type": "markdown",
      "source": [
        "**1**. Write a Python program to Extract Unique values dictionary values?"
      ],
      "metadata": {
        "id": "0cNBhFhznA_u"
      }
    },
    {
      "cell_type": "code",
      "execution_count": null,
      "metadata": {
        "colab": {
          "base_uri": "https://localhost:8080/"
        },
        "id": "h6NfyqBjm63L",
        "outputId": "097e5b88-b517-40a7-b2fc-0f176ac26fa2"
      },
      "outputs": [
        {
          "output_type": "stream",
          "name": "stdout",
          "text": [
            "Enter the keys seperated by spaces: a b c d e f\n",
            "Enter the values seperated by spaces: 1 2 3 4 2 4\n",
            "Dictionary: {'a': '1', 'b': '2', 'c': '3', 'd': '4', 'e': '2', 'f': '4'}\n",
            "The unique values in the dictionary are: ['1', '3']\n"
          ]
        }
      ],
      "source": [
        "key_list = [i for i in input(\"Enter the keys seperated by spaces: \").split()]\n",
        "\n",
        "value_list = [i for i in input(\"Enter the values seperated by spaces: \").split()]\n",
        "\n",
        "d = {i:j for i,j in zip(key_list,value_list)}\n",
        "\n",
        "l = [i for i in d.values()]\n",
        "\n",
        "print(f\"Dictionary: {d}\")\n",
        "\n",
        "unique_values = [i for i in l if l.count(i) == 1]\n",
        "\n",
        "print(f\"The unique values in the dictionary are: {unique_values}\")"
      ]
    },
    {
      "cell_type": "markdown",
      "source": [
        "**2**. Write a Python program to find the sum of all items in a dictionary?"
      ],
      "metadata": {
        "id": "8TcWDZL8S6OV"
      }
    },
    {
      "cell_type": "code",
      "source": [
        "d = {\"Ferrari\":20, \"Porsche\":10, \"Lamborghini\":14, \"Pagani\":10}\n",
        "\n",
        "print(f\"Total sum of all the cars is: {sum(d.values())}\")"
      ],
      "metadata": {
        "colab": {
          "base_uri": "https://localhost:8080/"
        },
        "id": "Me8pLSiFnz18",
        "outputId": "d3b0bd01-416b-4d9d-b773-a8ae5c16caa0"
      },
      "execution_count": null,
      "outputs": [
        {
          "output_type": "stream",
          "name": "stdout",
          "text": [
            "Total sum of all the cars is: 54\n"
          ]
        }
      ]
    },
    {
      "cell_type": "markdown",
      "source": [
        "**3**. Write a Python program to Merging two Dictionaries?"
      ],
      "metadata": {
        "id": "tx01VBf2TCFd"
      }
    },
    {
      "cell_type": "code",
      "source": [
        "d1 = {\"banana\":2, \"apples\":5, \"oranges\":10}\n",
        "d2 = {\"banana\":6, \"cherry\":6, \"mangoes\":4}\n",
        "\n",
        "d3 = d1|d2\n",
        "\n",
        "print(f\"Merge of two dictionaries is: {d3}\")"
      ],
      "metadata": {
        "id": "qnBBHg36q7dw",
        "colab": {
          "base_uri": "https://localhost:8080/"
        },
        "outputId": "155020e8-13cd-4c7f-c6be-8f4142ced593"
      },
      "execution_count": null,
      "outputs": [
        {
          "output_type": "stream",
          "name": "stdout",
          "text": [
            "Merge of two dictionaries is: {'banana': 6, 'apples': 5, 'oranges': 10, 'cherry': 6, 'mangoes': 4}\n"
          ]
        }
      ]
    },
    {
      "cell_type": "markdown",
      "source": [
        "**4**. Write a Python program to convert key-values list to flat dictionary?"
      ],
      "metadata": {
        "id": "67MJxD8GWLyQ"
      }
    },
    {
      "cell_type": "code",
      "source": [
        "l = [('banana', 6), ('apples', 5), ('oranges', 10), ('cherry', 6), ('mangoes', 4)]\n",
        "d = dict(l)\n",
        "print(d)"
      ],
      "metadata": {
        "colab": {
          "base_uri": "https://localhost:8080/"
        },
        "id": "B_Vq5vArTju2",
        "outputId": "6656dadc-d197-408d-8790-3af05dd7b9f5"
      },
      "execution_count": null,
      "outputs": [
        {
          "output_type": "stream",
          "name": "stdout",
          "text": [
            "{'banana': 6, 'apples': 5, 'oranges': 10, 'cherry': 6, 'mangoes': 4}\n"
          ]
        }
      ]
    },
    {
      "cell_type": "markdown",
      "source": [
        "**5**. Write a Python program to insertion at the beginning in OrderedDict?"
      ],
      "metadata": {
        "id": "nZoTD5g8PZgt"
      }
    },
    {
      "cell_type": "code",
      "source": [
        "from collections import OrderedDict\n",
        "\n",
        "fruits_dict = OrderedDict([(\"banana\",6),(\"apples\",2),(\"oranges\",10)])\n",
        "\n",
        "dict_key = input(\"Enter fruit name: \")\n",
        "dict_value = int(input(\"Enter the quantity of fruit:  \"))\n",
        "\n",
        "fruits_dict.update({dict_key.lower():dict_value}) # Or even fruits_dict.update([(dict_key.lower():dict_value)])\n",
        "fruits_dict.move_to_end(dict_key.lower(), last = False)\n",
        "print(f\"(fruits_dict) after inserting value at the beginning: {fruits_dict}\")"
      ],
      "metadata": {
        "id": "DcieLjmdTvKJ",
        "colab": {
          "base_uri": "https://localhost:8080/"
        },
        "outputId": "35b99c3e-39aa-400b-d695-3362c5fa4d5d"
      },
      "execution_count": null,
      "outputs": [
        {
          "output_type": "stream",
          "name": "stdout",
          "text": [
            "Enter fruit name: Sitaphal\n",
            "Enter the quantity of fruit:  50\n",
            "(fruits_dict) after inserting value at the beginning: OrderedDict([('sitaphal', 50), ('banana', 6), ('apples', 2), ('oranges', 10)])\n"
          ]
        }
      ]
    },
    {
      "cell_type": "markdown",
      "source": [
        "**6**. Write a Python program to check order of character in string using OrderedDict()?"
      ],
      "metadata": {
        "id": "dj-w02BsdC_r"
      }
    },
    {
      "cell_type": "code",
      "source": [
        "from collections import OrderedDict\n",
        "\n",
        "def check_pattern(strng, pattern):\n",
        "  strng = strng.lower()\n",
        "  pattern_dict = OrderedDict.fromkeys(pattern)\n",
        "\n",
        "  index = 0\n",
        "\n",
        "  for i in strng:\n",
        "    if i in pattern_dict:\n",
        "      if i == pattern[index]:\n",
        "        index+=1\n",
        "        if index == len(pattern):\n",
        "          return True\n",
        "\n",
        "      else:\n",
        "        return False\n",
        "\n",
        "  return index == len(pattern)\n",
        "\n",
        "\n",
        "strng = input(\"Enter the string: \")\n",
        "pattern = input(\"Enter the pattern: \")\n",
        "\n",
        "result = check_pattern(strng,pattern)\n",
        "\n",
        "if result == True:\n",
        "  print(\"The string follows the entered pattern.\")\n",
        "else:\n",
        "  print(\"The string does not follow the entered pattern.\")\n"
      ],
      "metadata": {
        "colab": {
          "base_uri": "https://localhost:8080/"
        },
        "id": "gPjkALp8gVt5",
        "outputId": "38cbcd8b-9fb2-4fa2-b661-378aa2da9ea3"
      },
      "execution_count": 1,
      "outputs": [
        {
          "output_type": "stream",
          "name": "stdout",
          "text": [
            "Enter the string: Engineers Rock\n",
            "Enter the pattern: egi\n",
            "The string follows the entered pattern.\n"
          ]
        }
      ]
    },
    {
      "cell_type": "markdown",
      "source": [
        "**7**. Write a Python program to sort Python Dictionaries by Key or Value?"
      ],
      "metadata": {
        "id": "2YJGDIoJtNEr"
      }
    },
    {
      "cell_type": "code",
      "source": [
        "from collections import OrderedDict\n",
        "\n",
        "my_dict = {'banana': 6, 'apples': 5, 'oranges': 10, 'cherry': 6, 'mangoes': 4}\n",
        "\n",
        "my_dict1 = sorted(my_dict.items(),key=lambda x:x[0])\n",
        "my_dict2 = sorted(my_dict.items(),key=lambda x:x[1])\n",
        "\n",
        "print(f\"Dictionary sorted by keys: {dict(my_dict1)}\")\n",
        "print(f\"Dictionary sorted by values: {dict(my_dict2)}\")"
      ],
      "metadata": {
        "colab": {
          "base_uri": "https://localhost:8080/"
        },
        "id": "zmtCM2ukgpv_",
        "outputId": "f970386d-386c-448f-8cf6-93836d93279a"
      },
      "execution_count": null,
      "outputs": [
        {
          "output_type": "stream",
          "name": "stdout",
          "text": [
            "Dictionary sorted by keys: {'apples': 5, 'banana': 6, 'cherry': 6, 'mangoes': 4, 'oranges': 10}\n",
            "Dictionary sorted by values: {'mangoes': 4, 'apples': 5, 'banana': 6, 'cherry': 6, 'oranges': 10}\n"
          ]
        }
      ]
    }
  ]
}