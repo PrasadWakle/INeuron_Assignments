{
  "nbformat": 4,
  "nbformat_minor": 0,
  "metadata": {
    "colab": {
      "provenance": [],
      "authorship_tag": "ABX9TyOm7nYYdHhQcU40DY82vH+E",
      "include_colab_link": true
    },
    "kernelspec": {
      "name": "python3",
      "display_name": "Python 3"
    },
    "language_info": {
      "name": "python"
    }
  },
  "cells": [
    {
      "cell_type": "markdown",
      "metadata": {
        "id": "view-in-github",
        "colab_type": "text"
      },
      "source": [
        "<a href=\"https://colab.research.google.com/github/PrasadWakle/INeuron_Assignments/blob/master/Assignment_12.ipynb\" target=\"_parent\"><img src=\"https://colab.research.google.com/assets/colab-badge.svg\" alt=\"Open In Colab\"/></a>"
      ]
    },
    {
      "cell_type": "markdown",
      "source": [
        "**1**. In what modes should the PdfFileReader() and PdfFileWriter() File objects will be opened?\n",
        "\n",
        "**Answer**: For `PdfFileReader()` file objects, they should be opened in `'rb'` mode, which stands for **read binary** mode. For `PdfFileWriter()` file objects, they should be opened in `'wb'` mode, which stands for **write binary** mode."
      ],
      "metadata": {
        "id": "xwvms70jsn10"
      }
    },
    {
      "cell_type": "markdown",
      "source": [
        "**2**. From a PdfFileReader object, how do you get a Page object for page 5?\n",
        "\n",
        "**Answer**: To get a `Page` object for page 5 from a `PdfFileReader` object, you can use the `getPage()` method. This method takes a single argument, which is the page number you want to retrieve (starting from 0). Here's an example:\n",
        "\n",
        "```python\n",
        "from PyPDF2 import PdfFileReader\n",
        "\n",
        "with open('example.pdf', 'rb') as f:\n",
        "    reader = PdfFileReader(f)\n",
        "    page = reader.getPage(4)\n",
        "```\n",
        "\n",
        "In this example, we open the PDF file in binary mode and create a `PdfFileReader` object. Then, we use the `getPage()` method to get the `Page` object for page 5 (which is index 4 since page numbers start from 0)."
      ],
      "metadata": {
        "id": "QLwGrfobuaP3"
      }
    },
    {
      "cell_type": "markdown",
      "source": [
        "**3**. What PdfFileReader variable stores the number of pages in the PDF document?\n",
        "\n",
        "**Answer**: The `PdfFileReader` class has a property called `numPages` that returns the total number of pages in the PDF file."
      ],
      "metadata": {
        "id": "v09IytpSvYtb"
      }
    },
    {
      "cell_type": "markdown",
      "source": [
        "**4**. If a PdfFileReader object’s PDF is encrypted with the password swordfish, what must you do before you can obtain Page objects from it?\n",
        "\n",
        "**Answer**: If a `PdfFileReader` object's PDF is encrypted with the password `swordfish`, you must first decrypt the PDF using the `decrypt` method of the `PdfFileReader` object before you can obtain `Page` objects from it. You can do this by calling the `decrypt` method with the password as an argument, like this: `pdfReader.decrypt('swordfish')`. Here's an example:\n",
        "\n",
        "```python\n",
        "import PyPDF2\n",
        "\n",
        "file = open('your_encrypted_pdf_file_path', 'rb')\n",
        "pdfReader = PyPDF2.PdfFileReader(file)\n",
        "\n",
        "pdfReader.decrypt('swordfish')\n",
        "\n",
        "page1 = pdfReader.getPage(0)\n",
        "```\n",
        "\n",
        "This code opens an encrypted PDF file in read binary format, creates a `PdfFileReader` object, and uses the `decrypt` method to decrypt the PDF with the password `swordfish`. After that, you can use the `getPage` method to obtain `Page` objects from the decrypted PDF."
      ],
      "metadata": {
        "id": "8O8Hp0PMs6Xs"
      }
    },
    {
      "cell_type": "markdown",
      "source": [
        "**5**. What methods do you use to rotate a page?\n",
        "\n",
        "**Answer**: To rotate a page in a PDF file using the `PyPDF2` library, you can use the `rotateClockwise` or `rotateCounterClockwise` methods of the `PageObject` class. These methods take an angle in degrees as an argument and rotate the page clockwise or counterclockwise by that angle."
      ],
      "metadata": {
        "id": "gTFw2VYttnl8"
      }
    },
    {
      "cell_type": "markdown",
      "source": [
        "**6**. What is the difference between a Run object and a Paragraph object?\n",
        "\n",
        "**Answer**: A Run object and a Paragraph object are both part of the python-docx library, which is used to create, modify, and extract information from Microsoft Word documents. A Paragraph object represents a paragraph of text in a Word document, while a Run object represents a contiguous run of text with the same style within a paragraph.\n",
        "\n",
        "In other words, a Paragraph object contains one or more Run objects, and each Run object contains text with the same formatting. For example, if you have a paragraph with some text in bold and some text in italic, you would have two Run objects within the Paragraph object - one for the bold text and one for the italic text."
      ],
      "metadata": {
        "id": "pOrb416jt7My"
      }
    },
    {
      "cell_type": "markdown",
      "source": [
        "**7**. How do you obtain a list of Paragraph objects for a Document object that’s stored in a variable named doc?\n",
        "\n",
        "**Answer**: You can obtain a list of `Paragraph` objects for a `Document` object that is stored in a variable named `doc` by accessing the `paragraphs` property of the `doc` object. The `paragraphs` property returns a list of `Paragraph` objects, where each `Paragraph` object represents a paragraph in the document. Here's an example:\n",
        "\n",
        "```python\n",
        "from docx import Document\n",
        "\n",
        "doc = Document('your_file.docx')\n",
        "\n",
        "paragraphs = doc.paragraphs\n",
        "\n",
        "for paragraph in paragraphs:\n",
        "    print(paragraph.text)\n",
        "```"
      ],
      "metadata": {
        "id": "2zuVML0J3Hu3"
      }
    },
    {
      "cell_type": "markdown",
      "source": [
        "**8**. What type of object has bold, underline, italic, strike, and outline variables?\n",
        "\n",
        "**Answer**: A `Run` object has bold, underline, italic, strike, and outline variables. A `Run` object is part of the `python-docx` library and represents a contiguous run of text with the same style within a paragraph. You can use these variables to apply formatting to the text in a `Run` object."
      ],
      "metadata": {
        "id": "CC6NQaMu5qhL"
      }
    },
    {
      "cell_type": "markdown",
      "source": [
        "**9**. What is the difference between False, True, and None for the bold variable?\n",
        "\n",
        "**Answer**: When the `bold` variable is set to `True`, the text in the `Run` object is always displayed in bold. When it is set to `False`, the text is never displayed in bold. When it is set to `None`, the bold formatting of the text is determined by the style of the paragraph that contains the `Run` object."
      ],
      "metadata": {
        "id": "mTq-Fvf16Tzc"
      }
    },
    {
      "cell_type": "markdown",
      "source": [
        "**10**. How do you create a Document object for a new Word document?\n",
        "\n",
        "**Answer**: To create a `Document` object for a new Word document using the `python-docx` library, you can use the `Document` class. When you create a new instance of the `Document` class, it represents a new, blank Word document."
      ],
      "metadata": {
        "id": "fcDFknlZ65nx"
      }
    },
    {
      "cell_type": "markdown",
      "source": [
        "**11**. How do you add a paragraph with the text &#39;Hello, there!&#39; to a Document object stored in a variable named doc?\n",
        "\n",
        "**Answer**: To add a paragraph with the text 'Hello, there!' to a `Document` object stored in a variable named `doc`, you can use the `add_paragraph` method of the `doc` object. This method takes a string as an argument and adds a new paragraph to the document containing the specified text. Here's an example:\n",
        "\n",
        "```python\n",
        "from docx import Document\n",
        "\n",
        "doc = Document()\n",
        "\n",
        "doc.add_paragraph('Hello, there!')\n",
        "```\n",
        "\n",
        "This code creates a new `Document` object and stores it in a variable named `doc`. It then uses the `add_paragraph` method of the `doc` object to add a new paragraph to the document containing the text 'Hello, there!'."
      ],
      "metadata": {
        "id": "PUB6msLh7Ntd"
      }
    },
    {
      "cell_type": "markdown",
      "source": [
        "**12**. What integers represent the levels of headings available in Word documents?\n",
        "\n",
        "**Answer**: The levels of the headings are represented by the integers in the range 0-9, where 0 represents the title of the document and 1-9 represent different levels of headings. The size of the heading decreases as the level increases."
      ],
      "metadata": {
        "id": "clIuLw3p8VM3"
      }
    }
  ]
}