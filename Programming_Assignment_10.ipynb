{
  "nbformat": 4,
  "nbformat_minor": 0,
  "metadata": {
    "colab": {
      "provenance": [],
      "authorship_tag": "ABX9TyOTbwBZDS/JJb5LV4gz9WE5",
      "include_colab_link": true
    },
    "kernelspec": {
      "name": "python3",
      "display_name": "Python 3"
    },
    "language_info": {
      "name": "python"
    }
  },
  "cells": [
    {
      "cell_type": "markdown",
      "metadata": {
        "id": "view-in-github",
        "colab_type": "text"
      },
      "source": [
        "<a href=\"https://colab.research.google.com/github/PrasadWakle/INeuron_Assignments/blob/master/Programming_Assignment_10.ipynb\" target=\"_parent\"><img src=\"https://colab.research.google.com/assets/colab-badge.svg\" alt=\"Open In Colab\"/></a>"
      ]
    },
    {
      "cell_type": "markdown",
      "source": [
        "**1**. Write a Python program to find sum of elements in list?"
      ],
      "metadata": {
        "id": "EIMntr4v5EpP"
      }
    },
    {
      "cell_type": "code",
      "execution_count": 6,
      "metadata": {
        "colab": {
          "base_uri": "https://localhost:8080/"
        },
        "id": "9FXd-uAF5C_N",
        "outputId": "b1f917ab-4b75-49be-ac26-cb43a34c3a38"
      },
      "outputs": [
        {
          "output_type": "stream",
          "name": "stdout",
          "text": [
            "Sum of all the elements in the given list is 55\n"
          ]
        }
      ],
      "source": [
        "l = [1,2,3,4,5,6,7,8,9,10]\n",
        "\n",
        "print(f\"Sum of all the elements in the given list is {sum(l)}\")"
      ]
    },
    {
      "cell_type": "code",
      "source": [
        "# Without using sum method\n",
        "\n",
        "l = [1,2,3,4,5,6,7,8,9,10]\n",
        "\n",
        "n = 0\n",
        "\n",
        "for i in l:\n",
        "  n += i\n",
        "\n",
        "print(f\"Sum of all the elements in the given list is {n}\")"
      ],
      "metadata": {
        "colab": {
          "base_uri": "https://localhost:8080/"
        },
        "id": "V2hd8wOJ5UQ1",
        "outputId": "1b49b496-d4a2-4ac0-a79d-baa77271a26d"
      },
      "execution_count": 5,
      "outputs": [
        {
          "output_type": "stream",
          "name": "stdout",
          "text": [
            "Sum of all the elements in the given list is 55\n"
          ]
        }
      ]
    },
    {
      "cell_type": "markdown",
      "source": [
        "**2**. Write a Python program to Multiply all numbers in the list?"
      ],
      "metadata": {
        "id": "VhQEQwVj59wn"
      }
    },
    {
      "cell_type": "code",
      "source": [
        "import math\n",
        "\n",
        "l = [1,2,3,4,5,6,7,8,9,10]\n",
        "\n",
        "print(f\"Product of all the elements in the given list is {math.prod(l)}\")"
      ],
      "metadata": {
        "colab": {
          "base_uri": "https://localhost:8080/"
        },
        "id": "FchwtR-g5YDq",
        "outputId": "e5481b3d-e989-46e0-d744-dbaf0d1877d1"
      },
      "execution_count": 35,
      "outputs": [
        {
          "output_type": "stream",
          "name": "stdout",
          "text": [
            "Product of all the elements in the given list is 3628800\n"
          ]
        }
      ]
    },
    {
      "cell_type": "code",
      "source": [
        "# Without using prod method\n",
        "\n",
        "l = [1,2,3,4,5,6,7,8,9,10]\n",
        "\n",
        "prod = 1\n",
        "\n",
        "for i in l:\n",
        "  prod *= i\n",
        "\n",
        "print(f\"Product of all the elements in the given list is {prod}\")"
      ],
      "metadata": {
        "colab": {
          "base_uri": "https://localhost:8080/"
        },
        "id": "hrUqXg2T7Yzj",
        "outputId": "bd52e18d-563d-4d6b-aead-359e3c78bedf"
      },
      "execution_count": 10,
      "outputs": [
        {
          "output_type": "stream",
          "name": "stdout",
          "text": [
            "Product of all the elements in the given list is 3628800\n"
          ]
        }
      ]
    },
    {
      "cell_type": "markdown",
      "source": [
        "**3**. Write a Python program to find smallest number in a list?"
      ],
      "metadata": {
        "id": "cXy-Q8Mr59A4"
      }
    },
    {
      "cell_type": "code",
      "source": [
        "l = [1,2,3,4,5,6,7,8,9,10]\n",
        "\n",
        "print(f\"The smallest number in the list is {min(l)}\")"
      ],
      "metadata": {
        "colab": {
          "base_uri": "https://localhost:8080/"
        },
        "id": "slVVmkmj8N5a",
        "outputId": "0c2a6aeb-bb28-4b87-fa35-0595dd306e39"
      },
      "execution_count": 36,
      "outputs": [
        {
          "output_type": "stream",
          "name": "stdout",
          "text": [
            "The smallest number in the list is 1\n"
          ]
        }
      ]
    },
    {
      "cell_type": "code",
      "source": [
        "# Without using the min method\n",
        "my_list = [2,5,4,1,0,8,7,6,4]\n",
        "\n",
        "def sort_list(l):\n",
        "  for i in range(len(l)):\n",
        "    for j in range(i+1, len(l)):\n",
        "      if l[i] > l[j]:\n",
        "        l[i],l[j] = l[j],l[i]\n",
        "  return l\n",
        "\n",
        "my_list = sort_list(my_list)\n",
        "print(f\"The smallest number in the list is {my_list[0]}\")"
      ],
      "metadata": {
        "colab": {
          "base_uri": "https://localhost:8080/"
        },
        "id": "kkNj7shT8dFe",
        "outputId": "f546805b-bca2-44aa-ccf1-f52e241f2d11"
      },
      "execution_count": 37,
      "outputs": [
        {
          "output_type": "stream",
          "name": "stdout",
          "text": [
            "The smallest number in the list is 0\n"
          ]
        }
      ]
    },
    {
      "cell_type": "markdown",
      "source": [
        "**4**. Write a Python program to find largest number in a list?"
      ],
      "metadata": {
        "id": "z_6NviUdC8AY"
      }
    },
    {
      "cell_type": "code",
      "source": [
        "l = [2,4,1,3,5,7,8,9,4,6,0]\n",
        "\n",
        "print(f\"The largest number in the list is {max(l)}\")"
      ],
      "metadata": {
        "colab": {
          "base_uri": "https://localhost:8080/"
        },
        "id": "R3-ZRx6M9LsJ",
        "outputId": "a60907da-8ef6-4caa-80b8-ee9468f31af8"
      },
      "execution_count": 39,
      "outputs": [
        {
          "output_type": "stream",
          "name": "stdout",
          "text": [
            "The largest number in the list is 9\n"
          ]
        }
      ]
    },
    {
      "cell_type": "code",
      "source": [
        "# Without using the max function\n",
        "my_list = [2,4,1,3,5,7,8,9,4,6,0]\n",
        "\n",
        "my_list.sort(reverse = True)\n",
        "\n",
        "print(f\"The largest number in the list is {my_list[0]}\")"
      ],
      "metadata": {
        "colab": {
          "base_uri": "https://localhost:8080/"
        },
        "id": "mRR_q1BgAkmj",
        "outputId": "0462b06a-132d-4475-a5e8-3f8dc23849d2"
      },
      "execution_count": 40,
      "outputs": [
        {
          "output_type": "stream",
          "name": "stdout",
          "text": [
            "The largest number in the list is 9\n"
          ]
        }
      ]
    },
    {
      "cell_type": "markdown",
      "source": [
        "**5**. Write a Python program to find second largest number in a list?"
      ],
      "metadata": {
        "id": "INFgQJcmEisJ"
      }
    },
    {
      "cell_type": "code",
      "source": [
        "my_list = [2,4,1,3,5,7,8,9,4,6,0]\n",
        "\n",
        "my_list.sort(reverse = True)\n",
        "\n",
        "print(f\"The largest number in the list is {my_list[1]}\")"
      ],
      "metadata": {
        "colab": {
          "base_uri": "https://localhost:8080/"
        },
        "id": "SAEVUN9XD60J",
        "outputId": "a31f6669-fd26-42df-8067-abe6142eb63c"
      },
      "execution_count": 41,
      "outputs": [
        {
          "output_type": "stream",
          "name": "stdout",
          "text": [
            "The largest number in the list is 8\n"
          ]
        }
      ]
    },
    {
      "cell_type": "markdown",
      "source": [
        "**6**. Write a Python program to find N largest elements from a list?"
      ],
      "metadata": {
        "id": "icUGVtiHErjp"
      }
    },
    {
      "cell_type": "code",
      "source": [
        "N = int(input(\"Enter a number: \"))\n",
        "\n",
        "my_list = [2,4,1,3,5,7,8,9,4,6,0]\n",
        "\n",
        "my_list.sort()\n",
        "\n",
        "print(f\"The {N}th largest number in the list is {my_list[N-1]}\")"
      ],
      "metadata": {
        "colab": {
          "base_uri": "https://localhost:8080/"
        },
        "id": "0hFLBgpBEnew",
        "outputId": "73f63fb2-f399-4370-c33a-2bd6759ef71f"
      },
      "execution_count": 42,
      "outputs": [
        {
          "output_type": "stream",
          "name": "stdout",
          "text": [
            "Enter a number: 8\n",
            "The 8th largest number in the list is 6\n"
          ]
        }
      ]
    },
    {
      "cell_type": "markdown",
      "source": [
        "**7**. Write a Python program to print even numbers in a list?"
      ],
      "metadata": {
        "id": "qo50uHVlFiNn"
      }
    },
    {
      "cell_type": "code",
      "source": [
        "my_lst = list(map(int, input(\"Enter the elements of the list seperated by spaces: \").split()))\n",
        "print(\"The even numbers in my_lst are: \", end = \" \")\n",
        "\n",
        "for i in my_lst:\n",
        "  if i % 2 == 0:\n",
        "    print(i, end = \" \")\n"
      ],
      "metadata": {
        "colab": {
          "base_uri": "https://localhost:8080/"
        },
        "id": "mZ3nnM3lFLRl",
        "outputId": "fad53b17-78d3-4f76-a75e-e4bc2c61a3ae"
      },
      "execution_count": 22,
      "outputs": [
        {
          "output_type": "stream",
          "name": "stdout",
          "text": [
            "Enter the elements of the list seperated by spaces: 6 4 2 1 8 72 3 4 9\n",
            "The even numbers in my_lst are:  6 4 2 8 72 4 "
          ]
        }
      ]
    },
    {
      "cell_type": "markdown",
      "source": [
        "**8**. Write a Python program to print odd numbers in a List?"
      ],
      "metadata": {
        "id": "z-PjPCu5JADS"
      }
    },
    {
      "cell_type": "code",
      "source": [
        "my_lst = list(map(int, input(\"Enter the elements of the list seperated by spaces: \").split()))\n",
        "print(\"The odd numbers in my_lst are: \", end = \" \")\n",
        "\n",
        "for i in my_lst:\n",
        "  if i % 2 != 0:\n",
        "    print(i, end = \" \")"
      ],
      "metadata": {
        "colab": {
          "base_uri": "https://localhost:8080/"
        },
        "id": "EIZPAtLKIchA",
        "outputId": "996301d1-61fe-44e1-8a83-19527cdf9008"
      },
      "execution_count": 23,
      "outputs": [
        {
          "output_type": "stream",
          "name": "stdout",
          "text": [
            "Enter the elements of the list seperated by spaces: 1 4 5 3 7 9 4 2 9 5\n",
            "The odd numbers in my_lst are:  1 5 3 7 9 9 5 "
          ]
        }
      ]
    },
    {
      "cell_type": "markdown",
      "source": [
        "**9**. Write a Python program to Remove empty List from List?"
      ],
      "metadata": {
        "id": "VickClSFJ9hw"
      }
    },
    {
      "cell_type": "code",
      "source": [
        "lst = [1,4,5,6,8,[],7,2,[]]\n",
        "\n",
        "for i in lst:\n",
        "  if i == []:\n",
        "    lst.remove(i)\n",
        "\n",
        "print(lst)"
      ],
      "metadata": {
        "colab": {
          "base_uri": "https://localhost:8080/"
        },
        "id": "BmcU1XejJRB4",
        "outputId": "d417910b-9aa9-4d6d-dee0-9662d71d6f36"
      },
      "execution_count": 26,
      "outputs": [
        {
          "output_type": "stream",
          "name": "stdout",
          "text": [
            "[1, 4, 5, 6, 8, 7, 2]\n"
          ]
        }
      ]
    },
    {
      "cell_type": "markdown",
      "source": [
        "**10**. Write a Python program to Cloning or Copying a list?"
      ],
      "metadata": {
        "id": "BjvafGR8KFin"
      }
    },
    {
      "cell_type": "code",
      "source": [
        "my_list = [0,1,2,3,4,5,6,7,8,9]\n",
        "\n",
        "# First method using copy method\n",
        "my_list2 = my_list.copy()\n",
        "print(f\"First method:\\n my_list2 = {my_list2}\\n\")\n",
        "\n",
        "# Second method using list method\n",
        "my_list3 = list(my_list)\n",
        "print(f\"Second method:\\n my_list3 = {my_list2}\\n\")\n",
        "\n",
        "# Third method using list comprehension\n",
        "my_list4 = [i for i in my_list]\n",
        "print(f\"Third method:\\n my_list4 = {my_list3}\")"
      ],
      "metadata": {
        "colab": {
          "base_uri": "https://localhost:8080/"
        },
        "id": "pbeZ-m6XKYAS",
        "outputId": "5c274486-8edc-4f97-d023-3823fd87b7b3"
      },
      "execution_count": 43,
      "outputs": [
        {
          "output_type": "stream",
          "name": "stdout",
          "text": [
            "First method:\n",
            " my_list2 = [0, 1, 2, 3, 4, 5, 6, 7, 8, 9]\n",
            "\n",
            "Second method:\n",
            " my_list3 = [0, 1, 2, 3, 4, 5, 6, 7, 8, 9]\n",
            "\n",
            "Third method:\n",
            " my_list4 = [0, 1, 2, 3, 4, 5, 6, 7, 8, 9]\n"
          ]
        }
      ]
    },
    {
      "cell_type": "markdown",
      "source": [
        "**11**. Write a Python program to Count occurrences of an element in a list?"
      ],
      "metadata": {
        "id": "UC9DK1YjLeR7"
      }
    },
    {
      "cell_type": "code",
      "source": [
        "my_List = [4,5,1,2,3,4,7,9,4,2,6,4,2]\n",
        "\n",
        "num = int(input(\"Enter a number: \"))\n",
        "\n",
        "count = 0\n",
        "\n",
        "for i in my_List:\n",
        "  if i == num:\n",
        "    count += 1\n",
        "\n",
        "print(f\"The number of occurrences of number {num} in my_List are {count}\")"
      ],
      "metadata": {
        "colab": {
          "base_uri": "https://localhost:8080/"
        },
        "id": "6uJA6QejLYvf",
        "outputId": "59d23490-eed9-4f61-e00e-704b9781147d"
      },
      "execution_count": 33,
      "outputs": [
        {
          "output_type": "stream",
          "name": "stdout",
          "text": [
            "Enter a number: 4\n",
            "The number of occurrences of number 4 in my_List are 4\n"
          ]
        }
      ]
    },
    {
      "cell_type": "code",
      "source": [
        "# Using count method\n",
        "\n",
        "my_List = [4,5,1,2,3,4,7,9,4,2,6,4,2]\n",
        "\n",
        "num = int(input(\"Enter a number: \"))\n",
        "\n",
        "print(f\"The number of occurrences of number {num} in my_List are {my_List.count(num)}\")"
      ],
      "metadata": {
        "colab": {
          "base_uri": "https://localhost:8080/"
        },
        "id": "HDpk-s1iMab5",
        "outputId": "854c13f0-94d3-4509-c604-73c431187145"
      },
      "execution_count": 34,
      "outputs": [
        {
          "output_type": "stream",
          "name": "stdout",
          "text": [
            "Enter a number: 4\n",
            "The number of occurrences of number 4 in my_List are 4\n"
          ]
        }
      ]
    }
  ]
}