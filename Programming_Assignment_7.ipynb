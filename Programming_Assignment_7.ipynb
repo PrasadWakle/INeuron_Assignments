{
  "nbformat": 4,
  "nbformat_minor": 0,
  "metadata": {
    "colab": {
      "provenance": [],
      "authorship_tag": "ABX9TyM7teII2ncxm8h5f0whLXyj",
      "include_colab_link": true
    },
    "kernelspec": {
      "name": "python3",
      "display_name": "Python 3"
    },
    "language_info": {
      "name": "python"
    }
  },
  "cells": [
    {
      "cell_type": "markdown",
      "metadata": {
        "id": "view-in-github",
        "colab_type": "text"
      },
      "source": [
        "<a href=\"https://colab.research.google.com/github/PrasadWakle/INeuron_Assignments/blob/master/Programming_Assignment_7.ipynb\" target=\"_parent\"><img src=\"https://colab.research.google.com/assets/colab-badge.svg\" alt=\"Open In Colab\"/></a>"
      ]
    },
    {
      "cell_type": "markdown",
      "source": [
        "**1**. Write a Python Program to find sum of array?"
      ],
      "metadata": {
        "id": "5NkW8HzUijKV"
      }
    },
    {
      "cell_type": "code",
      "source": [
        "my_array = list(map(int,input(\"Enter the elements of the array seperated by spaces :\").split()))\n",
        "\n",
        "sum = 0\n",
        "\n",
        "for i in my_array:\n",
        "  sum += i\n",
        "\n",
        "print(f\"The sum of the array is {sum}\")\n"
      ],
      "metadata": {
        "colab": {
          "base_uri": "https://localhost:8080/"
        },
        "id": "LnUg_pW-irKo",
        "outputId": "deec25f0-85c3-4507-e98b-08b7e050120d"
      },
      "execution_count": null,
      "outputs": [
        {
          "output_type": "stream",
          "name": "stdout",
          "text": [
            "Enter the elements of the array seperated by spaces :1 2 3\n",
            "6\n"
          ]
        }
      ]
    },
    {
      "cell_type": "markdown",
      "source": [
        "**2**. Write a Python Program to find largest element in an array?"
      ],
      "metadata": {
        "id": "whnnNCgIjz41"
      }
    },
    {
      "cell_type": "code",
      "source": [
        "my_array = list(map(int,input(\"Enter the elements of the array seperated by spaces :\").split()))\n",
        "\n",
        "maximum = None\n",
        "\n",
        "for i in range(len(my_array)-1):\n",
        "\n",
        "  if my_array[i] > my_array[i + 1]:\n",
        "    maximum = my_array[i]\n",
        "\n",
        "  else:\n",
        "    maximum = my_array[i + 1]\n",
        "\n",
        "print(f\"The maximum number is {maximum}\")"
      ],
      "metadata": {
        "colab": {
          "base_uri": "https://localhost:8080/"
        },
        "id": "m44K25fQj1QM",
        "outputId": "aba117fa-50fe-472e-acee-1396d81eecda"
      },
      "execution_count": null,
      "outputs": [
        {
          "output_type": "stream",
          "name": "stdout",
          "text": [
            "Enter the elements of the array seperated by spaces :2 4 6 8 7 4 5 6 1 2 3 8 9\n",
            "The maximum number is 9\n"
          ]
        }
      ]
    },
    {
      "cell_type": "code",
      "source": [
        "# Using inbuilt method\n",
        "\n",
        "my_array = list(map(int,input(\"Enter the elements of the array seperated by spaces :\").split()))\n",
        "\n",
        "print(f\"The maximum number is {max(my_array)}\")"
      ],
      "metadata": {
        "colab": {
          "base_uri": "https://localhost:8080/"
        },
        "id": "AUNc9FzvjQJ_",
        "outputId": "8935c20c-5162-4f17-e221-d4236d0052e7"
      },
      "execution_count": null,
      "outputs": [
        {
          "output_type": "stream",
          "name": "stdout",
          "text": [
            "Enter the elements of the array seperated by spaces :2 4 6 8 7 4 5 6 1 2 3 8 9\n",
            "The maximum number is 9\n"
          ]
        }
      ]
    },
    {
      "cell_type": "markdown",
      "source": [
        "**3**. Write a Python Program for array rotation?"
      ],
      "metadata": {
        "id": "KdHvJOL7oFq2"
      }
    },
    {
      "cell_type": "code",
      "source": [
        "my_array = list(map(int,input(\"Enter the elements of the array seperated by spaces :\").split()))\n",
        "\n",
        "my_array_copy = my_array.copy()\n",
        "\n",
        "k = int(input(\"Enter the rotation:\"))\n",
        "\n",
        "arr = []\n",
        "\n",
        "for i in range(1,k+1):\n",
        "  arr.append(my_array_copy.pop())\n",
        "\n",
        "result = arr+my_array_copy\n",
        "\n",
        "print(f\"The original array is: {my_array}\")\n",
        "print(f\"The rotated array is: {result}\")"
      ],
      "metadata": {
        "colab": {
          "base_uri": "https://localhost:8080/"
        },
        "id": "GqahzNx9moMR",
        "outputId": "a5b9e869-ed9e-442a-954a-c6f2f37f7023"
      },
      "execution_count": null,
      "outputs": [
        {
          "output_type": "stream",
          "name": "stdout",
          "text": [
            "Enter the elements of the array seperated by spaces :1 2 3 4 5\n",
            "Enter the rotation:2\n",
            "The original array is: [1, 2, 3, 4, 5]\n",
            "The rotated array is: [5, 4, 1, 2, 3]\n"
          ]
        }
      ]
    },
    {
      "cell_type": "markdown",
      "source": [
        "**4**. Write a Python Program to Split the array and add the first part to the end?"
      ],
      "metadata": {
        "id": "DK_yDTBWwE13"
      }
    },
    {
      "cell_type": "code",
      "source": [
        "def rotate_array(arr, k):\n",
        "    n = len(arr)\n",
        "    k = k % n\n",
        "    first_part = arr[:n-k]\n",
        "    end = arr[n-k:]\n",
        "\n",
        "    print(f\"The first part of array is {first_part} and it's end is {end}\")\n",
        "    return end + first_part\n",
        "\n",
        "my_array = list(map(int,input(\"Enter the elements of the array seperated by spaces :\").split()))\n",
        "k = int(input(\"Enter the rotation:\"))\n",
        "\n",
        "result = rotate_array(my_array, k)\n",
        "\n",
        "print(f\"The original array is: {my_array}\")\n",
        "print(f\"The rotated array is: {result}\")"
      ],
      "metadata": {
        "colab": {
          "base_uri": "https://localhost:8080/"
        },
        "id": "uA2J0riLq5Zn",
        "outputId": "ceb24f60-3047-4a17-f3e2-b25aed5835ce"
      },
      "execution_count": null,
      "outputs": [
        {
          "output_type": "stream",
          "name": "stdout",
          "text": [
            "Enter the elements of the array seperated by spaces :1 2 3 4 5\n",
            "Enter the rotation:2\n",
            "The first part of array is [1, 2, 3] and it's end is [4, 5]\n",
            "The original array is: [1, 2, 3, 4, 5]\n",
            "The rotated array is: [4, 5, 1, 2, 3]\n"
          ]
        }
      ]
    },
    {
      "cell_type": "markdown",
      "source": [
        "**5**. Write a Python Program to check if given array is Monotonic?"
      ],
      "metadata": {
        "id": "d4a2NbFSxRYm"
      }
    },
    {
      "cell_type": "code",
      "source": [
        "my_array = list(map(int,input(\"Enter the elements of the array seperated by spaces :\").split()))\n",
        "\n",
        "flag = False\n",
        "\n",
        "for i in range(len(my_array)-1):\n",
        "\n",
        "  if my_array[i] > my_array[i + 1]:\n",
        "    flag = True\n",
        "\n",
        "  elif my_array[i] < my_array[i + 1]:\n",
        "    flag = True\n",
        "\n",
        "  else:\n",
        "    flag = False\n",
        "\n",
        "if flag == True:\n",
        "  print(\"The given array is monotonic\")\n",
        "\n",
        "else:\n",
        "  print(\"The given array is not monotonic\")"
      ],
      "metadata": {
        "colab": {
          "base_uri": "https://localhost:8080/"
        },
        "id": "G9pRwoiTwUy7",
        "outputId": "f0a67a80-87fa-4406-dcc0-25e0cf50cd56"
      },
      "execution_count": null,
      "outputs": [
        {
          "output_type": "stream",
          "name": "stdout",
          "text": [
            "Enter the elements of the array seperated by spaces :5 4 3 2 1\n",
            "The given array is monotonic\n"
          ]
        }
      ]
    }
  ]
}