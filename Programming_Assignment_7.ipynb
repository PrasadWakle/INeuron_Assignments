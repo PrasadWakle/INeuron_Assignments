{
  "nbformat": 4,
  "nbformat_minor": 0,
  "metadata": {
    "colab": {
      "provenance": [],
      "authorship_tag": "ABX9TyOXTf/xxdVR1wFjoQAyxr6t",
      "include_colab_link": true
    },
    "kernelspec": {
      "name": "python3",
      "display_name": "Python 3"
    },
    "language_info": {
      "name": "python"
    }
  },
  "cells": [
    {
      "cell_type": "markdown",
      "metadata": {
        "id": "view-in-github",
        "colab_type": "text"
      },
      "source": [
        "<a href=\"https://colab.research.google.com/github/PrasadWakle/INeuron_Assignments/blob/master/Programming_Assignment_7.ipynb\" target=\"_parent\"><img src=\"https://colab.research.google.com/assets/colab-badge.svg\" alt=\"Open In Colab\"/></a>"
      ]
    },
    {
      "cell_type": "markdown",
      "source": [
        "**1**. Write a Python Program to find sum of array?"
      ],
      "metadata": {
        "id": "5NkW8HzUijKV"
      }
    },
    {
      "cell_type": "code",
      "source": [
        "my_array = list(map(int,input(\"Enter the elements of the array seperated by spaces :\").split()))\n",
        "\n",
        "sum = 0\n",
        "\n",
        "for i in my_array:\n",
        "  sum += i\n",
        "\n",
        "print(f\"The sum of the array is {sum}\")\n"
      ],
      "metadata": {
        "colab": {
          "base_uri": "https://localhost:8080/"
        },
        "id": "LnUg_pW-irKo",
        "outputId": "deec25f0-85c3-4507-e98b-08b7e050120d"
      },
      "execution_count": null,
      "outputs": [
        {
          "output_type": "stream",
          "name": "stdout",
          "text": [
            "Enter the elements of the array seperated by spaces :1 2 3\n",
            "6\n"
          ]
        }
      ]
    },
    {
      "cell_type": "markdown",
      "source": [
        "**2**. Write a Python Program to find largest element in an array?"
      ],
      "metadata": {
        "id": "whnnNCgIjz41"
      }
    },
    {
      "cell_type": "code",
      "source": [
        "my_array = list(map(int,input(\"Enter the elements of the array seperated by spaces :\").split()))\n",
        "\n",
        "maximum = None\n",
        "\n",
        "for i in range(len(my_array)-1):\n",
        "\n",
        "  if my_array[i] > my_array[i + 1]:\n",
        "    maximum = my_array[i]\n",
        "\n",
        "  else:\n",
        "    maximum = my_array[i + 1]\n",
        "\n",
        "print(f\"The maximum number is {maximum}\")"
      ],
      "metadata": {
        "colab": {
          "base_uri": "https://localhost:8080/"
        },
        "id": "m44K25fQj1QM",
        "outputId": "aba117fa-50fe-472e-acee-1396d81eecda"
      },
      "execution_count": null,
      "outputs": [
        {
          "output_type": "stream",
          "name": "stdout",
          "text": [
            "Enter the elements of the array seperated by spaces :2 4 6 8 7 4 5 6 1 2 3 8 9\n",
            "The maximum number is 9\n"
          ]
        }
      ]
    },
    {
      "cell_type": "code",
      "source": [
        "# Using inbuilt method\n",
        "\n",
        "my_array = list(map(int,input(\"Enter the elements of the array seperated by spaces :\").split()))\n",
        "\n",
        "print(f\"The maximum number is {max(my_array)}\")"
      ],
      "metadata": {
        "colab": {
          "base_uri": "https://localhost:8080/"
        },
        "id": "AUNc9FzvjQJ_",
        "outputId": "8935c20c-5162-4f17-e221-d4236d0052e7"
      },
      "execution_count": null,
      "outputs": [
        {
          "output_type": "stream",
          "name": "stdout",
          "text": [
            "Enter the elements of the array seperated by spaces :2 4 6 8 7 4 5 6 1 2 3 8 9\n",
            "The maximum number is 9\n"
          ]
        }
      ]
    },
    {
      "cell_type": "markdown",
      "source": [
        "**3**. Write a Python Program for array rotation?"
      ],
      "metadata": {
        "id": "KdHvJOL7oFq2"
      }
    },
    {
      "cell_type": "code",
      "source": [
        "my_array = list(map(int,input(\"Enter the elements of the array seperated by spaces :\").split()))\n",
        "\n",
        "my_array_copy = my_array.copy()\n",
        "\n",
        "k = int(input(\"Enter the rotation:\"))\n",
        "\n",
        "arr = []\n",
        "\n",
        "for i in range(1,k+1):\n",
        "  arr.append(my_array_copy.pop())\n",
        "\n",
        "result = arr+my_array_copy\n",
        "\n",
        "print(f\"The original array is: {my_array}\")\n",
        "print(f\"The rotated array is: {result}\")"
      ],
      "metadata": {
        "colab": {
          "base_uri": "https://localhost:8080/"
        },
        "id": "GqahzNx9moMR",
        "outputId": "a5b9e869-ed9e-442a-954a-c6f2f37f7023"
      },
      "execution_count": null,
      "outputs": [
        {
          "output_type": "stream",
          "name": "stdout",
          "text": [
            "Enter the elements of the array seperated by spaces :1 2 3 4 5\n",
            "Enter the rotation:2\n",
            "The original array is: [1, 2, 3, 4, 5]\n",
            "The rotated array is: [5, 4, 1, 2, 3]\n"
          ]
        }
      ]
    },
    {
      "cell_type": "markdown",
      "source": [
        "**4**. Write a Python Program to Split the array and add the first part to the end?"
      ],
      "metadata": {
        "id": "DK_yDTBWwE13"
      }
    },
    {
      "cell_type": "code",
      "source": [
        "def left_rotation(arr, k):\n",
        "    return arr[k:] + arr[:k]\n",
        "\n",
        "def right_rotation(arr, k):\n",
        "    return arr[-k:] + arr[:-k]\n",
        "\n",
        "my_array = list(map(int,input(\"Enter the elements of the array seperated by spaces :\").split()))\n",
        "k = int(input(\"Enter the rotation:\"))\n",
        "\n",
        "\n",
        "print(f\"The original array is: {my_array}\")\n",
        "print(f\"The left rotated array is: {left_rotation(my_array,k)}\")\n",
        "print(f\"The right rotated array is: {right_rotation(my_array,k)}\")"
      ],
      "metadata": {
        "colab": {
          "base_uri": "https://localhost:8080/"
        },
        "id": "uA2J0riLq5Zn",
        "outputId": "44b903a0-0272-4a02-e7c4-614a7a020172"
      },
      "execution_count": 1,
      "outputs": [
        {
          "output_type": "stream",
          "name": "stdout",
          "text": [
            "Enter the elements of the array seperated by spaces :1 2 3 4 5\n",
            "Enter the rotation:2\n",
            "The original array is: [1, 2, 3, 4, 5]\n",
            "The left rotated array is: [3, 4, 5, 1, 2]\n",
            "The right rotated array is: [4, 5, 1, 2, 3]\n"
          ]
        }
      ]
    },
    {
      "cell_type": "markdown",
      "source": [
        "**5**. Write a Python Program to check if given array is Monotonic?"
      ],
      "metadata": {
        "id": "d4a2NbFSxRYm"
      }
    },
    {
      "cell_type": "code",
      "source": [
        "my_array = list(map(int,input(\"Enter the elements of the array seperated by spaces :\").split()))\n",
        "\n",
        "flag = True\n",
        "\n",
        "for i in range(len(my_array)-1):\n",
        "\n",
        "  if my_array[i] > my_array[i + 1]:\n",
        "    flag = False\n",
        "    break\n",
        "\n",
        "if flag:\n",
        "  print(\"The given array is monotonic\")\n",
        "\n",
        "else:\n",
        "  print(\"The given array is not monotonic\")"
      ],
      "metadata": {
        "colab": {
          "base_uri": "https://localhost:8080/"
        },
        "id": "G9pRwoiTwUy7",
        "outputId": "d09881a7-66c6-4c00-9bc2-ebd12c053eef"
      },
      "execution_count": 2,
      "outputs": [
        {
          "output_type": "stream",
          "name": "stdout",
          "text": [
            "Enter the elements of the array seperated by spaces :4 2 6 1 5\n",
            "The given array is not monotonic\n"
          ]
        }
      ]
    }
  ]
}