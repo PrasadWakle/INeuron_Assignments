{
  "nbformat": 4,
  "nbformat_minor": 0,
  "metadata": {
    "colab": {
      "provenance": [],
      "authorship_tag": "ABX9TyMsBql7K4Gttq9meax6XKkX",
      "include_colab_link": true
    },
    "kernelspec": {
      "name": "python3",
      "display_name": "Python 3"
    },
    "language_info": {
      "name": "python"
    }
  },
  "cells": [
    {
      "cell_type": "markdown",
      "metadata": {
        "id": "view-in-github",
        "colab_type": "text"
      },
      "source": [
        "<a href=\"https://colab.research.google.com/github/PrasadWakle/INeuron_Assignments/blob/master/Assignment_13.ipynb\" target=\"_parent\"><img src=\"https://colab.research.google.com/assets/colab-badge.svg\" alt=\"Open In Colab\"/></a>"
      ]
    },
    {
      "cell_type": "markdown",
      "source": [
        "**1**. What advantages do Excel spreadsheets have over CSV spreadsheets?\n",
        "\n",
        "**Answer**: The advantages of Excel spreadsheets over CSV spreadsheets:\n",
        "\n",
        "1. **Operations on data**: Excel can perform operations on the data, while CSV files can’t.\n",
        "2. **Formatting**: Excel not only stores data but can also do operations on the data. It contains formatting, formulas, macros, etc. A CSV file is just a text file, it stores data but does not contain formatting.\n",
        "3. **Portability**: The main advantage of Excel over CSV format is its greater portability (CSV format is supported on all Xpress platforms) and the possibility to combine the csv driver freely it with other drivers, such as shmem or rmt that are not compatible with the other spreadsheet drivers.\n",
        "\n",
        "In summary, Excel spreadsheets are more powerful than CSV spreadsheets in terms of operations on data, formatting and portability."
      ],
      "metadata": {
        "id": "dcFEFvpMAYR3"
      }
    },
    {
      "cell_type": "markdown",
      "source": [
        "**2**.What do you pass to csv.reader() and csv.writer() to create reader and writer objects?\n",
        "\n",
        "**Answer**: To create a reader object using `csv.reader()`, you need to pass a file object or an iterable object as the first argument. The file object should be opened with `newline=''`. You can also pass optional parameters such as `dialect` and formatting parameters to control how the CSV data is parsed.\n",
        "\n",
        "To create a writer object using `csv.writer()`, you need to pass a file-like object with a `write()` method as the first argument. You can also pass optional parameters such as `dialect` and formatting parameters to control how the CSV data is written."
      ],
      "metadata": {
        "id": "oeih_ROsBRF6"
      }
    },
    {
      "cell_type": "markdown",
      "source": [
        "**3**. What modes do File objects for reader and writer objects need to be opened in?\n",
        "\n",
        "**Answer**: File objects for reader and writer objects need to be opened in different modes depending on the operation you want to perform.\n",
        "\n",
        "- To create a `reader` object using the `csv.reader()` method, you need to open the file object in read mode (`'r'`). This allows you to read data from the file but not write to it.\n",
        "- To create a `writer` object using the `csv.writer()` method, you need to open the file object in write mode (`'w'`) or append mode (`'a'`). Write mode overwrites the contents of the file if it already exists, while append mode adds new data to the end of the file without overwriting existing data."
      ],
      "metadata": {
        "id": "fep-zkiPHHp6"
      }
    },
    {
      "cell_type": "markdown",
      "source": [
        "**4**. What method takes a list argument and writes it to a CSV file?\n",
        "\n",
        "**Answer**: The `writerow()` takes a list argument and writes it to a csv file."
      ],
      "metadata": {
        "id": "GAdHOIhbMnMK"
      }
    },
    {
      "cell_type": "markdown",
      "source": [
        "**5**. What do the keyword arguments delimiter and line terminator do?\n",
        "\n",
        "**Answer**: The `delimiter` and `line terminator` are keyword arguments that can be used when working with the `csv` module in Python. They control how data is formatted when reading from or writing to a CSV file.\n",
        "\n",
        "- The `delimiter` keyword argument specifies the character that separates fields within a record. The default value is a comma (`,`). For example, if you want to use a semicolon (`;`) as the field separator, you can specify `delimiter=';'` when creating a reader or writer object.\n",
        "- The `line terminator` keyword argument specifies the character that separates records within a CSV file. The default value is a newline character (`\\n`). For example, if you want to use a carriage return followed by a newline character (`\\r\\n`) as the record separator, you can specify `lineterminator='\\r\\n'` when creating a writer object."
      ],
      "metadata": {
        "id": "zZpCBEr8NRdp"
      }
    },
    {
      "cell_type": "markdown",
      "source": [
        "**6**. What function takes a string of JSON data and returns a Python data structure?\n",
        "\n",
        "**Answer**: The function that takes a string of JSON data and returns a Python data structure is `json.loads()`. This function is part of the `json` module in Python. It takes a JSON string as an argument and returns a Python object, such as a dictionary or list, depending on the structure of the JSON data."
      ],
      "metadata": {
        "id": "n58rrAuvdL2y"
      }
    },
    {
      "cell_type": "markdown",
      "source": [
        "**7**. What function takes a Python data structure and returns a string of JSON data?\n",
        "\n",
        "**Answer**: The function that takes a Python data structure and returns a string of JSON data is `json.dumps()`. This function is part of the `json` module in Python. It takes a Python object, such as a dictionary or list, as an argument and returns a JSON-formatted string."
      ],
      "metadata": {
        "id": "lvQmNp1ka_9z"
      }
    }
  ]
}