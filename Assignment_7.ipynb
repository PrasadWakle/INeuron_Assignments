{
  "nbformat": 4,
  "nbformat_minor": 0,
  "metadata": {
    "colab": {
      "provenance": [],
      "authorship_tag": "ABX9TyMPVaS9EiAufu8x5nPIZSIJ",
      "include_colab_link": true
    },
    "kernelspec": {
      "name": "python3",
      "display_name": "Python 3"
    },
    "language_info": {
      "name": "python"
    }
  },
  "cells": [
    {
      "cell_type": "markdown",
      "metadata": {
        "id": "view-in-github",
        "colab_type": "text"
      },
      "source": [
        "<a href=\"https://colab.research.google.com/github/PrasadWakle/INeuron_Assignments/blob/master/Assignment_7.ipynb\" target=\"_parent\"><img src=\"https://colab.research.google.com/assets/colab-badge.svg\" alt=\"Open In Colab\"/></a>"
      ]
    },
    {
      "cell_type": "markdown",
      "source": [
        "**1**. What is the name of the feature responsible for generating Regex objects?\n",
        "\n",
        "**Answer**: The feature responsible for generating Regex objects is the re.compile( )."
      ],
      "metadata": {
        "id": "xtnf5v2h_tW-"
      }
    },
    {
      "cell_type": "markdown",
      "source": [
        "**2**. Why do raw strings often appear in Regex objects?\n",
        "\n",
        "**Answer**: Raw strings are often used in regular expressions because they make it easier to write and read regular expression patterns. In regular expressions, certain characters have special meanings, such as the backslash `(\\)`, which is used to escape special characters. For example, to match a literal period `(.)` in a regular expression, you need to escape it with a backslash `(\\.)`.\n",
        "\n",
        "In normal strings in Python, the backslash is also used as an escape character. This means that to include a literal backslash in a string, you need to escape it by writing two backslashes `(\\\\)`. This can make regular expression patterns difficult to read and write, as you need to use double backslashes to escape special characters.\n",
        "\n",
        "Raw strings, on the other hand, treat backslashes as literal characters. This means that you can write a single backslash in a raw string to escape special characters in a regular expression pattern. For example, to match a literal period in a raw string, you can write `r'\\.'` instead of `'\\\\.'`."
      ],
      "metadata": {
        "id": "wLOXYRmpNtJ9"
      }
    },
    {
      "cell_type": "markdown",
      "source": [
        "**3**. What is the return value of the search() method?\n",
        "\n",
        "**Answer**: The search method returns a match object."
      ],
      "metadata": {
        "id": "EQBmizkwPgkA"
      }
    },
    {
      "cell_type": "markdown",
      "source": [
        "**4**. From a Match item, how do you get the actual strings that match the pattern?\n",
        "\n",
        "**Answer**: From a Match object, you can get the actual strings that match the pattern by using the group( ) method. The group() method returns one or more subgroups of the match, depending on how the regular expression pattern is written."
      ],
      "metadata": {
        "id": "9Hp2IvwCP8OP"
      }
    },
    {
      "cell_type": "markdown",
      "source": [
        "**5**. In the regex which created from the r&#39;(\\d\\d\\d)-(\\d\\d\\d-\\d\\d\\d\\d)&#39;, what does group zero cover?\n",
        "Group 2? Group 1?\n",
        "\n",
        "**Answer**: In the regular expression r'(\\d\\d\\d)-(\\d\\d\\d-\\d\\d\\d\\d)', group zero refers to the entire matched string, while group 1 and group 2 refer to the first and second capturing groups, respectively."
      ],
      "metadata": {
        "id": "P-dE63sJSx9o"
      }
    },
    {
      "cell_type": "markdown",
      "source": [
        "**6**. In standard expression syntax, parentheses and intervals have distinct meanings. How can you tell a regex that you want it to fit real parentheses and periods?\n",
        "\n",
        "**Answer**: To match literal parentheses and periods in a regular expression, you need to escape them by preceding them with a backslash `\\`. For example, to match the string `(abc).`, you would use the regular expression pattern `\\(abc\\)\\.`.\n"
      ],
      "metadata": {
        "id": "c954AwiOU0N2"
      }
    },
    {
      "cell_type": "markdown",
      "source": [
        "**7**. The findall( ) method returns a string list or a list of string tuples. What causes it to return one of the two options?\n",
        "\n",
        "**Answer**: The findall() method in Python’s re module returns a list of strings or a list of tuples of strings depending on the regular expression pattern used. If the pattern contains no capturing groups, the method returns a list of strings that match the pattern. If the pattern contains one or more capturing groups, the method returns a list of tuples, where each tuple contains the strings that match the groups. Capturing groups are denoted by parentheses () in the regular expression pattern."
      ],
      "metadata": {
        "id": "GEN4mx0bZMIc"
      }
    },
    {
      "cell_type": "markdown",
      "source": [
        "**8**. In standard expressions, what does the | character mean?\n",
        "\n",
        "**Answer**: The `|` character in regular expressions is called the alternation operator. It is used to match one of several alternative patterns. For example, the regular expression `a|b` matches either the character a or the character b."
      ],
      "metadata": {
        "id": "k-ZVPsUE6gd9"
      }
    },
    {
      "cell_type": "markdown",
      "source": [
        "**9**. In regular expressions, what does the character stand for?\n",
        "\n",
        "**Answer**: Please mention the character."
      ],
      "metadata": {
        "id": "2JWycVEi7Bu8"
      }
    },
    {
      "cell_type": "markdown",
      "source": [
        "**10**. In regular expressions, what is the difference between the + and * characters?\n",
        "\n",
        "**Answer**: In regular expressions, the `+` and `*` characters are both quantifiers that specify how many times a character, group, or character class should be matched. The + character means one or more occurrences of the preceding character, group, or character class. For example, the regular expression a+ matches one or more consecutive a characters. The * character means zero or more occurrences of the preceding character, group, or character class. For example, the regular expression a* matches zero or more consecutive a characters. The main difference between the two is that + requires at least one occurrence of the preceding element, while * allows for zero occurrences."
      ],
      "metadata": {
        "id": "WgccPe2i8CDk"
      }
    },
    {
      "cell_type": "markdown",
      "source": [
        " **11**. What is the difference between {4} and {4,5} in regular expression?\n",
        "\n",
        " **Answer**:  The {4} notation means that the preceding character or group should be repeated exactly 4 times. For example, a{4} will match the string \"aaaa\".\n",
        "\n",
        "On the other hand, the {4,5} notation means that the preceding character or group should be repeated between 4 and 5 times, inclusive. For example, a{4,5} will match the strings \"aaaa\" and \"aaaaa\". So, the difference between {4} and {4,5} is that {4} specifies an exact number of repetitions while {4,5} specifies a range of repetitions."
      ],
      "metadata": {
        "id": "uFqGA82gPKwL"
      }
    },
    {
      "cell_type": "markdown",
      "source": [
        "**12**. What do you mean by the \\d, \\w, and \\s shorthand character classes signify in regular expressions?\n",
        "\n",
        "**Answer**:\n",
        "* \\d stands for “digit” and matches any numeric character (0-9).\n",
        "\n",
        "* \\w stands for “word” and matches any alphanumeric character (a-z, A-Z, 0-9) and the underscore (_).\n",
        "\n",
        "* \\s stands for “whitespace” and matches any whitespace character such as space, tab, or newline."
      ],
      "metadata": {
        "id": "DFWyApv9PgGc"
      }
    },
    {
      "cell_type": "markdown",
      "source": [
        "**13**. What do means by \\D, \\W, and \\S shorthand character classes signify in regular expressions?\n",
        "\n",
        "**Answer**:\n",
        "* \\D stands for “non-digit” and matches any character that is not a numeric character (0-9).\n",
        "\n",
        "* \\W stands for “non-word” and matches any character that is not an alphanumeric character (a-z, A-Z, 0-9) or the underscore (_).\n",
        "\n",
        "* \\S stands for “non-whitespace” and matches any character that is not a whitespace character such as space, tab, or newline."
      ],
      "metadata": {
        "id": "6ceC3t90Rmyi"
      }
    },
    {
      "cell_type": "markdown",
      "source": [
        "**14**. What is the difference between `.*?` and `.*`?\n",
        "\n",
        "**Answer**: In regular expressions, the `.` character matches any character except for a newline, and the `*` character means to match the preceding character or group zero or more times. So, `.*` means to match any character except for a newline zero or more times.\n",
        "\n",
        "The `?` character, when used after a quantifier like `*`, makes the quantifier “lazy” or “non-greedy”. This means that it will match as few characters as possible while still satisfying the overall regular expression. So, `.*?` means to match any character except for a newline zero or more times, but as few times as possible.\n",
        "\n",
        "The `.*` pattern is “greedy” and will match as many characters as possible, while the `.*?` pattern is “lazy” and will match as few characters as possible."
      ],
      "metadata": {
        "id": "w7NbuMMzSA0g"
      }
    },
    {
      "cell_type": "markdown",
      "source": [
        "**15**. What is the syntax for matching both numbers and lowercase letters with a character class?\n",
        "\n",
        "**Answer**: The syntax for matching both numbers and lowercase letters with a character class in regular expressions is [0-9a-z]."
      ],
      "metadata": {
        "id": "PW74q8LzbeAb"
      }
    },
    {
      "cell_type": "markdown",
      "source": [
        "**16**. What is the procedure for making a normal expression in regax case insensitive?\n",
        "\n",
        "**Answer**: By passing re.I or re.IGNORECASE as the second argument to re.compile() will make the matching case insensitive."
      ],
      "metadata": {
        "id": "nM7Xwk4Lbyvc"
      }
    },
    {
      "cell_type": "markdown",
      "source": [
        "**17**. What does the . character normally match? What does it match if re.DOTALL is passed as 2nd argument in re.compile()?\n",
        "\n",
        "**Answer**: The `.` character is a metacharacter that normally matches any character except for a newline character. This means that it will match any single character, including letters, digits, punctuation, and whitespace characters, as long as it is not a newline character.\n",
        "\n",
        "However, if the re.DOTALL flag is passed as the second argument to the re.compile() function, the behavior of the . character changes. When the re.DOTALL flag is used, the `.` character will match any character, including newline characters. This means that it will match any single character without exception."
      ],
      "metadata": {
        "id": "omTVaRzHby5_"
      }
    },
    {
      "cell_type": "markdown",
      "source": [
        "**18**. If numReg = re.compile(r&#39;\\d+&#39;), what will numRegex.sub(&#39;X&#39;, &#39;11 drummers, 10 pipers, five rings, 4\n",
        "hen&#39;) return?\n",
        "\n",
        "**Answer**: If numReg = re.compile(r'\\d+'), then calling numReg.sub('X', '11 drummers, 10 pipers, five rings, 4 hen') will return the string 'X drummers, X pipers, five rings, X hen'.\n",
        "\n",
        "The sub() method of a compiled regular expression is used to replace all occurrences of the pattern in a given string with a replacement string. In this case, the regular expression r'\\d+' matches one or more digits, so it will match the substrings \"11\", \"10\", and \"4\" in the input string. The sub() method replaces each of these matches with the replacement string \"X\", resulting in the output string 'X drummers, X pipers, five rings, X hen'."
      ],
      "metadata": {
        "id": "iGz9bXspfu8Y"
      }
    },
    {
      "cell_type": "markdown",
      "source": [
        "**19**. What does passing re.VERBOSE as the 2nd argument to re.compile() allow to do?\n",
        "\n",
        "**Answer**: Passing re.VERBOSE as the second argument to `re.compile()` allows you to write regular expressions that are more readable by allowing you to add whitespace and comments to the pattern string. When the re.VERBOSE flag is used, whitespace characters in the regular expression are ignored, except when they are inside a character class or preceded by an escape character. This allows you to organize the regular expression into multiple lines and add indentation to make it more readable.\n",
        "\n",
        "In addition, comments can be added to a regular expression by starting a line with the # character. Any text following the # character until the end of the line is ignored."
      ],
      "metadata": {
        "id": "BqWnfSIdhX_J"
      }
    },
    {
      "cell_type": "markdown",
      "source": [
        "**20**. How would you write a regex that match a number with comma for every three digits? It must match the given following:\n",
        "\n",
        "&#39;42&#39;\n",
        "\n",
        "&#39;1,234&#39;\n",
        "\n",
        "&#39;6,368,745&#39;\n",
        "\n",
        "but not the following:\n",
        "\n",
        "&#39;12,34,567&#39; (which has only two digits between the commas)\n",
        "\n",
        "&#39;1234&#39; (which lacks commas)\n",
        "\n",
        "**Answer**: Regex `\"\\b\\d{1,3}(?:,\\d{3})*\\b\"` can match a number with comma for every three digits."
      ],
      "metadata": {
        "id": "24YXhjl-j3nz"
      }
    },
    {
      "cell_type": "markdown",
      "source": [
        "**21**. How would you write a regex that matches the full name of someone whose last name is Watanabe? You can assume that the first name that comes before it will always be one word that begins with a capital letter. The regex must match the following:\n",
        "\n",
        "&#39;Haruto Watanabe&#39;\n",
        "\n",
        "&#39;Alice Watanabe&#39;\n",
        "\n",
        "&#39;RoboCop Watanabe&#39;\n",
        "\n",
        "but not the following:\n",
        "\n",
        "&#39;haruto Watanabe&#39; (where the first name is not capitalized)\n",
        "\n",
        "&#39;Mr. Watanabe&#39; (where the preceding word has a nonletter character)\n",
        "\n",
        "&#39;Watanabe&#39; (which has no first name)\n",
        "\n",
        "&#39;Haruto watanabe&#39; (where Watanabe is not capitalized)\n",
        "\n",
        "**Answer**:`\\b[A-Z][A-Za-z]*\\sWatanabe\\b` is the regular  expression that matches the full name of someone whose last name is Watanabe."
      ],
      "metadata": {
        "id": "_YiMeioa2mdP"
      }
    },
    {
      "cell_type": "markdown",
      "source": [
        "**22**. How would you write a regex that matches a sentence where the first word is either Alice, Bob, or Carol; the second word is either eats, pets, or throws; the third word is apples, cats, or baseballs; and the sentence ends with a period? This regex should be case-insensitive. It must match the\n",
        "following:\n",
        "\n",
        "&#39;Alice eats apples.&#39;\n",
        "\n",
        "&#39;Bob pets cats.&#39;\n",
        "\n",
        "&#39;Carol throws baseballs.&#39;\n",
        "\n",
        "&#39;Alice throws Apples.&#39;\n",
        "\n",
        "&#39;BOB EATS CATS.&#39;\n",
        "\n",
        "but not the following:\n",
        "\n",
        "&#39;RoboCop eats apples.&#39;\n",
        "\n",
        "&#39;ALICE THROWS FOOTBALLS.&#39;\n",
        "\n",
        "&#39;Carol eats 7 cats.&#39;\n",
        "\n",
        "**Answer**: The code for the above problem is:\n",
        "\n",
        "```\n",
        "import re\n",
        "\n",
        "pattern = r'^(Alice|Bob|Carol)\\s+(eats|pets|throws)\\s+(apples|cats|baseballs)\\.$'\n",
        "text = '''Alice eats apples.\n",
        "Bob pets cats.\n",
        "Carol throws baseballs.\n",
        "Alice throws Apples.\n",
        "BOB EATS CATS.\n",
        "RoboCop eats apples.\n",
        "ALICE THROWS FOOTBALLS.\n",
        "Carol eats 7 cats.'''\n",
        "\n",
        "matches = re.findall(pattern,text, re.IGNORECASE | re.MULTILINE)\n",
        "print(matches)\n",
        "```\n",
        "\n",
        "Output:\n",
        "```\n",
        "[('Alice', 'eats', 'apples'), ('Bob', 'pets', 'cats'), ('Carol', 'throws', 'baseballs'), ('Alice', 'throws', 'Apples'), ('BOB', 'EATS', 'CATS')]\n",
        "```"
      ],
      "metadata": {
        "id": "oA-CfHcB-w3p"
      }
    }
  ]
}