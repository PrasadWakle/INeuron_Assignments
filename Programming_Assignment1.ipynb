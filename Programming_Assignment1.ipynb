{
  "nbformat": 4,
  "nbformat_minor": 0,
  "metadata": {
    "colab": {
      "provenance": [],
      "authorship_tag": "ABX9TyNwKuTDacbxgKaD8xwmYpfm",
      "include_colab_link": true
    },
    "kernelspec": {
      "name": "python3",
      "display_name": "Python 3"
    },
    "language_info": {
      "name": "python"
    }
  },
  "cells": [
    {
      "cell_type": "markdown",
      "metadata": {
        "id": "view-in-github",
        "colab_type": "text"
      },
      "source": [
        "<a href=\"https://colab.research.google.com/github/PrasadWakle/INeuron_Assignments/blob/master/Programming_Assignment1.ipynb\" target=\"_parent\"><img src=\"https://colab.research.google.com/assets/colab-badge.svg\" alt=\"Open In Colab\"/></a>"
      ]
    },
    {
      "cell_type": "markdown",
      "source": [
        "1. Write a Python program to print &quot;Hello Python&quot;?"
      ],
      "metadata": {
        "id": "cWiawK9_27Ow"
      }
    },
    {
      "cell_type": "code",
      "source": [
        "print(\"Hello World\")"
      ],
      "metadata": {
        "colab": {
          "base_uri": "https://localhost:8080/"
        },
        "id": "b_Vuh34x3BXL",
        "outputId": "95f60783-1528-4f96-84d9-c3bbd3d627dd"
      },
      "execution_count": 1,
      "outputs": [
        {
          "output_type": "stream",
          "name": "stdout",
          "text": [
            "Hello World\n"
          ]
        }
      ]
    },
    {
      "cell_type": "markdown",
      "source": [
        "2. Write a Python program to do arithmetical operations addition and division.?"
      ],
      "metadata": {
        "id": "KgBGB0PT3GK3"
      }
    },
    {
      "cell_type": "code",
      "source": [
        "x,y = 4,2\n",
        "\n",
        "print(\"x+y=\",x+y)\n",
        "print(\"x/y=\",x//y)"
      ],
      "metadata": {
        "colab": {
          "base_uri": "https://localhost:8080/"
        },
        "id": "sRFvAkIb3E6U",
        "outputId": "48cc1efc-44b6-48e6-d1cc-34ffc50da41c"
      },
      "execution_count": 3,
      "outputs": [
        {
          "output_type": "stream",
          "name": "stdout",
          "text": [
            "x+y= 6\n",
            "x/y= 2\n"
          ]
        }
      ]
    },
    {
      "cell_type": "markdown",
      "source": [
        "3. Write a Python program to find the area of a triangle?"
      ],
      "metadata": {
        "id": "z6_T3lts4v0n"
      }
    },
    {
      "cell_type": "code",
      "source": [
        "base = int(input(\"Enter base of triangle:\"))\n",
        "height = int(input(\"Enter height of triangle:\"))\n",
        "\n",
        "area = (1/2) * base * height\n",
        "\n",
        "print(f\"Area of triangle is: {area}\")"
      ],
      "metadata": {
        "colab": {
          "base_uri": "https://localhost:8080/"
        },
        "id": "n8TBYq5i4ivc",
        "outputId": "42b51234-d2a1-4dda-eff7-9b77c3201530"
      },
      "execution_count": 4,
      "outputs": [
        {
          "output_type": "stream",
          "name": "stdout",
          "text": [
            "Enter base of triangle:4\n",
            "Enter height of triangle:7\n",
            "Area of triangle is: 14.0\n"
          ]
        }
      ]
    },
    {
      "cell_type": "markdown",
      "source": [
        "4. Write a Python program to swap two variables?"
      ],
      "metadata": {
        "id": "BOeD1Xw_6GB5"
      }
    },
    {
      "cell_type": "code",
      "source": [
        "x = int(input(\"Enter first number:\"))\n",
        "y = int(input(\"Enter second number:\"))\n",
        "\n",
        "print(f\"Numbers before swapping: {x},{y}\")\n",
        "\n",
        "x,y = y,x\n",
        "\n",
        "print(f\"Numbers after swapping: {x},{y}\")"
      ],
      "metadata": {
        "colab": {
          "base_uri": "https://localhost:8080/"
        },
        "id": "1HTjw4Z-6BG-",
        "outputId": "54550faa-e3a5-4244-e806-a51f677019e4"
      },
      "execution_count": 5,
      "outputs": [
        {
          "output_type": "stream",
          "name": "stdout",
          "text": [
            "Enter first number:5\n",
            "Enter second number:6\n",
            "Numbers before swapping: 5,6\n",
            "Numbers after swapping: 6,5\n"
          ]
        }
      ]
    },
    {
      "cell_type": "markdown",
      "source": [
        "5. Write a Python program to generate a random number?"
      ],
      "metadata": {
        "id": "gX2-bt-T6rif"
      }
    },
    {
      "cell_type": "code",
      "source": [
        "import random\n",
        "\n",
        "random_number = random.randint(0, 100)\n",
        "print(random_number)"
      ],
      "metadata": {
        "colab": {
          "base_uri": "https://localhost:8080/"
        },
        "id": "HjHg2j7L6mD1",
        "outputId": "28d9fc49-4c88-42a6-f61c-723b9c067b46"
      },
      "execution_count": 8,
      "outputs": [
        {
          "output_type": "stream",
          "name": "stdout",
          "text": [
            "13\n"
          ]
        }
      ]
    }
  ]
}