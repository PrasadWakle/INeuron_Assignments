{
  "nbformat": 4,
  "nbformat_minor": 0,
  "metadata": {
    "colab": {
      "provenance": [],
      "authorship_tag": "ABX9TyOsowmHIX8bpN7cwUhO+uab",
      "include_colab_link": true
    },
    "kernelspec": {
      "name": "python3",
      "display_name": "Python 3"
    },
    "language_info": {
      "name": "python"
    }
  },
  "cells": [
    {
      "cell_type": "markdown",
      "metadata": {
        "id": "view-in-github",
        "colab_type": "text"
      },
      "source": [
        "<a href=\"https://colab.research.google.com/github/PrasadWakle/INeuron_Assignments/blob/master/Assignment_15.ipynb\" target=\"_parent\"><img src=\"https://colab.research.google.com/assets/colab-badge.svg\" alt=\"Open In Colab\"/></a>"
      ]
    },
    {
      "cell_type": "markdown",
      "source": [
        "**1**. How many seconds are in an hour? Use the interactive interpreter as a calculator and multiply the number of seconds in a minute (60) by the number of minutes in an hour (also 60).\n",
        "\n",
        "**Answer**: There are 3600 seconds in an hour."
      ],
      "metadata": {
        "id": "7QswK9y3wlaQ"
      }
    },
    {
      "cell_type": "code",
      "source": [
        "seconds_per_minute = 60\n",
        "minutes_per_hour = 60\n",
        "\n",
        "print(seconds_per_minute*minutes_per_hour)"
      ],
      "metadata": {
        "colab": {
          "base_uri": "https://localhost:8080/"
        },
        "id": "KzyttvLSxn5H",
        "outputId": "21870b3a-c8a0-46c7-c4ad-bb39340fa4c4"
      },
      "execution_count": 32,
      "outputs": [
        {
          "output_type": "stream",
          "name": "stdout",
          "text": [
            "3600\n"
          ]
        }
      ]
    },
    {
      "cell_type": "markdown",
      "source": [
        "**2**. Assign the result from the previous task (seconds in an hour) to a variable called seconds_per_hour."
      ],
      "metadata": {
        "id": "Dys-Uz0ax26-"
      }
    },
    {
      "cell_type": "code",
      "source": [
        "seconds_per_hour = 3600"
      ],
      "metadata": {
        "id": "REZ28fIDxvfK"
      },
      "execution_count": 33,
      "outputs": []
    },
    {
      "cell_type": "markdown",
      "source": [
        "**3**. How many seconds do you think there are in a day? Make use of the variables seconds per hour and minutes per hour."
      ],
      "metadata": {
        "id": "v2VppmZVyOuf"
      }
    },
    {
      "cell_type": "code",
      "source": [
        "seconds_in_a_day = seconds_per_hour * 24\n",
        "print(seconds_in_a_day)"
      ],
      "metadata": {
        "colab": {
          "base_uri": "https://localhost:8080/"
        },
        "id": "1TmhpAC_yJ1Z",
        "outputId": "82bf4c56-2d49-4076-ba84-18dd087dc82f"
      },
      "execution_count": 34,
      "outputs": [
        {
          "output_type": "stream",
          "name": "stdout",
          "text": [
            "86400\n"
          ]
        }
      ]
    },
    {
      "cell_type": "markdown",
      "source": [
        "**4**. Calculate seconds per day again, but this time save the result in a variable called seconds_per_day"
      ],
      "metadata": {
        "id": "Uo3n59sDyzch"
      }
    },
    {
      "cell_type": "code",
      "source": [
        "seconds_per_day = seconds_per_hour * 24\n",
        "print(seconds_per_day)"
      ],
      "metadata": {
        "colab": {
          "base_uri": "https://localhost:8080/"
        },
        "id": "Iu3ciDTdyqbX",
        "outputId": "2f3790f6-88ca-4c34-daa1-c2b5013c3548"
      },
      "execution_count": 35,
      "outputs": [
        {
          "output_type": "stream",
          "name": "stdout",
          "text": [
            "86400\n"
          ]
        }
      ]
    },
    {
      "cell_type": "markdown",
      "source": [
        "**5**. Divide seconds_per_day by seconds_per_hour. Use floating-point (/) division."
      ],
      "metadata": {
        "id": "twjLaE5KzCWu"
      }
    },
    {
      "cell_type": "code",
      "source": [
        "seconds_per_day/seconds_per_hour"
      ],
      "metadata": {
        "colab": {
          "base_uri": "https://localhost:8080/"
        },
        "id": "9B44ypYxy-v2",
        "outputId": "06a305a2-1471-4b3f-dbab-148cca6f13e2"
      },
      "execution_count": 36,
      "outputs": [
        {
          "output_type": "execute_result",
          "data": {
            "text/plain": [
              "24.0"
            ]
          },
          "metadata": {},
          "execution_count": 36
        }
      ]
    },
    {
      "cell_type": "markdown",
      "source": [
        "**6**. Divide seconds_per_day by seconds_per_hour, using integer (//) division. Did this number agree with the floating-point value from the previous question, aside from the final .0?\n",
        "\n",
        "**Answer**: Yes it did."
      ],
      "metadata": {
        "id": "g1jBfshyzLzL"
      }
    },
    {
      "cell_type": "code",
      "source": [
        "seconds_per_day//seconds_per_hour"
      ],
      "metadata": {
        "colab": {
          "base_uri": "https://localhost:8080/"
        },
        "id": "ljJ8GgFYzKhA",
        "outputId": "e02b13b4-bfe0-40c2-f15b-ddc8b472fd9a"
      },
      "execution_count": 37,
      "outputs": [
        {
          "output_type": "execute_result",
          "data": {
            "text/plain": [
              "24"
            ]
          },
          "metadata": {},
          "execution_count": 37
        }
      ]
    },
    {
      "cell_type": "markdown",
      "source": [
        "**7**. Write a generator, genPrimes, that returns the sequence of prime numbers on successive calls to its next() method: 2, 3, 5, 7, 11, ..."
      ],
      "metadata": {
        "id": "D_6crj9yzdKo"
      }
    },
    {
      "cell_type": "code",
      "source": [
        "def genPrimes():\n",
        "  primes = [2]\n",
        "  yield 2\n",
        "\n",
        "  num = 3\n",
        "\n",
        "  while True:\n",
        "    for p in primes:\n",
        "      if num % p == 0:\n",
        "        break\n",
        "\n",
        "    else:\n",
        "      primes.append(num)\n",
        "      yield num\n",
        "\n",
        "    num+= 2\n",
        "\n",
        "prime_num = genPrimes()\n",
        "\n",
        "for i in range(5):\n",
        "  print(next(prime_num))"
      ],
      "metadata": {
        "colab": {
          "base_uri": "https://localhost:8080/"
        },
        "id": "7kVQZdhK5US5",
        "outputId": "4b09f29c-9d1b-4523-e278-d11391bd01df"
      },
      "execution_count": 39,
      "outputs": [
        {
          "output_type": "stream",
          "name": "stdout",
          "text": [
            "2\n",
            "3\n",
            "5\n",
            "7\n",
            "11\n"
          ]
        }
      ]
    },
    {
      "cell_type": "markdown",
      "source": [
        "The above code defines a generator function `genPrimes` that generates an infinite sequence of prime numbers. The function maintains a list of prime numbers found so far, starting with the first prime number 2. The first `yield` statement returns the first prime number, 2. The function then enters an infinite `while` loop that keeps generating prime numbers. Inside the loop, a variable `num` is used to keep track of the next number to check if it is prime. `num` starts at 3 and is incremented by 2 at the end of each iteration of the loop (since all even numbers greater than 2 are not prime). For each value of `num`, the code checks if it is divisible by any of the prime numbers found so far (stored in the `primes` list). If `num` is divisible by any of these prime numbers, it is not a prime number, so the loop continues to the next iteration. If `num` is not divisible by any of the prime numbers found so far, it must be a prime number itself, so it is added to the `primes` list and returned using another `yield` statement.\n",
        "\n",
        "The last part of the code creates an instance of the `genPrimes` generator and uses a `for` loop to print the first 5 prime numbers generated by calling the generator's `next()` method."
      ],
      "metadata": {
        "id": "lS5jVRTZ-pbC"
      }
    }
  ]
}