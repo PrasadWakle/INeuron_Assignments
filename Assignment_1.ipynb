{
  "nbformat": 4,
  "nbformat_minor": 0,
  "metadata": {
    "colab": {
      "provenance": []
    },
    "kernelspec": {
      "name": "python3",
      "display_name": "Python 3"
    },
    "language_info": {
      "name": "python"
    }
  },
  "cells": [
    {
      "cell_type": "markdown",
      "source": [
        "**1**. In the below elements which of them are values or an expression? eg:- values can be\n",
        "integer or string and expressions will be mathematical operators.\n",
        "\n",
        "*\n",
        "\n",
        "'hello'\n",
        "\n",
        "-87.8\n",
        "\n",
        "-\n",
        "\n",
        "/\n",
        "\n",
        "+\n",
        "\n",
        "6\n",
        "\n",
        "Answer:\n",
        "\n",
        " &#42; is an expression.\n",
        "\n",
        "'hello' is a value.\n",
        "\n",
        "-87.8 is a value.\n",
        "\n",
        "&#45; is an expression.\n",
        "\n",
        "/ is an expression.\n",
        "\n",
        "&#43; is an expression.\n",
        "\n",
        "6 is a value.\n"
      ],
      "metadata": {
        "id": "i2r1dGrWLn-G"
      }
    },
    {
      "cell_type": "markdown",
      "source": [
        "**2**. What is the difference between string and variable?\n",
        "\n",
        "Answer: A string is a data structure in Python that represents a sequence of characters surrounded by quotes, while variables are nothing but reserved memory locations to store values. String is an immutable data type, meaning that once you have created a string, you cannot change it, while variables can be changed and reassigned to different values.\n",
        "\n",
        "Example of String:\n",
        "\n",
        "\"INeuron\", 'Data Science' etc.\n",
        "\n",
        "Example of variable:\n",
        "\n",
        "x = 10;\n",
        "Here x is a variable."
      ],
      "metadata": {
        "id": "UVbHs6H7fStg"
      }
    },
    {
      "cell_type": "markdown",
      "source": [
        "**3**. Describe three different data types.\n",
        "\n",
        "Answer: In Python, there are several standard data types which can be used to store data. These include: \n",
        "\n",
        "1. Numbers: This includes integers, floating-point numbers, complex numbers, etc. \n",
        "\n",
        "2. Strings: These are sequences of Unicode characters that can be used to store text data. \n",
        "\n",
        "3. Lists: These are ordered sequences of data that can contain different data types. "
      ],
      "metadata": {
        "id": "cELHH3Ny8cD7"
      }
    },
    {
      "cell_type": "markdown",
      "source": [
        "**4.** What is an expression made up of? What do all expressions do?\n",
        "\n",
        "Answer: An expression is a combination of values, variables, and operators that results in a single value. It is typically used to perform calculations and make decisions. Expressions can contain constants, variables, functions, and operators.  \n",
        "Expressions are used to calculate values in programming. They are used to perform operations on variables and values to produce new values. Expressions can be used to assign values to variables, compare values, and perform various operations such as arithmetic, logic, and string manipulation.The expression in Python produces some value or result after being interpreted by the Python interpreter."
      ],
      "metadata": {
        "id": "489UYSVcPUF7"
      }
    },
    {
      "cell_type": "markdown",
      "source": [
        "**5.** This assignment statements, like spam = 10. What is the difference between an\n",
        "expression and a statement?\n",
        "\n",
        "Answer: An expression in Python is very different from statements in Python.    \n",
        "The expression in Python produces some value or result after being interpreted by the Python interpreter, while a statement in Python is used for creating variables or for displaying values. A statement in Python is not evaluated for some results but expression in Python is evaluated for some results. A statement can be an expression but vice versa is not possible.  For example, spam = 10 is a statement and y = 2 + 3 is an expression."
      ],
      "metadata": {
        "id": "PlYfS7WiRkBk"
      }
    },
    {
      "cell_type": "markdown",
      "source": [
        "**6.** After running the following code, what does the variable bacon contain?\n",
        "\n",
        "bacon = 22\n",
        "\n",
        "bacon + 1\n",
        "\n",
        "Answer: The variable bacon contains value 23 after running the code."
      ],
      "metadata": {
        "id": "r6N5R89xT9YJ"
      }
    },
    {
      "cell_type": "code",
      "source": [
        "bacon = 22\n",
        "bacon + 1"
      ],
      "metadata": {
        "colab": {
          "base_uri": "https://localhost:8080/"
        },
        "id": "7aieH7cYUVwa",
        "outputId": "2428fb48-247f-414b-f6ee-149435cd2977"
      },
      "execution_count": 2,
      "outputs": [
        {
          "output_type": "execute_result",
          "data": {
            "text/plain": [
              "23"
            ]
          },
          "metadata": {},
          "execution_count": 2
        }
      ]
    },
    {
      "cell_type": "markdown",
      "source": [
        "**7.** What should the values of the following two terms be?\n",
        "\n",
        "'spam' + 'spamspam'\n",
        "\n",
        "'spam' * 3\n",
        "\n",
        "Amswer: The output of both the terms will be 'spamspamspam'"
      ],
      "metadata": {
        "id": "hbc1n0XojAIS"
      }
    },
    {
      "cell_type": "code",
      "source": [
        "#First term\n",
        "f_term = 'spam'+'spamspam'\n",
        "print(f\"The output of 'spam' + 'spamspam' is {f_term}\")\n",
        "\n",
        "#Second term\n",
        "s_term = 'spam' * 3\n",
        "print(f\"The output of 'spam' * 3 is {s_term}\")"
      ],
      "metadata": {
        "colab": {
          "base_uri": "https://localhost:8080/"
        },
        "id": "46fpHIzdU34C",
        "outputId": "9fb26286-c228-4263-9203-f375d543c640"
      },
      "execution_count": 4,
      "outputs": [
        {
          "output_type": "stream",
          "name": "stdout",
          "text": [
            "The output of 'spam' + 'spamspam' is spamspamspam\n",
            "The output of 'spam' * 3 is spamspamspam\n"
          ]
        }
      ]
    },
    {
      "cell_type": "markdown",
      "source": [
        "**8.** Why is eggs a valid variable name while 100 is invalid?\n",
        "\n",
        "Answer: In Python a variable name must start with a letter or an underscore. A variable name must not start with a number. A variable name can only contain alpha-numeric characters and underscores (A-z, 0-9, and _ ). That is why eggs is a valid variable name while 100 is invalid variable name."
      ],
      "metadata": {
        "id": "X_WZt7xJVuo1"
      }
    },
    {
      "cell_type": "markdown",
      "source": [
        "**9.** What three functions can be used to get the integer, floating-point number, or string\n",
        "version of a value?\n",
        "\n",
        "Answer: In Python int() function is used to get the integer version of a value, str() function is used to get string version of a value and float() function is used to get floating version of a value.  "
      ],
      "metadata": {
        "id": "L4UlPINTWR5R"
      }
    },
    {
      "cell_type": "code",
      "source": [
        "#####################Converting float to int#################################\n",
        "x = 2.0 \n",
        "print(\"The data type of x is \", type(x))\n",
        "\n",
        "#conversion to int\n",
        "x = int(x) \n",
        "print(\"Converted value: \", x ,\", type: \", type(x), end = \"\\n\\n\")\n",
        "\n",
        "\n",
        "\n",
        "#####################Converting int to string#################################\n",
        "y = 2\n",
        "print(\"The data type of y is \", type(y))\n",
        "\n",
        "#conversion to string\n",
        "y = str(y)\n",
        "print(\"Converted value: \", y ,\", type: \", type(y), end = \"\\n\\n\")\n",
        "\n",
        "\n",
        "\n",
        "######################Converting int to float################################\n",
        "n = 2 \n",
        "print(\"The data type of n is \", type(n))\n",
        "\n",
        "#conversion to float\n",
        "n = float(n)\n",
        "print(\"Converted value: \", n ,\", type: \", type(n))"
      ],
      "metadata": {
        "colab": {
          "base_uri": "https://localhost:8080/"
        },
        "id": "NXHaZ5K0XRT-",
        "outputId": "26109e90-a304-4e2d-c744-0a5fad72b8a7"
      },
      "execution_count": 16,
      "outputs": [
        {
          "output_type": "stream",
          "name": "stdout",
          "text": [
            "The data type of x is  <class 'float'>\n",
            "Converted value:  2 , type:  <class 'int'>\n",
            "\n",
            "The data type of y is  <class 'int'>\n",
            "Converted value:  2 , type:  <class 'str'>\n",
            "\n",
            "The data type of n is  <class 'int'>\n",
            "Converted value:  2.0 , type:  <class 'float'>\n"
          ]
        }
      ]
    },
    {
      "cell_type": "markdown",
      "source": [
        "**10.** Why does this expression cause an error? How can you fix it?\n",
        "\n",
        "'I have eaten ' + 99 + ' burritos'\n",
        "\n",
        "Answer: In python we cannot concatenate integer value to a string as it will give an error. To fix this, we need to convert the integer to a string by wrapping it in quotes or by using the .toString() method or str() method.\n",
        "\n",
        "Correct expression: 'I have eaten ' + '99' + ' burritos'"
      ],
      "metadata": {
        "id": "sfeNU-LzcY1U"
      }
    },
    {
      "cell_type": "code",
      "source": [
        "#Another method \n",
        "print('I have eaten',str(99),'burritos')"
      ],
      "metadata": {
        "colab": {
          "base_uri": "https://localhost:8080/"
        },
        "id": "JHgGd3ZLdgve",
        "outputId": "3819a907-8f82-4194-fb50-dabd8aee81fd"
      },
      "execution_count": 27,
      "outputs": [
        {
          "output_type": "stream",
          "name": "stdout",
          "text": [
            "I have eaten 99 burritos\n"
          ]
        }
      ]
    }
  ]
}