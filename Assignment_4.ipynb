{
  "nbformat": 4,
  "nbformat_minor": 0,
  "metadata": {
    "colab": {
      "provenance": [],
      "authorship_tag": "ABX9TyPFhPDOq6KBGIIwBRSlEMSl",
      "include_colab_link": true
    },
    "kernelspec": {
      "name": "python3",
      "display_name": "Python 3"
    },
    "language_info": {
      "name": "python"
    }
  },
  "cells": [
    {
      "cell_type": "markdown",
      "metadata": {
        "id": "view-in-github",
        "colab_type": "text"
      },
      "source": [
        "<a href=\"https://colab.research.google.com/github/PrasadWakle/INeuron_Assignments/blob/master/Assignment_4.ipynb\" target=\"_parent\"><img src=\"https://colab.research.google.com/assets/colab-badge.svg\" alt=\"Open In Colab\"/></a>"
      ]
    },
    {
      "cell_type": "markdown",
      "source": [
        "**1**. What exactly is [ ]?\n",
        "\n",
        "**Answer**: [ ] are called as square brackets and these represent an empty list. List a data type in python which is used to store a collection of similar or different items in a specific order. [ ] are used to create a list.\n",
        "\n",
        "e.g. list = [1,2,\"ineuron\", 9+8j, 22.6]\n"
      ],
      "metadata": {
        "id": "4wOe7a2JVCZm"
      }
    },
    {
      "cell_type": "markdown",
      "source": [
        "**2**. In a list of values stored in a variable called spam, how would you assign the value &#39;hello&#39; as the\n",
        "third value? (Assume [2, 4, 6, 8, 10] are in spam.)\n",
        "\n",
        "**Answer**: Indexing in python starts from 0. Therefore the first item in spam has index 0. Since list is mutable, items can be assigned in a list at a specified position with the help of indexes. Value hello can be assigned at the third position as follows:\n",
        "\n",
        "      spam[2] = \"hello\""
      ],
      "metadata": {
        "id": "L4smpYEZWP7R"
      }
    },
    {
      "cell_type": "markdown",
      "source": [
        "Let&#39;s pretend the spam includes the list [&#39;a&#39;, &#39;b&#39;, &#39;c&#39;, &#39;d&#39;] for the next three queries."
      ],
      "metadata": {
        "id": "RZzt3ziZXeHa"
      }
    },
    {
      "cell_type": "markdown",
      "source": [
        "**3**. What is the value of spam[int(int(&#39;3&#39; * 2) / 11)]?\n",
        "\n",
        "**Answer**: The value of int(int(&#39;3&#39; * 2 = 2, therefore spam[int(int(&#39;3&#39; * 2] can be written as spam[3]. So the value of spam[3] is 'd'"
      ],
      "metadata": {
        "id": "FerqktIMXfJG"
      }
    },
    {
      "cell_type": "markdown",
      "source": [
        "**4**. What is the value of spam[-1]?\n",
        "\n",
        "**Answer**: The value of spam[-1] is 'd'."
      ],
      "metadata": {
        "id": "3oZuktfJYtUy"
      }
    },
    {
      "cell_type": "markdown",
      "source": [
        "**5**. What is the value of spam[:2]?\n",
        "\n",
        "**Answer**: The value of spam[:2] is ['a','b']."
      ],
      "metadata": {
        "id": "U9yvpgOpY3Fj"
      }
    },
    {
      "cell_type": "markdown",
      "source": [
        "Let&#39;s pretend bacon has the list [3.14, &#39;cat,&#39; 11, &#39;cat,&#39; True] for the next three questions."
      ],
      "metadata": {
        "id": "-VcNUpH2ZMQo"
      }
    },
    {
      "cell_type": "markdown",
      "source": [
        "**6**. What is the value of bacon.index(&#39;cat&#39;)?\n",
        "\n",
        "**Answer**: The value as bacon.index(&#39;cat&#39;) is 1."
      ],
      "metadata": {
        "id": "hfBE11k2ZQHF"
      }
    },
    {
      "cell_type": "markdown",
      "source": [
        "**7**. How does bacon.append(99) change the look of the list value in bacon?\n",
        "\n",
        "**Answer**: append( ) function is used to add an item at the end of the list. bacon.append(99) will append 99 at the end of the list and list will look as follow:\n",
        "\n",
        "    bancon = [3.14, 'cat,' 11, 'cat,' True, 99]"
      ],
      "metadata": {
        "id": "PMjM3oaoZroD"
      }
    },
    {
      "cell_type": "markdown",
      "source": [
        "**8**. How does bacon.remove(&#39;cat&#39;) change the look of the list in bacon?\n",
        "\n",
        "**Answer**: The remove() method removes the first occurrence of the element with the specified value. bacon.remove(&#39;cat&#39;) will remove the first occurrence of 'cat' itemsfrom the list and the list will look as follows:\n",
        "\n",
        "      bancon = [3.14, 11, 'cat', True]"
      ],
      "metadata": {
        "id": "tyvO1qYdaVEb"
      }
    },
    {
      "cell_type": "markdown",
      "source": [
        "**9**. What are the list concatenation and list replication operators?\n",
        "\n",
        "**Answer**: The operator for list concatenation is `+`, while the operator for list replication is `*`. These operators work the same way as they do for strings. For example, if you have two lists `a` and `b`, you can concatenate them into a new list `c` by using the expression `c = a + b`. Similarly, if you want to create a new list that contains the elements of list `a` repeated `n` times, you can use the expression `c = a * n`."
      ],
      "metadata": {
        "id": "OPNxLNzj3S2S"
      }
    },
    {
      "cell_type": "markdown",
      "source": [
        "**10**. What is difference between the list methods append() and insert()?\n",
        "\n",
        "**Answer**: The append( ) method appends an element at the end of a list while insert( ) method inserts an element at a specified index. For example, there is a list called spam, `spam = [1,2,3,4,5,6]` and I want to add 56 in spam. I can use append( ) method which will add 56 at the end of the spam like this: `spam.append(56)`. The result will be `spam = [1,2,3,4,5,6,56]`. Now if I want to add 56 at second index then I can use insert( ) method like this: `spam.insert(2,56)`, the result will be `spam = [1,2,56,3,4,5,6]`. insert( ) takes two arguments, first is index number and second is the element that you want to insert."
      ],
      "metadata": {
        "id": "uXuk0Hj-3uKI"
      }
    },
    {
      "cell_type": "markdown",
      "source": [
        "**11**. What are the two methods for removing items from a list?\n",
        "\n",
        "**Answer**: The two methods for removing items from a list are remove( ) and pop( ). The remove( ) method takes an element which is to be removed as an argument and removes the first occurrence of the element while pop( ) method takes index as an argument and removes an element at the specified index. The default argument of pop( ) is -1 i.e., by default it removes the last element of a list."
      ],
      "metadata": {
        "id": "dezzCA2I6vk9"
      }
    },
    {
      "cell_type": "markdown",
      "source": [
        "**12**. Describe how list values and string values are identical.\n",
        "\n",
        "**Answer**: List values and string values are identical in that they are both sequences of values. This means that they can be indexed, sliced, and iterated over in the same way. For example, you can access the first element of a list or a string using the index 0, and you can access the last element using the index -1. You can also use slicing to extract a subsequence from a list or a string. For example, my_list[1:3] will return a new list containing the second and third elements of my_list, while my_string[1:3] will return a new string containing the second and third characters of my_string."
      ],
      "metadata": {
        "id": "3L_oq8LM8n4x"
      }
    },
    {
      "cell_type": "markdown",
      "source": [
        "**13**. What&#39;s the difference between tuples and lists?\n",
        "\n",
        "**Answer**: The differences between the tuples and list are:\n",
        "\n",
        "1. Lists are mutable while tuples are immutable.\n",
        "2. A list is denoted by square brackets while a tuple is denoted by using round brackets.\n",
        "3. Lists are better for performing operations such as insertion and deletion, while tuples are more appropriate for accessing elements.\n",
        "4. Lists consume more memory than tuples because they have several built-in methods, while tuples do not have many built-in methods.\n",
        "5. The implication of iterations is time-consuming in lists, while it is comparatively faster in tuples.\n",
        "6. Lists are dynamic and flexible, while tuples are static and more memory-efficient."
      ],
      "metadata": {
        "id": "t5Vdel7f9Gkb"
      }
    },
    {
      "cell_type": "markdown",
      "source": [
        "**14**. How do you type a tuple value that only contains the integer 42?\n",
        "\n",
        "**Answer**: A tuple that only contains the integer 42: `a = (42,)`"
      ],
      "metadata": {
        "id": "ac8lUPZs-tdC"
      }
    },
    {
      "cell_type": "markdown",
      "source": [
        "**15**. How do you get a list value&#39;s tuple form? How do you get a tuple value&#39;s list form?\n",
        "\n",
        "**Answer**: You can convert a list to a tuple by using the `tuple()` function, and you can convert a tuple to a list by using the `list()` function. For example:\n",
        "\n",
        "```python\n",
        "my_list = [1, 2, 3]\n",
        "my_tuple = tuple(my_list)\n",
        "print(my_tuple)\n",
        "#output: (1,2,3)\n",
        "\n",
        "my_tuple = (4, 5, 6)\n",
        "my_list = list(my_tuple)\n",
        "print(my_list)\n",
        "#output: [4, 5, 6]\n",
        "```\n",
        "\n",
        "In the above example, we first create a list `my_list` with the elements `1`, `2`, and `3`. We then use the `tuple()` function to convert this list into a tuple `my_tuple`. Similarly, we create a tuple `my_tuple` with the elements `4`, `5`, and `6`, and then use the `list()` function to convert this tuple into a list `my_list`."
      ],
      "metadata": {
        "id": "wo5cLY-IAYRU"
      }
    },
    {
      "cell_type": "markdown",
      "source": [
        "**16**. Variables that &quot;contain&quot; list values are not necessarily lists themselves. Instead, what do they\n",
        "contain?\n",
        "\n",
        "**Answer**: Variables that \"contain\" list values don't actually contain the list values themselves. Instead, they contain references to the list values. This means that when you assign a list to a variable, you are not creating a new copy of the list, but rather creating a reference to the original list. This is why changes made to the list through one variable are reflected in all other variables that reference the same list. For example:\n",
        "\n",
        "```python\n",
        "my_list = [1, 2, 3]\n",
        "my_list2 = my_list\n",
        "my_list2[0] = 99\n",
        "print(my_list)\n",
        "#output: [99, 2, 3]\n",
        "```\n",
        "\n",
        "In this example, we first create a list `my_list` with the elements `1`, `2`, and `3`. We then assign this list to another variable `my_list2`. Since `my_list2` is just a reference to the same list as `my_list`, any changes made to the list through `my_list2` are also reflected in `my_list`."
      ],
      "metadata": {
        "id": "8yzGgqDmA_kf"
      }
    },
    {
      "cell_type": "markdown",
      "source": [
        "**17**. How do you distinguish between copy.copy() and copy.deepcopy()?\n",
        "\n",
        "**Answer**: copy.copy() creates a shallow copy of an object. A shallow copy creates a new object, but the new object still references the same objects as the original. On the other hand, copy.deepcopy() creates a deep copy of an object.  A deep copy creates a new object and recursively copies all objects found in the original, so that the new object is completely independent of the original."
      ],
      "metadata": {
        "id": "l2Qw-9kvBn3F"
      }
    }
  ]
}