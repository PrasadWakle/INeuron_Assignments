{
  "nbformat": 4,
  "nbformat_minor": 0,
  "metadata": {
    "colab": {
      "provenance": [],
      "authorship_tag": "ABX9TyPSe8LJed5AS7aoNrWkCcRE",
      "include_colab_link": true
    },
    "kernelspec": {
      "name": "python3",
      "display_name": "Python 3"
    },
    "language_info": {
      "name": "python"
    }
  },
  "cells": [
    {
      "cell_type": "markdown",
      "metadata": {
        "id": "view-in-github",
        "colab_type": "text"
      },
      "source": [
        "<a href=\"https://colab.research.google.com/github/PrasadWakle/INeuron_Assignments/blob/master/Programming_Assignment_5.ipynb\" target=\"_parent\"><img src=\"https://colab.research.google.com/assets/colab-badge.svg\" alt=\"Open In Colab\"/></a>"
      ]
    },
    {
      "cell_type": "markdown",
      "source": [
        "**1**. Write a Python Program to Find LCM?"
      ],
      "metadata": {
        "id": "kzq4YJH0oBUS"
      }
    },
    {
      "cell_type": "code",
      "source": [
        "import math\n",
        "\n",
        "def lcm(arg):\n",
        "  result = arg[0]\n",
        "\n",
        "  for i in range(1,len(arg)):\n",
        "    result = (result * arg[i])//gcd(result,arg[i])\n",
        "\n",
        "  return result\n",
        "\n",
        "num = list(map(int, input(\"Enter the numbers seperated by spaces:\").split()))\n",
        "\n",
        "print(f\"The lcm of given numbers is {lcm(num)}\")"
      ],
      "metadata": {
        "colab": {
          "base_uri": "https://localhost:8080/"
        },
        "id": "qd0etN2NoGlO",
        "outputId": "89244c61-02cc-4a4e-c854-c0111a3308ab"
      },
      "execution_count": 32,
      "outputs": [
        {
          "output_type": "stream",
          "name": "stdout",
          "text": [
            "Enter the numbers seperated by spaces:2 4 6 8\n",
            "The lcm of given numbers is 24\n"
          ]
        }
      ]
    },
    {
      "cell_type": "code",
      "source": [
        "# Second Method using gcd method and reduce method\n",
        "\n",
        "from math import gcd\n",
        "from functools import reduce\n",
        "\n",
        "def lcm(arg):\n",
        "  return reduce(lambda x,y:(x*y)//gcd(x,y),arg)\n",
        "\n",
        "num = list(map(int,input(\"Enter the numbers seperated by spaces:\").split()))\n",
        "\n",
        "print(f\"the LCM of given numbers is {lcm(num)}\")"
      ],
      "metadata": {
        "colab": {
          "base_uri": "https://localhost:8080/"
        },
        "id": "N_MQdwErJI8H",
        "outputId": "c3f8d27e-b1ba-4efe-b7b8-dfb6a7761e65"
      },
      "execution_count": 39,
      "outputs": [
        {
          "output_type": "stream",
          "name": "stdout",
          "text": [
            "Enter the numbers seperated by spaces:2 4 6 8\n",
            "the LCM of given numbers is 24\n"
          ]
        }
      ]
    },
    {
      "cell_type": "markdown",
      "source": [
        "**2**. Write a Python Program to Find HCF?"
      ],
      "metadata": {
        "id": "h0lY-LzhJetb"
      }
    },
    {
      "cell_type": "code",
      "source": [
        "# Using reduce method\n",
        "from math import gcd\n",
        "from functools import reduce\n",
        "\n",
        "num = list(map(int, input(\"Enter the numbers seperated by spaces:\").split()))\n",
        "\n",
        "result = reduce(lambda x,y: gcd(x,y),num)\n",
        "print(f\"HCF of given numbers is {result}\")"
      ],
      "metadata": {
        "id": "wVjtIfPr-BO9",
        "colab": {
          "base_uri": "https://localhost:8080/"
        },
        "outputId": "564c4b2b-8a8b-45ab-ac3b-7d8183832d81"
      },
      "execution_count": 87,
      "outputs": [
        {
          "output_type": "stream",
          "name": "stdout",
          "text": [
            "Enter the numbers seperated by spaces:4 8 12\n",
            "HCF of given numbers is 4\n"
          ]
        }
      ]
    },
    {
      "cell_type": "code",
      "source": [
        "# Without using reduce method\n",
        "from math import gcd\n",
        "\n",
        "def hcf(num):\n",
        "  result = num[0]\n",
        "\n",
        "  for i in range(1,len(num)):\n",
        "    result = gcd(result,num[i])\n",
        "\n",
        "  return result\n",
        "\n",
        "num = list(map(int, input(\"Enter the numbers seperated by spaces:\").split()))\n",
        "print(f\"HCF of given numbers is {hcf(num)}\")"
      ],
      "metadata": {
        "id": "-DSb-EjkCQIg",
        "colab": {
          "base_uri": "https://localhost:8080/"
        },
        "outputId": "4a153582-fd8d-4d91-c664-aea43c9cdac9"
      },
      "execution_count": 88,
      "outputs": [
        {
          "output_type": "stream",
          "name": "stdout",
          "text": [
            "Enter the numbers seperated by spaces:4 8 12\n",
            "HCF of given numbers is 4\n"
          ]
        }
      ]
    },
    {
      "cell_type": "markdown",
      "source": [
        "**3**. Write a Python Program to Convert Decimal to Binary, Octal and Hexadecimal?"
      ],
      "metadata": {
        "id": "u6saeHhDYg-c"
      }
    },
    {
      "cell_type": "code",
      "source": [
        "# Decimal to Binary\n",
        "def dec_to_bin(num):\n",
        "  result = \"\"\n",
        "\n",
        "  while num > 0:\n",
        "    rem = num % 2\n",
        "    num = num // 2\n",
        "    result += str(rem)\n",
        "\n",
        "  result = result[::-1]\n",
        "  return result\n",
        "\n",
        "\n",
        "# Decimal to Octal\n",
        "def dec_to_oct(num):\n",
        "  result = \"\"\n",
        "\n",
        "  while num > 0:\n",
        "    rem = num % 8\n",
        "    num = num // 8\n",
        "\n",
        "    result += str(rem)\n",
        "\n",
        "  result = result[::-1]\n",
        "  return result\n",
        "\n",
        "\n",
        "# Decimal to Hexadecimal\n",
        "def dec_to_hex(num):\n",
        "  result = \"\"\n",
        "\n",
        "  while num > 0:\n",
        "\n",
        "    rem = num % 16\n",
        "    num = num // 16\n",
        "\n",
        "    if 10 <= rem <= 15:\n",
        "      result += chr(rem + 55)\n",
        "\n",
        "    else:\n",
        "      result += str(rem)\n",
        "\n",
        "  result = result[::-1]\n",
        "  return result\n",
        "\n",
        "\n",
        "number = int(input(\"Enter a number: \"))\n",
        "\n",
        "print(f\"{number} in binary is {dec_to_bin(number)}\")\n",
        "print(f\"{number} in octal is {dec_to_oct(number)}\")\n",
        "print(f\"{number} in hexadecimal is {dec_to_hex(number)}\")"
      ],
      "metadata": {
        "colab": {
          "base_uri": "https://localhost:8080/"
        },
        "id": "-AmEL-dHSkNM",
        "outputId": "4332e504-78d3-41c7-9907-ee757ff033c5"
      },
      "execution_count": 49,
      "outputs": [
        {
          "output_type": "stream",
          "name": "stdout",
          "text": [
            "Enter a number: 24\n",
            "24 in binary is 11000\n",
            "24 in octal is 30\n",
            "24 in hexadecimal is 18\n"
          ]
        }
      ]
    },
    {
      "cell_type": "code",
      "source": [
        "# Using inbuilt methods\n",
        "\n",
        "num = int(input(\"Enter a number: \"))\n",
        "\n",
        "binary = bin(num).replace(\"0b\",\"\")\n",
        "octal = oct(num).replace(\"0o\",\"\")\n",
        "hexa = hex(num).replace(\"0x\",\"\")\n",
        "\n",
        "print(f\"{num} in binary is {binary}\")\n",
        "print(f\"{num} in octal is {octal}\")\n",
        "print(f\"{num} in hexadecimal is {hexa}\")"
      ],
      "metadata": {
        "colab": {
          "base_uri": "https://localhost:8080/"
        },
        "id": "lAGnS8QPZpkA",
        "outputId": "9699f8f7-155f-46ef-caac-f4f9423f93ec"
      },
      "execution_count": 53,
      "outputs": [
        {
          "output_type": "stream",
          "name": "stdout",
          "text": [
            "Enter a number: 24\n",
            "24 in binary is 11000\n",
            "24 in octal is 30\n",
            "24 in hexadecimal is 18\n"
          ]
        }
      ]
    },
    {
      "cell_type": "markdown",
      "source": [
        "**4**. Write a Python Program To Find ASCII value of a character?"
      ],
      "metadata": {
        "id": "YmOMc6Phuepm"
      }
    },
    {
      "cell_type": "code",
      "source": [
        "def getasc(char):\n",
        "  if len(char)>1:\n",
        "    print(\"Enter a single alphabet character!\")\n",
        "\n",
        "  else:\n",
        "    print(ord(char))\n",
        "\n",
        "char = input(\"Enter an alphabet character:\")\n",
        "getasc(char)\n",
        "\n",
        ""
      ],
      "metadata": {
        "colab": {
          "base_uri": "https://localhost:8080/"
        },
        "id": "D_z6rqjvtkD1",
        "outputId": "372b1ce8-cf1a-413d-c858-a1f23291ada9"
      },
      "execution_count": 56,
      "outputs": [
        {
          "output_type": "stream",
          "name": "stdout",
          "text": [
            "Enter an alphabet character:A\n",
            "65\n"
          ]
        }
      ]
    },
    {
      "cell_type": "markdown",
      "source": [
        "**5**. Write a Python Program to Make a Simple Calculator with 4 basic mathematical operations?"
      ],
      "metadata": {
        "id": "hUG5SCUuvpes"
      }
    },
    {
      "cell_type": "code",
      "source": [
        "def calc():\n",
        "\n",
        "  import operator as op\n",
        "\n",
        "  ops = {\"+\":op.add,\"-\":op.sub,\"*\":op.mul,\"/\":op.truediv}\n",
        "\n",
        "  result = 0\n",
        "\n",
        "  while True:\n",
        "    operator = input('Enter a arithmetic operation -> ')\n",
        "\n",
        "    if operator == \"0\":\n",
        "      print(\"Exit\\n\\n\")\n",
        "      break\n",
        "\n",
        "    elif operator == \"AC\":\n",
        "      result = 0\n",
        "      print(\"Reset successful!\\n\\n\")\n",
        "\n",
        "    elif operator not in ops.keys():\n",
        "      print(\"Enter a valid operator!\\n\\n\")\n",
        "\n",
        "\n",
        "    else:\n",
        "\n",
        "      if result == 0:\n",
        "        num1 = int(input(\"Enter first number:\"))\n",
        "        num2 = int(input(\"Enter second number:\"))\n",
        "        result = ops[operator](num1,num2)\n",
        "        print(f\"{num1}{operator}{num2} = {result}\\n\\n\")\n",
        "\n",
        "      else:\n",
        "        num3 = int(input(\"Enter a number:\"))\n",
        "        print(f\"{result}{operator}{num3} = {ops[operator](result,num3)}\\n\\n\")\n",
        "        result = ops[operator](result,num3)\n",
        "\n",
        "\n",
        "print('Select a Arithmetic Operation: \\\n",
        "        \\n1.Addition(+)\\\n",
        "        \\n2.Division(-)\\\n",
        "        \\n3.Multiplication(*)\\\n",
        "        \\n4.Division(/)\\\n",
        "        \\n5.Reset(AC)\\\n",
        "        \\n6.Stop(0)\\n')\n",
        "calc()"
      ],
      "metadata": {
        "colab": {
          "base_uri": "https://localhost:8080/"
        },
        "id": "sQ2vBQ3NtlEB",
        "outputId": "1cfda2e6-83bc-40d0-d534-5d3b38ca8612"
      },
      "execution_count": 84,
      "outputs": [
        {
          "output_type": "stream",
          "name": "stdout",
          "text": [
            "Select a Arithmetic Operation:         \n",
            "1.Addition(+)        \n",
            "2.Division(-)        \n",
            "3.Multiplication(*)        \n",
            "4.Division(/)        \n",
            "5.Reset(AC)        \n",
            "6.Stop(0)\n",
            "\n",
            "Enter a arithmetic operation -> /\n",
            "Enter first number:4\n",
            "Enter second number:2\n",
            "4/2 = 2.0\n",
            "\n",
            "\n",
            "Enter a arithmetic operation -> *6\n",
            "Enter a valid operator!\n",
            "\n",
            "\n",
            "Enter a arithmetic operation -> *\n",
            "Enter a number:6\n",
            "2.0*6 = 12.0\n",
            "\n",
            "\n",
            "Enter a arithmetic operation -> +\n",
            "Enter a number:55\n",
            "12.0+55 = 67.0\n",
            "\n",
            "\n",
            "Enter a arithmetic operation -> -\n",
            "Enter a number:10\n",
            "67.0-10 = 57.0\n",
            "\n",
            "\n",
            "Enter a arithmetic operation -> AC\n",
            "Reset successful!\n",
            "\n",
            "\n",
            "Enter a arithmetic operation -> 2\n",
            "Enter a valid operator!\n",
            "\n",
            "\n",
            "Enter a arithmetic operation -> +\n",
            "Enter first number:2\n",
            "Enter second number:3\n",
            "2+3 = 5\n",
            "\n",
            "\n",
            "Enter a arithmetic operation -> 0\n",
            "Exit\n",
            "\n",
            "\n"
          ]
        }
      ]
    }
  ]
}