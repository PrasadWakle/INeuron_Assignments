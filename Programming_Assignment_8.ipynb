{
  "nbformat": 4,
  "nbformat_minor": 0,
  "metadata": {
    "colab": {
      "provenance": [],
      "authorship_tag": "ABX9TyPStJWQk61IIXkderIz+Dqj",
      "include_colab_link": true
    },
    "kernelspec": {
      "name": "python3",
      "display_name": "Python 3"
    },
    "language_info": {
      "name": "python"
    }
  },
  "cells": [
    {
      "cell_type": "markdown",
      "metadata": {
        "id": "view-in-github",
        "colab_type": "text"
      },
      "source": [
        "<a href=\"https://colab.research.google.com/github/PrasadWakle/INeuron_Assignments/blob/master/Programming_Assignment_8.ipynb\" target=\"_parent\"><img src=\"https://colab.research.google.com/assets/colab-badge.svg\" alt=\"Open In Colab\"/></a>"
      ]
    },
    {
      "cell_type": "markdown",
      "source": [
        "**1**. Write a Python Program to Add Two Matrices?"
      ],
      "metadata": {
        "id": "4bCGBhUfmmrZ"
      }
    },
    {
      "cell_type": "code",
      "source": [
        "# Function to take input into matrix\n",
        "def mat():\n",
        "    \"\"\"Inserts values for each row of matrix\"\"\"\n",
        "    m = []\n",
        "    r = int(input(\"Enter the number of rows: \"))\n",
        "    c = int(input(\"Enter the number of columns: \"))\n",
        "\n",
        "    for j in range(r):\n",
        "        x = list(map(int, input(f\"Enter the elements for row {j+1} separated by spaces: \").split()))\n",
        "        if len(x) != c:\n",
        "            print(f\"Error: row {j+1} must have {c} elements.\")\n",
        "            break\n",
        "        else:\n",
        "            m.append(x)\n",
        "    else:\n",
        "      return m\n",
        "\n",
        "m1 = mat() # First matrix\n",
        "m2 = mat() # Second matrix\n",
        "\n",
        "print(f\"m1 = {m1}\")\n",
        "print(f\"m2 = {m2}\")\n",
        "\n",
        "def ismatrix(x):\n",
        "  \"\"\"Returns True is given input is a matrix\"\"\"\n",
        "  if isinstance(x,list) and len(x) > 0:\n",
        "    row_length = len(x[0])\n",
        "    return all(isinstance(row,list) and len(row) == row_length and all(isinstance(i,int) for i in row) for row in x)\n",
        "\n",
        "\n",
        "# Function to add two matrices of equal dimension\n",
        "def add_mat(x,y):\n",
        "\n",
        "  \"\"\"Returns the sum of two matrices if the two matrices are of equal dimension.Returns None if the matrices are not equal\"\"\"\n",
        "  if ismatrix(x) and ismatrix(y):\n",
        "    if len(x) != len(y) or len(x[0]) != len(y[0]):\n",
        "      print(\"Error: The matrices must have same dimesions\")\n",
        "      return\n",
        "    else:\n",
        "        new_mat = []\n",
        "        for i in range(len(x)):\n",
        "          a = []\n",
        "          for m,n in zip(x[i],y[i]):\n",
        "            a.append(m+n)\n",
        "          new_mat.append(a)\n",
        "        return new_mat\n",
        "  else:\n",
        "    print(\"Invalid input! Please check your matrices\")\n",
        "\n",
        "m3 = add_mat(m1,m2)\n",
        "print(f\"m1 + m2 = {m3}\")\n"
      ],
      "metadata": {
        "colab": {
          "base_uri": "https://localhost:8080/"
        },
        "id": "UDR_KYFvoscA",
        "outputId": "46882db5-306c-45e2-99c4-33b3b95c33a3"
      },
      "execution_count": 1,
      "outputs": [
        {
          "output_type": "stream",
          "name": "stdout",
          "text": [
            "Enter the number of rows: 2\n",
            "Enter the number of columns: 2\n",
            "Enter the elements for row 1 separated by spaces: 1 2\n",
            "Enter the elements for row 2 separated by spaces: 3 4\n",
            "Enter the number of rows: 2\n",
            "Enter the number of columns: 2\n",
            "Enter the elements for row 1 separated by spaces: 5 6\n",
            "Enter the elements for row 2 separated by spaces: 7 8\n",
            "m1 = [[1, 2], [3, 4]]\n",
            "m2 = [[5, 6], [7, 8]]\n",
            "m1 + m2 = [[6, 8], [10, 12]]\n"
          ]
        }
      ]
    },
    {
      "cell_type": "markdown",
      "source": [
        "**2**. Write a Python Program to Multiply Two Matrices?"
      ],
      "metadata": {
        "id": "LIlIZvFUxbjJ"
      }
    },
    {
      "cell_type": "code",
      "source": [
        "def ismatrix(x):\n",
        "  \"\"\"Returns True is given input is a matrix\"\"\"\n",
        "  if isinstance(x,list) and len(x) > 0:\n",
        "    row_length = len(x[0])\n",
        "    return all(isinstance(row,list) and len(row) == row_length and all(isinstance(i,int) for i in row) for row in x)\n",
        "\n",
        "\n",
        "def matrix_mul(A,B):\n",
        "\n",
        "  if ismatrix(A) and ismatrix(B):\n",
        "\n",
        "    # Get matrix dimensions\n",
        "    rows_A = len(A)\n",
        "    cols_A = len(A[0])\n",
        "    rows_B = len(B)\n",
        "    cols_B = len(B[0])\n",
        "\n",
        "    C = [[0 for i in range(cols_A)] for j in range(rows_B)]\n",
        "\n",
        "    if cols_A != rows_B:\n",
        "      print(\"Error: Incompatible matrices. The number of columns in the first matrix must be equal to the number of rows in the second matrix.\")\n",
        "      return\n",
        "\n",
        "    for i in range(rows_A):\n",
        "      for j in range(cols_B):\n",
        "        for k in range(cols_A):\n",
        "          C[i][j] += A[i][k] * B[k][j]\n",
        "\n",
        "    return C\n",
        "\n",
        "# Example matrices\n",
        "A = [[1, 2], [3, 4]]\n",
        "B = [[5, 6], [7, 8]]\n",
        "\n",
        "# Multiply matrices\n",
        "result = matrix_mul(A, B)\n",
        "\n",
        "# Print result\n",
        "print(f\"A x B = {result}\")\n"
      ],
      "metadata": {
        "colab": {
          "base_uri": "https://localhost:8080/"
        },
        "id": "-GIRMK2OC4I8",
        "outputId": "36a46e5f-27fe-4c1c-b0d1-3fc23b569319"
      },
      "execution_count": 2,
      "outputs": [
        {
          "output_type": "stream",
          "name": "stdout",
          "text": [
            "A x B = [[19, 22], [43, 50]]\n"
          ]
        }
      ]
    },
    {
      "cell_type": "markdown",
      "source": [
        "**3**. Write a Python Program to Transpose a Matrix?"
      ],
      "metadata": {
        "id": "7AlnORjtxfxr"
      }
    },
    {
      "cell_type": "code",
      "source": [
        "A = [[1,2],[3,4],[5,6]]\n",
        "\n",
        "rows_A = len(A)\n",
        "cols_A = len(A[0])\n",
        "\n",
        "C = [[0 for i in range(rows_A)] for i in range(cols_A)]\n",
        "\n",
        "for i in range(cols_A):\n",
        "  for j in range(rows_A):\n",
        "    C[i][j] = A[j][i]\n",
        "\n",
        "print(f\"Transpose of {A} is {C}\")\n"
      ],
      "metadata": {
        "colab": {
          "base_uri": "https://localhost:8080/"
        },
        "id": "1vtRig8fIvhL",
        "outputId": "22cccbd8-85a1-4bc6-c350-daf03c6ef58f"
      },
      "execution_count": null,
      "outputs": [
        {
          "output_type": "stream",
          "name": "stdout",
          "text": [
            "Transpose of [[1, 2], [3, 4], [5, 6]] is [[1, 3, 5], [2, 4, 6]]\n"
          ]
        }
      ]
    },
    {
      "cell_type": "markdown",
      "source": [
        "**4**. Write a Python Program to Sort Words in Alphabetic Order?"
      ],
      "metadata": {
        "id": "80aD1YJZ-UzE"
      }
    },
    {
      "cell_type": "code",
      "source": [
        "s = \"I am studying Data Science\"\n",
        "s = s.split()\n",
        "\n",
        "for i in range(len(s)):\n",
        "  for j in range(i+1,len(s)):\n",
        "    if ord(s[i][0].lower()) > ord(s[j][0].lower()):\n",
        "      s[i],s[j] = s[j],s[i]\n",
        "\n",
        "print(s)"
      ],
      "metadata": {
        "colab": {
          "base_uri": "https://localhost:8080/"
        },
        "id": "IJufu1vD3z7t",
        "outputId": "827c0b76-8a9b-44e7-815e-4f615467ec2f"
      },
      "execution_count": 3,
      "outputs": [
        {
          "output_type": "stream",
          "name": "stdout",
          "text": [
            "['am', 'Data', 'I', 'studying', 'Science']\n"
          ]
        }
      ]
    },
    {
      "cell_type": "markdown",
      "source": [
        "**5**. Write a Python Program to Remove Punctuation From a String?"
      ],
      "metadata": {
        "id": "pXrebesdTsOz"
      }
    },
    {
      "cell_type": "code",
      "source": [
        "import string\n",
        "\n",
        "para = \"\"\"Wow, what a day!\" exclaimed John, throwing his hands up in the air.\n",
        "\"\"First, I overslept and missed my train; then, I spilled coffee all over my shirt.\n",
        "And to top it all off, I left my phone at home!\" He shook his head and laughed.\n",
        "\"At least it can't get any worse, right?\"\"\"\n",
        "\n",
        "for i in para:\n",
        "  if i in string.punctuation:\n",
        "    para = para.replace(i,\"\")\n",
        "\n",
        "print(para)"
      ],
      "metadata": {
        "colab": {
          "base_uri": "https://localhost:8080/"
        },
        "id": "4vmT9KJr-j7E",
        "outputId": "0eab4f2f-aed5-4473-8d22-d1d1b0b40101"
      },
      "execution_count": 4,
      "outputs": [
        {
          "output_type": "stream",
          "name": "stdout",
          "text": [
            "Wow what a day exclaimed John throwing his hands up in the air\n",
            "First I overslept and missed my train then I spilled coffee all over my shirt\n",
            "And to top it all off I left my phone at home He shook his head and laughed\n",
            "At least it cant get any worse right\n"
          ]
        }
      ]
    }
  ]
}