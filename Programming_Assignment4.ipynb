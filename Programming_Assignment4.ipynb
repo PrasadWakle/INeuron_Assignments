{
  "nbformat": 4,
  "nbformat_minor": 0,
  "metadata": {
    "colab": {
      "provenance": [],
      "authorship_tag": "ABX9TyNTV0Gh6b0uvgN+2/w1+i4a",
      "include_colab_link": true
    },
    "kernelspec": {
      "name": "python3",
      "display_name": "Python 3"
    },
    "language_info": {
      "name": "python"
    }
  },
  "cells": [
    {
      "cell_type": "markdown",
      "metadata": {
        "id": "view-in-github",
        "colab_type": "text"
      },
      "source": [
        "<a href=\"https://colab.research.google.com/github/PrasadWakle/INeuron_Assignments/blob/master/Programming_Assignment4.ipynb\" target=\"_parent\"><img src=\"https://colab.research.google.com/assets/colab-badge.svg\" alt=\"Open In Colab\"/></a>"
      ]
    },
    {
      "cell_type": "markdown",
      "source": [
        "1. Write a Python Program to Find the Factorial of a Number?"
      ],
      "metadata": {
        "id": "gLU0Tejwplfk"
      }
    },
    {
      "cell_type": "code",
      "source": [
        "#By using factorial function from math module\n",
        "import math\n",
        "\n",
        "n = int(input(\"Enter a number:\"))\n",
        "\n",
        "print(math.factorial(n))"
      ],
      "metadata": {
        "colab": {
          "base_uri": "https://localhost:8080/"
        },
        "id": "_oJz3z9kpoaX",
        "outputId": "687a19a9-a78e-45ee-f5af-bdf287fe824c"
      },
      "execution_count": null,
      "outputs": [
        {
          "output_type": "stream",
          "name": "stdout",
          "text": [
            "Enter a number:4\n",
            "24\n"
          ]
        }
      ]
    },
    {
      "cell_type": "code",
      "source": [
        "# Without using an inbuilt method\n",
        "n = int(input(\"Enter a number:\"))\n",
        "\n",
        "result = 1\n",
        "\n",
        "for i in range(1,n+1):\n",
        "  result*= i\n",
        "\n",
        "print(result)"
      ],
      "metadata": {
        "colab": {
          "base_uri": "https://localhost:8080/"
        },
        "id": "Lp63O_TfqVIf",
        "outputId": "9ed9f25f-ca66-4aed-d0e4-fdabd3361b8d"
      },
      "execution_count": null,
      "outputs": [
        {
          "output_type": "stream",
          "name": "stdout",
          "text": [
            "Enter a number:4\n",
            "24\n"
          ]
        }
      ]
    },
    {
      "cell_type": "code",
      "source": [
        "# Another method\n",
        "n = int(input(\"Enter a number:\"))\n",
        "\n",
        "result = n\n",
        "\n",
        "for i in range(n-1,1,-1):\n",
        "  result*=i\n",
        "\n",
        "print(result)"
      ],
      "metadata": {
        "colab": {
          "base_uri": "https://localhost:8080/"
        },
        "id": "VutKr5syqaHM",
        "outputId": "820dfbc3-f911-4f61-e1f0-f55a593b0ab9"
      },
      "execution_count": null,
      "outputs": [
        {
          "output_type": "stream",
          "name": "stdout",
          "text": [
            "Enter a number:4\n",
            "24\n"
          ]
        }
      ]
    },
    {
      "cell_type": "markdown",
      "source": [
        "2. Write a Python Program to Display the multiplication Table?"
      ],
      "metadata": {
        "id": "-uqx5OdvyA8X"
      }
    },
    {
      "cell_type": "code",
      "source": [
        "n = int(input(\"Enter a number:\"))\n",
        "\n",
        "for i in range(1,11):\n",
        "  print(f\"{n} x {i} = {n*i}\")"
      ],
      "metadata": {
        "colab": {
          "base_uri": "https://localhost:8080/"
        },
        "id": "8HYoaATKxrzC",
        "outputId": "f2771824-89da-4831-9733-c260f472e2cf"
      },
      "execution_count": null,
      "outputs": [
        {
          "output_type": "stream",
          "name": "stdout",
          "text": [
            "Enter a number:2\n",
            "2 x 1 = 2\n",
            "2 x 2 = 4\n",
            "2 x 3 = 6\n",
            "2 x 4 = 8\n",
            "2 x 5 = 10\n",
            "2 x 6 = 12\n",
            "2 x 7 = 14\n",
            "2 x 8 = 16\n",
            "2 x 9 = 18\n",
            "2 x 10 = 20\n"
          ]
        }
      ]
    },
    {
      "cell_type": "markdown",
      "source": [
        "3. Write a Python Program to Print the Fibonacci sequence?"
      ],
      "metadata": {
        "id": "bfEgcARiyzL6"
      }
    },
    {
      "cell_type": "code",
      "source": [
        "n = int(input(\"Enter a number:\"))\n",
        "\n",
        "a,b = 0,1\n",
        "\n",
        "for i in range(0,n+1):\n",
        "  print(a)\n",
        "  a,b = b,a+b\n"
      ],
      "metadata": {
        "colab": {
          "base_uri": "https://localhost:8080/"
        },
        "id": "SDNdtGSmyf4u",
        "outputId": "57e4ee94-b926-40fb-df07-10d88bb956e1"
      },
      "execution_count": null,
      "outputs": [
        {
          "output_type": "stream",
          "name": "stdout",
          "text": [
            "Enter a number:5\n",
            "0\n",
            "1\n",
            "1\n",
            "2\n",
            "3\n",
            "5\n"
          ]
        }
      ]
    },
    {
      "cell_type": "markdown",
      "source": [
        "4. Write a Python Program to Check Armstrong Number?"
      ],
      "metadata": {
        "id": "Esir6WLu4djS"
      }
    },
    {
      "cell_type": "code",
      "source": [
        "n = input(\"Enter a number:\")\n",
        "x = 0\n",
        "a = [int(i) for i in n]\n",
        "\n",
        "for i in a:\n",
        "  x += (i**len(a))\n",
        "\n",
        "if x == int(n):\n",
        "  print(\"Armstrong Number\")\n",
        "\n",
        "else:\n",
        "  print(\"Not Armstrong Number\")"
      ],
      "metadata": {
        "id": "HWkZ5H1J0CxF",
        "colab": {
          "base_uri": "https://localhost:8080/"
        },
        "outputId": "4185c6cb-dede-4a3a-8f34-7bbc09fdeb9a"
      },
      "execution_count": 2,
      "outputs": [
        {
          "output_type": "stream",
          "name": "stdout",
          "text": [
            "Enter a number:370\n",
            "Armstrong Number\n"
          ]
        }
      ]
    },
    {
      "cell_type": "markdown",
      "source": [
        "5. Write a Python Program to Find Armstrong Number in an Interval?"
      ],
      "metadata": {
        "id": "A4lF_sCyOFFH"
      }
    },
    {
      "cell_type": "code",
      "source": [
        "start = int(input(\"Enter a start number:\"))\n",
        "end = int(input(\"Enter a end number:\"))\n",
        "\n",
        "for i in range(start,end+1):\n",
        "  arm_numm = [int(j) for j in str(i)]\n",
        "  sum = 0\n",
        "  for k in arm_numm:\n",
        "    sum += k ** len(arm_numm)\n",
        "\n",
        "  if sum == i:\n",
        "    print(i, end = \" \")\n"
      ],
      "metadata": {
        "id": "HqW0rRpi6iI3",
        "colab": {
          "base_uri": "https://localhost:8080/"
        },
        "outputId": "f62d8c2b-cbbd-4b35-bb18-cc43c5c0e74c"
      },
      "execution_count": 4,
      "outputs": [
        {
          "output_type": "stream",
          "name": "stdout",
          "text": [
            "Enter a start number:1\n",
            "Enter a end number:1000\n",
            "1 2 3 4 5 6 7 8 9 153 370 371 407 "
          ]
        }
      ]
    },
    {
      "cell_type": "markdown",
      "source": [
        "6. Write a Python Program to Find the Sum of Natural Numbers?"
      ],
      "metadata": {
        "id": "oDePqN5ETzsi"
      }
    },
    {
      "cell_type": "code",
      "source": [
        "n = int(input(\"Enter a number:\"))\n",
        "\n",
        "sum = 0\n",
        "\n",
        "for i in range(1,n+1):\n",
        "  sum += i\n",
        "\n",
        "print(f\"The sum of first {n} natural numbers is {sum}\")"
      ],
      "metadata": {
        "colab": {
          "base_uri": "https://localhost:8080/"
        },
        "id": "EGWBd_vRIuuK",
        "outputId": "0e15ec9e-cadb-4cd9-a584-8db36f37d049"
      },
      "execution_count": 5,
      "outputs": [
        {
          "output_type": "stream",
          "name": "stdout",
          "text": [
            "Enter a number:5\n",
            "The sum of first 5 natural numbers is 15\n"
          ]
        }
      ]
    }
  ]
}