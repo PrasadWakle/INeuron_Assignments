{
  "nbformat": 4,
  "nbformat_minor": 0,
  "metadata": {
    "colab": {
      "provenance": [],
      "authorship_tag": "ABX9TyN3Yk1t+5SUBowfwqNh5nsO",
      "include_colab_link": true
    },
    "kernelspec": {
      "name": "python3",
      "display_name": "Python 3"
    },
    "language_info": {
      "name": "python"
    }
  },
  "cells": [
    {
      "cell_type": "markdown",
      "metadata": {
        "id": "view-in-github",
        "colab_type": "text"
      },
      "source": [
        "<a href=\"https://colab.research.google.com/github/PrasadWakle/INeuron_Assignments/blob/master/Programming_Assignment4.ipynb\" target=\"_parent\"><img src=\"https://colab.research.google.com/assets/colab-badge.svg\" alt=\"Open In Colab\"/></a>"
      ]
    },
    {
      "cell_type": "markdown",
      "source": [
        "1. Write a Python Program to Find the Factorial of a Number?"
      ],
      "metadata": {
        "id": "gLU0Tejwplfk"
      }
    },
    {
      "cell_type": "code",
      "source": [
        "#By using factorial function from math module\n",
        "import math\n",
        "\n",
        "n = int(input(\"Enter a number:\"))\n",
        "\n",
        "print(math.factorial(n))"
      ],
      "metadata": {
        "colab": {
          "base_uri": "https://localhost:8080/"
        },
        "id": "_oJz3z9kpoaX",
        "outputId": "687a19a9-a78e-45ee-f5af-bdf287fe824c"
      },
      "execution_count": null,
      "outputs": [
        {
          "output_type": "stream",
          "name": "stdout",
          "text": [
            "Enter a number:4\n",
            "24\n"
          ]
        }
      ]
    },
    {
      "cell_type": "code",
      "source": [
        "# Without using an inbuilt method\n",
        "n = int(input(\"Enter a number:\"))\n",
        "\n",
        "result = 1\n",
        "\n",
        "for i in range(1,n+1):\n",
        "  result*= i\n",
        "\n",
        "print(result)"
      ],
      "metadata": {
        "colab": {
          "base_uri": "https://localhost:8080/"
        },
        "id": "Lp63O_TfqVIf",
        "outputId": "9ed9f25f-ca66-4aed-d0e4-fdabd3361b8d"
      },
      "execution_count": 27,
      "outputs": [
        {
          "output_type": "stream",
          "name": "stdout",
          "text": [
            "Enter a number:4\n",
            "24\n"
          ]
        }
      ]
    },
    {
      "cell_type": "code",
      "source": [
        "# Another method\n",
        "n = int(input(\"Enter a number:\"))\n",
        "\n",
        "result = n\n",
        "\n",
        "for i in range(n-1,1,-1):\n",
        "  result*=i\n",
        "\n",
        "print(result)"
      ],
      "metadata": {
        "colab": {
          "base_uri": "https://localhost:8080/"
        },
        "id": "VutKr5syqaHM",
        "outputId": "820dfbc3-f911-4f61-e1f0-f55a593b0ab9"
      },
      "execution_count": null,
      "outputs": [
        {
          "output_type": "stream",
          "name": "stdout",
          "text": [
            "Enter a number:4\n",
            "24\n"
          ]
        }
      ]
    },
    {
      "cell_type": "markdown",
      "source": [
        "2. Write a Python Program to Display the multiplication Table?"
      ],
      "metadata": {
        "id": "-uqx5OdvyA8X"
      }
    },
    {
      "cell_type": "code",
      "source": [
        "n = int(input(\"Enter a number:\"))\n",
        "\n",
        "for i in range(1,11):\n",
        "  print(f\"{n} x {i} = {n*i}\")"
      ],
      "metadata": {
        "colab": {
          "base_uri": "https://localhost:8080/"
        },
        "id": "8HYoaATKxrzC",
        "outputId": "f2771824-89da-4831-9733-c260f472e2cf"
      },
      "execution_count": null,
      "outputs": [
        {
          "output_type": "stream",
          "name": "stdout",
          "text": [
            "Enter a number:2\n",
            "2 x 1 = 2\n",
            "2 x 2 = 4\n",
            "2 x 3 = 6\n",
            "2 x 4 = 8\n",
            "2 x 5 = 10\n",
            "2 x 6 = 12\n",
            "2 x 7 = 14\n",
            "2 x 8 = 16\n",
            "2 x 9 = 18\n",
            "2 x 10 = 20\n"
          ]
        }
      ]
    },
    {
      "cell_type": "markdown",
      "source": [
        "3. Write a Python Program to Print the Fibonacci sequence?"
      ],
      "metadata": {
        "id": "bfEgcARiyzL6"
      }
    },
    {
      "cell_type": "code",
      "source": [
        "n = int(input(\"Enter a number:\"))\n",
        "\n",
        "a,b = 0,1\n",
        "\n",
        "for i in range(0,n+1):\n",
        "  print(a)\n",
        "  a,b = b,a+b\n"
      ],
      "metadata": {
        "colab": {
          "base_uri": "https://localhost:8080/"
        },
        "id": "SDNdtGSmyf4u",
        "outputId": "57e4ee94-b926-40fb-df07-10d88bb956e1"
      },
      "execution_count": null,
      "outputs": [
        {
          "output_type": "stream",
          "name": "stdout",
          "text": [
            "Enter a number:5\n",
            "0\n",
            "1\n",
            "1\n",
            "2\n",
            "3\n",
            "5\n"
          ]
        }
      ]
    },
    {
      "cell_type": "markdown",
      "source": [
        "4. Write a Python Program to Check Armstrong Number?"
      ],
      "metadata": {
        "id": "Esir6WLu4djS"
      }
    },
    {
      "cell_type": "code",
      "source": [
        "n = input(\"Enter a number:\")\n",
        "x = 0\n",
        "a = []\n",
        "\n",
        "for i in n:\n",
        "  a.append(int(i))\n",
        "\n",
        "for i in range(len(a)):\n",
        "  x += (a[i]**len(a))\n",
        "\n",
        "if x == int(n):\n",
        "  print(\"Armstrong Number\")\n",
        "\n",
        "else:\n",
        "  print(\"Not Armstrong Number\")"
      ],
      "metadata": {
        "id": "HWkZ5H1J0CxF",
        "colab": {
          "base_uri": "https://localhost:8080/"
        },
        "outputId": "19b2ce91-8639-4242-ad35-d2fbf5f3e440"
      },
      "execution_count": 23,
      "outputs": [
        {
          "output_type": "stream",
          "name": "stdout",
          "text": [
            "Enter a number:4210818\n",
            "Armstrong Number\n"
          ]
        }
      ]
    },
    {
      "cell_type": "markdown",
      "source": [
        "5. Write a Python Program to Find Armstrong Number in an Interval?"
      ],
      "metadata": {
        "id": "A4lF_sCyOFFH"
      }
    },
    {
      "cell_type": "code",
      "source": [
        "import math\n",
        "n = int(input(\"Enter a number:\"))\n",
        "\n",
        "for i in range(1,n):\n",
        "    a = int(math.log10(i) + 1)\n",
        "    sum=0\n",
        "    temp = i\n",
        "    while temp > 0:\n",
        "      digit = temp % 10\n",
        "      sum+= math.pow(digit,a)\n",
        "      temp//=10\n",
        "\n",
        "    if sum == i:\n",
        "      print(i, end=\" \")\n",
        ""
      ],
      "metadata": {
        "id": "HqW0rRpi6iI3",
        "colab": {
          "base_uri": "https://localhost:8080/"
        },
        "outputId": "83a17a19-3ef9-4786-e26a-689dceab01ba"
      },
      "execution_count": 68,
      "outputs": [
        {
          "output_type": "stream",
          "name": "stdout",
          "text": [
            "Enter a number:300\n",
            "1 2 3 4 5 6 7 8 9 153 "
          ]
        }
      ]
    },
    {
      "cell_type": "markdown",
      "source": [
        "6. Write a Python Program to Find the Sum of Natural Numbers?"
      ],
      "metadata": {
        "id": "oDePqN5ETzsi"
      }
    },
    {
      "cell_type": "code",
      "source": [
        "n = int(input(\"Enter a number:\"))\n",
        "\n",
        "sum = 0\n",
        "\n",
        "for i in range(1,n+1):\n",
        "  sum += i\n",
        "\n",
        "print(sum)"
      ],
      "metadata": {
        "colab": {
          "base_uri": "https://localhost:8080/"
        },
        "id": "EGWBd_vRIuuK",
        "outputId": "756f5fc2-6c88-4dd3-d6a3-f52cdc66aad6"
      },
      "execution_count": 70,
      "outputs": [
        {
          "output_type": "stream",
          "name": "stdout",
          "text": [
            "Enter a number:5\n",
            "15\n"
          ]
        }
      ]
    }
  ]
}